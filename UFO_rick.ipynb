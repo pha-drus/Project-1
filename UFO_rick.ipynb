{
 "cells": [
  {
   "cell_type": "code",
   "execution_count": 405,
   "id": "d5db2daa-3704-417e-96e4-ec0e659bc61e",
   "metadata": {},
   "outputs": [],
   "source": [
    "## which state has the most sightings? over time?\n",
    "## most frequent shape by state?\n",
    "## timeline changes? trends?\n",
    "## sighting density around airports/afb"
   ]
  },
  {
   "cell_type": "code",
   "execution_count": null,
   "id": "5d9e1595-1b4f-48e1-bf65-4d83f388772a",
   "metadata": {},
   "outputs": [],
   "source": []
  },
  {
   "cell_type": "code",
   "execution_count": 406,
   "id": "970f348a-9531-4fef-996f-a04b00bd9b40",
   "metadata": {},
   "outputs": [],
   "source": [
    "import os\n",
    "import pandas as pd\n",
    "import json\n",
    "import requests\n",
    "import matplotlib.pyplot as plt\n",
    "import numpy as np\n",
    "import scipy.stats as st"
   ]
  },
  {
   "cell_type": "code",
   "execution_count": 553,
   "id": "3d01ee03-63cb-40c4-a856-f877b0e55f8c",
   "metadata": {},
   "outputs": [],
   "source": [
    "states = {\n",
    "        'ak': 'Alaska',\n",
    "        'al': 'Alabama',\n",
    "        'ar': 'Arkansas',\n",
    "        'as': 'American Samoa',\n",
    "        'az': 'Arizona',\n",
    "        'ca': 'California',\n",
    "        'co': 'Colorado',\n",
    "        'ct': 'Connecticut',\n",
    "        'dc': 'District of Columbia',\n",
    "        'de': 'Delaware',\n",
    "        'fl': 'Florida',\n",
    "        'ga': 'Georgia',\n",
    "        'gu': 'Guam',\n",
    "        'hi': 'Hawaii',\n",
    "        'ia': 'Iowa',\n",
    "        'id': 'Idaho',\n",
    "        'il': 'Illinois',\n",
    "        'in': 'Indiana',\n",
    "        'ks': 'Kansas',\n",
    "        'ky': 'Kentucky',\n",
    "        'la': 'Louisiana',\n",
    "        'ma': 'Massachusetts',\n",
    "        'md': 'Maryland',\n",
    "        'me': 'Maine',\n",
    "        'mi': 'Michigan',\n",
    "        'mn': 'Minnesota',\n",
    "        'mo': 'Missouri',\n",
    "        'mp': 'Northern Mariana Islands',\n",
    "        'ms': 'Mississippi',\n",
    "        'mt': 'Montana',\n",
    "        'na': 'National',\n",
    "        'nc': 'North Carolina',\n",
    "        'nd': 'North Dakota',\n",
    "        'ne': 'Nebraska',\n",
    "        'nh': 'New Hampshire',\n",
    "        'nj': 'New Jersey',\n",
    "        'nm': 'New Mexico',\n",
    "        'nv': 'Nevada',\n",
    "        'ny': 'New York',\n",
    "        'oh': 'Ohio',\n",
    "        'ok': 'Oklahoma',\n",
    "        'or': 'Oregon',\n",
    "        'pa': 'Pennsylvania',\n",
    "        'pr': 'Puerto Rico',\n",
    "        'ri': 'Rhode Island',\n",
    "        'sc': 'South Carolina',\n",
    "        'sd': 'South Dakota',\n",
    "        'tn': 'Tennessee',\n",
    "        'tx': 'Texas',\n",
    "        'ut': 'Utah',\n",
    "        'va': 'Virginia',\n",
    "        'vi': 'Virgin Islands',\n",
    "        'vt': 'Vermont',\n",
    "        'wa': 'Washington',\n",
    "        'wi': 'Wisconsin',\n",
    "        'wv': 'West Virginia',\n",
    "        'wy': 'Wyoming'\n",
    "}\n",
    "\n",
    "regions = {\n",
    "        'Midwest Region\n",
    "        'Northeast Region\n",
    "        'South Region\n",
    "        'West Region\n",
    "        '\n"
   ]
  },
  {
   "cell_type": "code",
   "execution_count": 583,
   "id": "55495f76-4992-4449-902c-0dc84a1c35df",
   "metadata": {},
   "outputs": [],
   "source": [
    "ufo_df = pd.read_csv('resources/ufo2.csv', low_memory=False)\n",
    "pop_df = pd.read_csv('resources/apportionment.csv')"
   ]
  },
  {
   "cell_type": "code",
   "execution_count": 584,
   "id": "79571b80-d20b-4fa8-8ead-e5abebabfc42",
   "metadata": {},
   "outputs": [
    {
     "data": {
      "text/html": [
       "<div>\n",
       "<style scoped>\n",
       "    .dataframe tbody tr th:only-of-type {\n",
       "        vertical-align: middle;\n",
       "    }\n",
       "\n",
       "    .dataframe tbody tr th {\n",
       "        vertical-align: top;\n",
       "    }\n",
       "\n",
       "    .dataframe thead th {\n",
       "        text-align: right;\n",
       "    }\n",
       "</style>\n",
       "<table border=\"1\" class=\"dataframe\">\n",
       "  <thead>\n",
       "    <tr style=\"text-align: right;\">\n",
       "      <th></th>\n",
       "      <th>Name</th>\n",
       "      <th>Geography Type</th>\n",
       "      <th>Year</th>\n",
       "      <th>Resident Population</th>\n",
       "      <th>Percent Change in Resident Population</th>\n",
       "      <th>Resident Population Density</th>\n",
       "      <th>Resident Population Density Rank</th>\n",
       "      <th>Number of Representatives</th>\n",
       "      <th>Change in Number of Representatives</th>\n",
       "      <th>Average Apportionment Population Per Representative</th>\n",
       "    </tr>\n",
       "  </thead>\n",
       "  <tbody>\n",
       "    <tr>\n",
       "      <th>0</th>\n",
       "      <td>Alabama</td>\n",
       "      <td>State</td>\n",
       "      <td>1910</td>\n",
       "      <td>2,138,093</td>\n",
       "      <td>16.9</td>\n",
       "      <td>42.2</td>\n",
       "      <td>25.0</td>\n",
       "      <td>10.0</td>\n",
       "      <td>1.0</td>\n",
       "      <td>213,809</td>\n",
       "    </tr>\n",
       "    <tr>\n",
       "      <th>1</th>\n",
       "      <td>Alaska</td>\n",
       "      <td>State</td>\n",
       "      <td>1910</td>\n",
       "      <td>64,356</td>\n",
       "      <td>1.2</td>\n",
       "      <td>0.1</td>\n",
       "      <td>52.0</td>\n",
       "      <td>NaN</td>\n",
       "      <td>NaN</td>\n",
       "      <td>NaN</td>\n",
       "    </tr>\n",
       "    <tr>\n",
       "      <th>2</th>\n",
       "      <td>Arizona</td>\n",
       "      <td>State</td>\n",
       "      <td>1910</td>\n",
       "      <td>204,354</td>\n",
       "      <td>66.2</td>\n",
       "      <td>1.8</td>\n",
       "      <td>49.0</td>\n",
       "      <td>NaN</td>\n",
       "      <td>NaN</td>\n",
       "      <td>NaN</td>\n",
       "    </tr>\n",
       "    <tr>\n",
       "      <th>3</th>\n",
       "      <td>Arkansas</td>\n",
       "      <td>State</td>\n",
       "      <td>1910</td>\n",
       "      <td>1,574,449</td>\n",
       "      <td>20.0</td>\n",
       "      <td>30.3</td>\n",
       "      <td>30.0</td>\n",
       "      <td>7.0</td>\n",
       "      <td>0.0</td>\n",
       "      <td>224,921</td>\n",
       "    </tr>\n",
       "    <tr>\n",
       "      <th>4</th>\n",
       "      <td>California</td>\n",
       "      <td>State</td>\n",
       "      <td>1910</td>\n",
       "      <td>2,377,549</td>\n",
       "      <td>60.1</td>\n",
       "      <td>15.3</td>\n",
       "      <td>38.0</td>\n",
       "      <td>11.0</td>\n",
       "      <td>3.0</td>\n",
       "      <td>216,051</td>\n",
       "    </tr>\n",
       "  </tbody>\n",
       "</table>\n",
       "</div>"
      ],
      "text/plain": [
       "         Name Geography Type  Year Resident Population  \\\n",
       "0     Alabama          State  1910           2,138,093   \n",
       "1      Alaska          State  1910              64,356   \n",
       "2     Arizona          State  1910             204,354   \n",
       "3    Arkansas          State  1910           1,574,449   \n",
       "4  California          State  1910           2,377,549   \n",
       "\n",
       "   Percent Change in Resident Population Resident Population Density  \\\n",
       "0                                   16.9                        42.2   \n",
       "1                                    1.2                         0.1   \n",
       "2                                   66.2                         1.8   \n",
       "3                                   20.0                        30.3   \n",
       "4                                   60.1                        15.3   \n",
       "\n",
       "   Resident Population Density Rank  Number of Representatives  \\\n",
       "0                              25.0                       10.0   \n",
       "1                              52.0                        NaN   \n",
       "2                              49.0                        NaN   \n",
       "3                              30.0                        7.0   \n",
       "4                              38.0                       11.0   \n",
       "\n",
       "   Change in Number of Representatives  \\\n",
       "0                                  1.0   \n",
       "1                                  NaN   \n",
       "2                                  NaN   \n",
       "3                                  0.0   \n",
       "4                                  3.0   \n",
       "\n",
       "  Average Apportionment Population Per Representative  \n",
       "0                                            213,809   \n",
       "1                                                NaN   \n",
       "2                                                NaN   \n",
       "3                                            224,921   \n",
       "4                                            216,051   "
      ]
     },
     "execution_count": 584,
     "metadata": {},
     "output_type": "execute_result"
    }
   ],
   "source": [
    "pop_df.head()"
   ]
  },
  {
   "cell_type": "code",
   "execution_count": 585,
   "id": "5fc2704a-86e7-4f8d-bd1f-42768dc285a6",
   "metadata": {},
   "outputs": [],
   "source": [
    "pop_df.drop(['Geography Type', \n",
    "             'Percent Change in Resident Population', \n",
    "             'Resident Population Density', \n",
    "             'Resident Population Density Rank', \n",
    "             'Number of Representatives', \n",
    "             'Change in Number of Representatives', \n",
    "             'Average Apportionment Population Per Representative'], axis=1, inplace=True)"
   ]
  },
  {
   "cell_type": "code",
   "execution_count": 586,
   "id": "0209cdb1-b7a2-4fc9-8cc9-07427fa532aa",
   "metadata": {},
   "outputs": [
    {
     "data": {
      "text/html": [
       "<div>\n",
       "<style scoped>\n",
       "    .dataframe tbody tr th:only-of-type {\n",
       "        vertical-align: middle;\n",
       "    }\n",
       "\n",
       "    .dataframe tbody tr th {\n",
       "        vertical-align: top;\n",
       "    }\n",
       "\n",
       "    .dataframe thead th {\n",
       "        text-align: right;\n",
       "    }\n",
       "</style>\n",
       "<table border=\"1\" class=\"dataframe\">\n",
       "  <thead>\n",
       "    <tr style=\"text-align: right;\">\n",
       "      <th></th>\n",
       "      <th>Name</th>\n",
       "      <th>Year</th>\n",
       "      <th>Resident Population</th>\n",
       "    </tr>\n",
       "  </thead>\n",
       "  <tbody>\n",
       "    <tr>\n",
       "      <th>0</th>\n",
       "      <td>Alabama</td>\n",
       "      <td>1910</td>\n",
       "      <td>2,138,093</td>\n",
       "    </tr>\n",
       "    <tr>\n",
       "      <th>1</th>\n",
       "      <td>Alaska</td>\n",
       "      <td>1910</td>\n",
       "      <td>64,356</td>\n",
       "    </tr>\n",
       "    <tr>\n",
       "      <th>2</th>\n",
       "      <td>Arizona</td>\n",
       "      <td>1910</td>\n",
       "      <td>204,354</td>\n",
       "    </tr>\n",
       "    <tr>\n",
       "      <th>3</th>\n",
       "      <td>Arkansas</td>\n",
       "      <td>1910</td>\n",
       "      <td>1,574,449</td>\n",
       "    </tr>\n",
       "    <tr>\n",
       "      <th>4</th>\n",
       "      <td>California</td>\n",
       "      <td>1910</td>\n",
       "      <td>2,377,549</td>\n",
       "    </tr>\n",
       "  </tbody>\n",
       "</table>\n",
       "</div>"
      ],
      "text/plain": [
       "         Name  Year Resident Population\n",
       "0     Alabama  1910           2,138,093\n",
       "1      Alaska  1910              64,356\n",
       "2     Arizona  1910             204,354\n",
       "3    Arkansas  1910           1,574,449\n",
       "4  California  1910           2,377,549"
      ]
     },
     "execution_count": 586,
     "metadata": {},
     "output_type": "execute_result"
    }
   ],
   "source": [
    "pop_df.head()"
   ]
  },
  {
   "cell_type": "code",
   "execution_count": 587,
   "id": "bb8012eb-afef-4151-872f-05d614448c92",
   "metadata": {},
   "outputs": [
    {
     "name": "stdout",
     "output_type": "stream",
     "text": [
      "This csv has 70388 rows and 12 columns\n"
     ]
    }
   ],
   "source": [
    "nRow, nCol = ufo_df.shape\n",
    "print(f'This csv has {nRow} rows and {nCol} columns')"
   ]
  },
  {
   "cell_type": "code",
   "execution_count": 588,
   "id": "aedf0ff5-4cd3-42e2-a145-c12863018678",
   "metadata": {},
   "outputs": [
    {
     "data": {
      "text/html": [
       "<div>\n",
       "<style scoped>\n",
       "    .dataframe tbody tr th:only-of-type {\n",
       "        vertical-align: middle;\n",
       "    }\n",
       "\n",
       "    .dataframe tbody tr th {\n",
       "        vertical-align: top;\n",
       "    }\n",
       "\n",
       "    .dataframe thead th {\n",
       "        text-align: right;\n",
       "    }\n",
       "</style>\n",
       "<table border=\"1\" class=\"dataframe\">\n",
       "  <thead>\n",
       "    <tr style=\"text-align: right;\">\n",
       "      <th></th>\n",
       "      <th>date</th>\n",
       "      <th>time</th>\n",
       "      <th>city</th>\n",
       "      <th>state</th>\n",
       "      <th>country</th>\n",
       "      <th>shape</th>\n",
       "      <th>duration (seconds)</th>\n",
       "      <th>duration (hours/min)</th>\n",
       "      <th>comments</th>\n",
       "      <th>date posted</th>\n",
       "      <th>latitude</th>\n",
       "      <th>longitude</th>\n",
       "      <th>region</th>\n",
       "    </tr>\n",
       "  </thead>\n",
       "  <tbody>\n",
       "    <tr>\n",
       "      <th>0</th>\n",
       "      <td>5/8/2014</td>\n",
       "      <td>0:00</td>\n",
       "      <td>memphis</td>\n",
       "      <td>tn</td>\n",
       "      <td>us</td>\n",
       "      <td>rectangle</td>\n",
       "      <td>900</td>\n",
       "      <td>15 minutes</td>\n",
       "      <td>Standing at my window around 0:00 brilliantly ...</td>\n",
       "      <td>5/8/2014</td>\n",
       "      <td>35.1494444</td>\n",
       "      <td>-90.048889</td>\n",
       "      <td>Southeast</td>\n",
       "    </tr>\n",
       "    <tr>\n",
       "      <th>1</th>\n",
       "      <td>5/7/2014</td>\n",
       "      <td>23:30</td>\n",
       "      <td>san isidro</td>\n",
       "      <td>nm</td>\n",
       "      <td>us</td>\n",
       "      <td>unknown</td>\n",
       "      <td>15</td>\n",
       "      <td>15 seconds</td>\n",
       "      <td>2 red lights gliding across sky&amp;#44 then green...</td>\n",
       "      <td>5/8/2014</td>\n",
       "      <td>35.563363</td>\n",
       "      <td>-106.770591</td>\n",
       "      <td>Southwest</td>\n",
       "    </tr>\n",
       "    <tr>\n",
       "      <th>2</th>\n",
       "      <td>5/7/2014</td>\n",
       "      <td>21:20</td>\n",
       "      <td>hillsboro</td>\n",
       "      <td>mo</td>\n",
       "      <td>us</td>\n",
       "      <td>fireball</td>\n",
       "      <td>360</td>\n",
       "      <td>4-6 minutes</td>\n",
       "      <td>Round slow moving silent ball looked like a ca...</td>\n",
       "      <td>5/8/2014</td>\n",
       "      <td>38.2322222</td>\n",
       "      <td>-90.562778</td>\n",
       "      <td>Midwest</td>\n",
       "    </tr>\n",
       "    <tr>\n",
       "      <th>3</th>\n",
       "      <td>5/7/2014</td>\n",
       "      <td>21:10</td>\n",
       "      <td>naugatuck</td>\n",
       "      <td>ct</td>\n",
       "      <td>us</td>\n",
       "      <td>unknown</td>\n",
       "      <td>300</td>\n",
       "      <td>5 minutes</td>\n",
       "      <td>Large formation of lights in western sky&amp;#44 f...</td>\n",
       "      <td>5/8/2014</td>\n",
       "      <td>41.4858333</td>\n",
       "      <td>-73.051111</td>\n",
       "      <td>Northeast</td>\n",
       "    </tr>\n",
       "    <tr>\n",
       "      <th>4</th>\n",
       "      <td>5/7/2014</td>\n",
       "      <td>21:00</td>\n",
       "      <td>theodore</td>\n",
       "      <td>al</td>\n",
       "      <td>us</td>\n",
       "      <td>circle</td>\n",
       "      <td>120</td>\n",
       "      <td>few minutes</td>\n",
       "      <td>Driving home and entered my neighborhood and s...</td>\n",
       "      <td>5/8/2014</td>\n",
       "      <td>30.5475</td>\n",
       "      <td>-88.175278</td>\n",
       "      <td>Southeast</td>\n",
       "    </tr>\n",
       "  </tbody>\n",
       "</table>\n",
       "</div>"
      ],
      "text/plain": [
       "       date   time        city state country      shape duration (seconds)  \\\n",
       "0  5/8/2014   0:00     memphis    tn      us  rectangle                900   \n",
       "1  5/7/2014  23:30  san isidro    nm      us    unknown                 15   \n",
       "2  5/7/2014  21:20   hillsboro    mo      us   fireball                360   \n",
       "3  5/7/2014  21:10   naugatuck    ct      us    unknown                300   \n",
       "4  5/7/2014  21:00    theodore    al      us     circle                120   \n",
       "\n",
       "  duration (hours/min)                                           comments  \\\n",
       "0           15 minutes  Standing at my window around 0:00 brilliantly ...   \n",
       "1           15 seconds  2 red lights gliding across sky&#44 then green...   \n",
       "2          4-6 minutes  Round slow moving silent ball looked like a ca...   \n",
       "3            5 minutes  Large formation of lights in western sky&#44 f...   \n",
       "4          few minutes  Driving home and entered my neighborhood and s...   \n",
       "\n",
       "  date posted    latitude   longitude     region  \n",
       "0    5/8/2014  35.1494444  -90.048889  Southeast  \n",
       "1    5/8/2014   35.563363 -106.770591  Southwest  \n",
       "2    5/8/2014  38.2322222  -90.562778    Midwest  \n",
       "3    5/8/2014  41.4858333  -73.051111  Northeast  \n",
       "4    5/8/2014     30.5475  -88.175278  Southeast  "
      ]
     },
     "execution_count": 588,
     "metadata": {},
     "output_type": "execute_result"
    }
   ],
   "source": [
    "#split datetime into date and time and move them to the front of the df\n",
    "\n",
    "ufo_df[['date', 'time']] = ufo_df.datetime.str.split(' ', expand=True)\n",
    "\n",
    "first_column = ufo_df.pop('time')\n",
    "ufo_df.insert(0, 'time', first_column)\n",
    "\n",
    "first_column = ufo_df.pop('date')\n",
    "ufo_df.insert(0, 'date', first_column)\n",
    "\n",
    "ufo_df.pop('datetime')\n",
    "\n",
    "ufo_df.head()"
   ]
  },
  {
   "cell_type": "code",
   "execution_count": 589,
   "id": "d66ce70e-2abb-4a2d-a727-04dfecfccc29",
   "metadata": {},
   "outputs": [
    {
     "data": {
      "text/html": [
       "<div>\n",
       "<style scoped>\n",
       "    .dataframe tbody tr th:only-of-type {\n",
       "        vertical-align: middle;\n",
       "    }\n",
       "\n",
       "    .dataframe tbody tr th {\n",
       "        vertical-align: top;\n",
       "    }\n",
       "\n",
       "    .dataframe thead th {\n",
       "        text-align: right;\n",
       "    }\n",
       "</style>\n",
       "<table border=\"1\" class=\"dataframe\">\n",
       "  <thead>\n",
       "    <tr style=\"text-align: right;\">\n",
       "      <th></th>\n",
       "      <th>date</th>\n",
       "      <th>time</th>\n",
       "      <th>city</th>\n",
       "      <th>state</th>\n",
       "      <th>country</th>\n",
       "      <th>shape</th>\n",
       "      <th>duration (seconds)</th>\n",
       "      <th>duration (hours/min)</th>\n",
       "      <th>comments</th>\n",
       "      <th>date posted</th>\n",
       "      <th>latitude</th>\n",
       "      <th>longitude</th>\n",
       "      <th>region</th>\n",
       "      <th>datetime64</th>\n",
       "    </tr>\n",
       "  </thead>\n",
       "  <tbody>\n",
       "    <tr>\n",
       "      <th>0</th>\n",
       "      <td>5/8/2014</td>\n",
       "      <td>0:00</td>\n",
       "      <td>memphis</td>\n",
       "      <td>tn</td>\n",
       "      <td>us</td>\n",
       "      <td>rectangle</td>\n",
       "      <td>900</td>\n",
       "      <td>15 minutes</td>\n",
       "      <td>Standing at my window around 0:00 brilliantly ...</td>\n",
       "      <td>5/8/2014</td>\n",
       "      <td>35.1494444</td>\n",
       "      <td>-90.048889</td>\n",
       "      <td>Southeast</td>\n",
       "      <td>2014-05-08</td>\n",
       "    </tr>\n",
       "    <tr>\n",
       "      <th>1</th>\n",
       "      <td>5/7/2014</td>\n",
       "      <td>23:30</td>\n",
       "      <td>san isidro</td>\n",
       "      <td>nm</td>\n",
       "      <td>us</td>\n",
       "      <td>unknown</td>\n",
       "      <td>15</td>\n",
       "      <td>15 seconds</td>\n",
       "      <td>2 red lights gliding across sky&amp;#44 then green...</td>\n",
       "      <td>5/8/2014</td>\n",
       "      <td>35.563363</td>\n",
       "      <td>-106.770591</td>\n",
       "      <td>Southwest</td>\n",
       "      <td>2014-05-07</td>\n",
       "    </tr>\n",
       "    <tr>\n",
       "      <th>2</th>\n",
       "      <td>5/7/2014</td>\n",
       "      <td>21:20</td>\n",
       "      <td>hillsboro</td>\n",
       "      <td>mo</td>\n",
       "      <td>us</td>\n",
       "      <td>fireball</td>\n",
       "      <td>360</td>\n",
       "      <td>4-6 minutes</td>\n",
       "      <td>Round slow moving silent ball looked like a ca...</td>\n",
       "      <td>5/8/2014</td>\n",
       "      <td>38.2322222</td>\n",
       "      <td>-90.562778</td>\n",
       "      <td>Midwest</td>\n",
       "      <td>2014-05-07</td>\n",
       "    </tr>\n",
       "    <tr>\n",
       "      <th>3</th>\n",
       "      <td>5/7/2014</td>\n",
       "      <td>21:10</td>\n",
       "      <td>naugatuck</td>\n",
       "      <td>ct</td>\n",
       "      <td>us</td>\n",
       "      <td>unknown</td>\n",
       "      <td>300</td>\n",
       "      <td>5 minutes</td>\n",
       "      <td>Large formation of lights in western sky&amp;#44 f...</td>\n",
       "      <td>5/8/2014</td>\n",
       "      <td>41.4858333</td>\n",
       "      <td>-73.051111</td>\n",
       "      <td>Northeast</td>\n",
       "      <td>2014-05-07</td>\n",
       "    </tr>\n",
       "    <tr>\n",
       "      <th>4</th>\n",
       "      <td>5/7/2014</td>\n",
       "      <td>21:00</td>\n",
       "      <td>theodore</td>\n",
       "      <td>al</td>\n",
       "      <td>us</td>\n",
       "      <td>circle</td>\n",
       "      <td>120</td>\n",
       "      <td>few minutes</td>\n",
       "      <td>Driving home and entered my neighborhood and s...</td>\n",
       "      <td>5/8/2014</td>\n",
       "      <td>30.5475</td>\n",
       "      <td>-88.175278</td>\n",
       "      <td>Southeast</td>\n",
       "      <td>2014-05-07</td>\n",
       "    </tr>\n",
       "  </tbody>\n",
       "</table>\n",
       "</div>"
      ],
      "text/plain": [
       "       date   time        city state country      shape duration (seconds)  \\\n",
       "0  5/8/2014   0:00     memphis    tn      us  rectangle                900   \n",
       "1  5/7/2014  23:30  san isidro    nm      us    unknown                 15   \n",
       "2  5/7/2014  21:20   hillsboro    mo      us   fireball                360   \n",
       "3  5/7/2014  21:10   naugatuck    ct      us    unknown                300   \n",
       "4  5/7/2014  21:00    theodore    al      us     circle                120   \n",
       "\n",
       "  duration (hours/min)                                           comments  \\\n",
       "0           15 minutes  Standing at my window around 0:00 brilliantly ...   \n",
       "1           15 seconds  2 red lights gliding across sky&#44 then green...   \n",
       "2          4-6 minutes  Round slow moving silent ball looked like a ca...   \n",
       "3            5 minutes  Large formation of lights in western sky&#44 f...   \n",
       "4          few minutes  Driving home and entered my neighborhood and s...   \n",
       "\n",
       "  date posted    latitude   longitude     region datetime64  \n",
       "0    5/8/2014  35.1494444  -90.048889  Southeast 2014-05-08  \n",
       "1    5/8/2014   35.563363 -106.770591  Southwest 2014-05-07  \n",
       "2    5/8/2014  38.2322222  -90.562778    Midwest 2014-05-07  \n",
       "3    5/8/2014  41.4858333  -73.051111  Northeast 2014-05-07  \n",
       "4    5/8/2014     30.5475  -88.175278  Southeast 2014-05-07  "
      ]
     },
     "metadata": {},
     "output_type": "display_data"
    }
   ],
   "source": [
    "ufo_df['datetime64'] = pd.to_datetime(ufo_df.date, infer_datetime_format = True)\n",
    "display(ufo_df.head())"
   ]
  },
  {
   "cell_type": "code",
   "execution_count": 590,
   "id": "c07be1e7-c032-4752-b059-3164f451a742",
   "metadata": {},
   "outputs": [],
   "source": [
    "#convert 'duration' column from object to float64\n",
    "\n",
    "ufo_df.rename(columns = {'duration (seconds)':'duration_sec'}, inplace = True)\n",
    "\n",
    "ufo_df[\"duration_sec\"] = pd.to_numeric(ufo_df.duration_sec, errors='coerce')"
   ]
  },
  {
   "cell_type": "code",
   "execution_count": 591,
   "id": "b35d64fb-0094-4df4-a870-a4d0635fdbcd",
   "metadata": {},
   "outputs": [
    {
     "data": {
      "text/plain": [
       "date                            object\n",
       "time                            object\n",
       "city                            object\n",
       "state                           object\n",
       "country                         object\n",
       "shape                           object\n",
       "duration_sec                   float64\n",
       "duration (hours/min)            object\n",
       "comments                        object\n",
       "date posted                     object\n",
       "latitude                        object\n",
       "longitude                      float64\n",
       "region                          object\n",
       "datetime64              datetime64[ns]\n",
       "dtype: object"
      ]
     },
     "execution_count": 591,
     "metadata": {},
     "output_type": "execute_result"
    }
   ],
   "source": [
    "ufo_df.dtypes"
   ]
  },
  {
   "cell_type": "code",
   "execution_count": 592,
   "id": "9ea8b0c0-dcc3-47cd-9883-4f83378a8349",
   "metadata": {},
   "outputs": [],
   "source": [
    "ufo_df['shape'] = ufo_df['shape'].replace(\n",
    "    {'unknown': 'other', 'changed': 'changing', 'flare': 'fireball', 'delta': 'triangle', 'sphere': 'round', 'circle': 'round'})"
   ]
  },
  {
   "cell_type": "code",
   "execution_count": 593,
   "id": "a9f96a7e-dd12-47ce-abd8-74296cc07d6f",
   "metadata": {},
   "outputs": [
    {
     "data": {
      "text/html": [
       "<div>\n",
       "<style scoped>\n",
       "    .dataframe tbody tr th:only-of-type {\n",
       "        vertical-align: middle;\n",
       "    }\n",
       "\n",
       "    .dataframe tbody tr th {\n",
       "        vertical-align: top;\n",
       "    }\n",
       "\n",
       "    .dataframe thead th {\n",
       "        text-align: right;\n",
       "    }\n",
       "</style>\n",
       "<table border=\"1\" class=\"dataframe\">\n",
       "  <thead>\n",
       "    <tr style=\"text-align: right;\">\n",
       "      <th></th>\n",
       "      <th>date</th>\n",
       "      <th>time</th>\n",
       "      <th>city</th>\n",
       "      <th>state</th>\n",
       "      <th>country</th>\n",
       "      <th>shape</th>\n",
       "      <th>duration_sec</th>\n",
       "      <th>duration (hours/min)</th>\n",
       "      <th>comments</th>\n",
       "      <th>date posted</th>\n",
       "      <th>latitude</th>\n",
       "      <th>longitude</th>\n",
       "      <th>region</th>\n",
       "      <th>datetime64</th>\n",
       "      <th>year</th>\n",
       "      <th>month</th>\n",
       "      <th>day</th>\n",
       "      <th>weekday</th>\n",
       "    </tr>\n",
       "  </thead>\n",
       "  <tbody>\n",
       "    <tr>\n",
       "      <th>0</th>\n",
       "      <td>5/8/2014</td>\n",
       "      <td>0:00</td>\n",
       "      <td>memphis</td>\n",
       "      <td>tn</td>\n",
       "      <td>us</td>\n",
       "      <td>rectangle</td>\n",
       "      <td>900.0</td>\n",
       "      <td>15 minutes</td>\n",
       "      <td>Standing at my window around 0:00 brilliantly ...</td>\n",
       "      <td>5/8/2014</td>\n",
       "      <td>35.1494444</td>\n",
       "      <td>-90.048889</td>\n",
       "      <td>Southeast</td>\n",
       "      <td>2014-05-08</td>\n",
       "      <td>2014</td>\n",
       "      <td>5</td>\n",
       "      <td>8</td>\n",
       "      <td>Thursday</td>\n",
       "    </tr>\n",
       "    <tr>\n",
       "      <th>1</th>\n",
       "      <td>5/7/2014</td>\n",
       "      <td>23:30</td>\n",
       "      <td>san isidro</td>\n",
       "      <td>nm</td>\n",
       "      <td>us</td>\n",
       "      <td>other</td>\n",
       "      <td>15.0</td>\n",
       "      <td>15 seconds</td>\n",
       "      <td>2 red lights gliding across sky&amp;#44 then green...</td>\n",
       "      <td>5/8/2014</td>\n",
       "      <td>35.563363</td>\n",
       "      <td>-106.770591</td>\n",
       "      <td>Southwest</td>\n",
       "      <td>2014-05-07</td>\n",
       "      <td>2014</td>\n",
       "      <td>5</td>\n",
       "      <td>7</td>\n",
       "      <td>Wednesday</td>\n",
       "    </tr>\n",
       "    <tr>\n",
       "      <th>2</th>\n",
       "      <td>5/7/2014</td>\n",
       "      <td>21:20</td>\n",
       "      <td>hillsboro</td>\n",
       "      <td>mo</td>\n",
       "      <td>us</td>\n",
       "      <td>fireball</td>\n",
       "      <td>360.0</td>\n",
       "      <td>4-6 minutes</td>\n",
       "      <td>Round slow moving silent ball looked like a ca...</td>\n",
       "      <td>5/8/2014</td>\n",
       "      <td>38.2322222</td>\n",
       "      <td>-90.562778</td>\n",
       "      <td>Midwest</td>\n",
       "      <td>2014-05-07</td>\n",
       "      <td>2014</td>\n",
       "      <td>5</td>\n",
       "      <td>7</td>\n",
       "      <td>Wednesday</td>\n",
       "    </tr>\n",
       "    <tr>\n",
       "      <th>3</th>\n",
       "      <td>5/7/2014</td>\n",
       "      <td>21:10</td>\n",
       "      <td>naugatuck</td>\n",
       "      <td>ct</td>\n",
       "      <td>us</td>\n",
       "      <td>other</td>\n",
       "      <td>300.0</td>\n",
       "      <td>5 minutes</td>\n",
       "      <td>Large formation of lights in western sky&amp;#44 f...</td>\n",
       "      <td>5/8/2014</td>\n",
       "      <td>41.4858333</td>\n",
       "      <td>-73.051111</td>\n",
       "      <td>Northeast</td>\n",
       "      <td>2014-05-07</td>\n",
       "      <td>2014</td>\n",
       "      <td>5</td>\n",
       "      <td>7</td>\n",
       "      <td>Wednesday</td>\n",
       "    </tr>\n",
       "    <tr>\n",
       "      <th>4</th>\n",
       "      <td>5/7/2014</td>\n",
       "      <td>21:00</td>\n",
       "      <td>theodore</td>\n",
       "      <td>al</td>\n",
       "      <td>us</td>\n",
       "      <td>round</td>\n",
       "      <td>120.0</td>\n",
       "      <td>few minutes</td>\n",
       "      <td>Driving home and entered my neighborhood and s...</td>\n",
       "      <td>5/8/2014</td>\n",
       "      <td>30.5475</td>\n",
       "      <td>-88.175278</td>\n",
       "      <td>Southeast</td>\n",
       "      <td>2014-05-07</td>\n",
       "      <td>2014</td>\n",
       "      <td>5</td>\n",
       "      <td>7</td>\n",
       "      <td>Wednesday</td>\n",
       "    </tr>\n",
       "  </tbody>\n",
       "</table>\n",
       "</div>"
      ],
      "text/plain": [
       "       date   time        city state country      shape  duration_sec  \\\n",
       "0  5/8/2014   0:00     memphis    tn      us  rectangle         900.0   \n",
       "1  5/7/2014  23:30  san isidro    nm      us      other          15.0   \n",
       "2  5/7/2014  21:20   hillsboro    mo      us   fireball         360.0   \n",
       "3  5/7/2014  21:10   naugatuck    ct      us      other         300.0   \n",
       "4  5/7/2014  21:00    theodore    al      us      round         120.0   \n",
       "\n",
       "  duration (hours/min)                                           comments  \\\n",
       "0           15 minutes  Standing at my window around 0:00 brilliantly ...   \n",
       "1           15 seconds  2 red lights gliding across sky&#44 then green...   \n",
       "2          4-6 minutes  Round slow moving silent ball looked like a ca...   \n",
       "3            5 minutes  Large formation of lights in western sky&#44 f...   \n",
       "4          few minutes  Driving home and entered my neighborhood and s...   \n",
       "\n",
       "  date posted    latitude   longitude     region datetime64  year  month  day  \\\n",
       "0    5/8/2014  35.1494444  -90.048889  Southeast 2014-05-08  2014      5    8   \n",
       "1    5/8/2014   35.563363 -106.770591  Southwest 2014-05-07  2014      5    7   \n",
       "2    5/8/2014  38.2322222  -90.562778    Midwest 2014-05-07  2014      5    7   \n",
       "3    5/8/2014  41.4858333  -73.051111  Northeast 2014-05-07  2014      5    7   \n",
       "4    5/8/2014     30.5475  -88.175278  Southeast 2014-05-07  2014      5    7   \n",
       "\n",
       "     weekday  \n",
       "0   Thursday  \n",
       "1  Wednesday  \n",
       "2  Wednesday  \n",
       "3  Wednesday  \n",
       "4  Wednesday  "
      ]
     },
     "execution_count": 593,
     "metadata": {},
     "output_type": "execute_result"
    }
   ],
   "source": [
    "ufo_df['year'] = pd.DatetimeIndex(ufo_df['datetime64']).year\n",
    "ufo_df['month'] = pd.DatetimeIndex(ufo_df['datetime64']).month\n",
    "ufo_df['day'] = pd.DatetimeIndex(ufo_df['datetime64']).day\n",
    "ufo_df['weekday'] = pd.DatetimeIndex(ufo_df['datetime64']).day_name()\n",
    "ufo_df.head()"
   ]
  },
  {
   "cell_type": "code",
   "execution_count": 594,
   "id": "59994390-1e24-4d8a-a127-1c5a545d6853",
   "metadata": {},
   "outputs": [],
   "source": [
    "ufo_df['statename'] = ufo_df['state'].map(states)"
   ]
  },
  {
   "cell_type": "code",
   "execution_count": 617,
   "id": "6c10610a-9d04-4044-aad1-453e11bb927b",
   "metadata": {},
   "outputs": [
    {
     "data": {
      "text/html": [
       "<div>\n",
       "<style scoped>\n",
       "    .dataframe tbody tr th:only-of-type {\n",
       "        vertical-align: middle;\n",
       "    }\n",
       "\n",
       "    .dataframe tbody tr th {\n",
       "        vertical-align: top;\n",
       "    }\n",
       "\n",
       "    .dataframe thead th {\n",
       "        text-align: right;\n",
       "    }\n",
       "</style>\n",
       "<table border=\"1\" class=\"dataframe\">\n",
       "  <thead>\n",
       "    <tr style=\"text-align: right;\">\n",
       "      <th></th>\n",
       "      <th>date</th>\n",
       "      <th>time</th>\n",
       "      <th>city</th>\n",
       "      <th>state</th>\n",
       "      <th>country</th>\n",
       "      <th>shape</th>\n",
       "      <th>duration_sec</th>\n",
       "      <th>duration (hours/min)</th>\n",
       "      <th>comments</th>\n",
       "      <th>date posted</th>\n",
       "      <th>latitude</th>\n",
       "      <th>longitude</th>\n",
       "      <th>region</th>\n",
       "      <th>datetime64</th>\n",
       "      <th>year</th>\n",
       "      <th>month</th>\n",
       "      <th>day</th>\n",
       "      <th>weekday</th>\n",
       "      <th>statename</th>\n",
       "      <th>Date Bin</th>\n",
       "    </tr>\n",
       "  </thead>\n",
       "  <tbody>\n",
       "    <tr>\n",
       "      <th>0</th>\n",
       "      <td>5/8/2014</td>\n",
       "      <td>0:00</td>\n",
       "      <td>memphis</td>\n",
       "      <td>tn</td>\n",
       "      <td>us</td>\n",
       "      <td>rectangle</td>\n",
       "      <td>900.0</td>\n",
       "      <td>15 minutes</td>\n",
       "      <td>Standing at my window around 0:00 brilliantly ...</td>\n",
       "      <td>5/8/2014</td>\n",
       "      <td>35.1494444</td>\n",
       "      <td>-90.048889</td>\n",
       "      <td>Southeast</td>\n",
       "      <td>2014-05-08</td>\n",
       "      <td>2014</td>\n",
       "      <td>5</td>\n",
       "      <td>8</td>\n",
       "      <td>Thursday</td>\n",
       "      <td>Tennessee</td>\n",
       "      <td>2010-2015</td>\n",
       "    </tr>\n",
       "    <tr>\n",
       "      <th>1</th>\n",
       "      <td>5/7/2014</td>\n",
       "      <td>23:30</td>\n",
       "      <td>san isidro</td>\n",
       "      <td>nm</td>\n",
       "      <td>us</td>\n",
       "      <td>other</td>\n",
       "      <td>15.0</td>\n",
       "      <td>15 seconds</td>\n",
       "      <td>2 red lights gliding across sky&amp;#44 then green...</td>\n",
       "      <td>5/8/2014</td>\n",
       "      <td>35.563363</td>\n",
       "      <td>-106.770591</td>\n",
       "      <td>Southwest</td>\n",
       "      <td>2014-05-07</td>\n",
       "      <td>2014</td>\n",
       "      <td>5</td>\n",
       "      <td>7</td>\n",
       "      <td>Wednesday</td>\n",
       "      <td>New Mexico</td>\n",
       "      <td>2010-2015</td>\n",
       "    </tr>\n",
       "    <tr>\n",
       "      <th>2</th>\n",
       "      <td>5/7/2014</td>\n",
       "      <td>21:20</td>\n",
       "      <td>hillsboro</td>\n",
       "      <td>mo</td>\n",
       "      <td>us</td>\n",
       "      <td>fireball</td>\n",
       "      <td>360.0</td>\n",
       "      <td>4-6 minutes</td>\n",
       "      <td>Round slow moving silent ball looked like a ca...</td>\n",
       "      <td>5/8/2014</td>\n",
       "      <td>38.2322222</td>\n",
       "      <td>-90.562778</td>\n",
       "      <td>Midwest</td>\n",
       "      <td>2014-05-07</td>\n",
       "      <td>2014</td>\n",
       "      <td>5</td>\n",
       "      <td>7</td>\n",
       "      <td>Wednesday</td>\n",
       "      <td>Missouri</td>\n",
       "      <td>2010-2015</td>\n",
       "    </tr>\n",
       "    <tr>\n",
       "      <th>3</th>\n",
       "      <td>5/7/2014</td>\n",
       "      <td>21:10</td>\n",
       "      <td>naugatuck</td>\n",
       "      <td>ct</td>\n",
       "      <td>us</td>\n",
       "      <td>other</td>\n",
       "      <td>300.0</td>\n",
       "      <td>5 minutes</td>\n",
       "      <td>Large formation of lights in western sky&amp;#44 f...</td>\n",
       "      <td>5/8/2014</td>\n",
       "      <td>41.4858333</td>\n",
       "      <td>-73.051111</td>\n",
       "      <td>Northeast</td>\n",
       "      <td>2014-05-07</td>\n",
       "      <td>2014</td>\n",
       "      <td>5</td>\n",
       "      <td>7</td>\n",
       "      <td>Wednesday</td>\n",
       "      <td>Connecticut</td>\n",
       "      <td>2010-2015</td>\n",
       "    </tr>\n",
       "    <tr>\n",
       "      <th>4</th>\n",
       "      <td>5/7/2014</td>\n",
       "      <td>21:00</td>\n",
       "      <td>theodore</td>\n",
       "      <td>al</td>\n",
       "      <td>us</td>\n",
       "      <td>round</td>\n",
       "      <td>120.0</td>\n",
       "      <td>few minutes</td>\n",
       "      <td>Driving home and entered my neighborhood and s...</td>\n",
       "      <td>5/8/2014</td>\n",
       "      <td>30.5475</td>\n",
       "      <td>-88.175278</td>\n",
       "      <td>Southeast</td>\n",
       "      <td>2014-05-07</td>\n",
       "      <td>2014</td>\n",
       "      <td>5</td>\n",
       "      <td>7</td>\n",
       "      <td>Wednesday</td>\n",
       "      <td>Alabama</td>\n",
       "      <td>2010-2015</td>\n",
       "    </tr>\n",
       "  </tbody>\n",
       "</table>\n",
       "</div>"
      ],
      "text/plain": [
       "       date   time        city state country      shape  duration_sec  \\\n",
       "0  5/8/2014   0:00     memphis    tn      us  rectangle         900.0   \n",
       "1  5/7/2014  23:30  san isidro    nm      us      other          15.0   \n",
       "2  5/7/2014  21:20   hillsboro    mo      us   fireball         360.0   \n",
       "3  5/7/2014  21:10   naugatuck    ct      us      other         300.0   \n",
       "4  5/7/2014  21:00    theodore    al      us      round         120.0   \n",
       "\n",
       "  duration (hours/min)                                           comments  \\\n",
       "0           15 minutes  Standing at my window around 0:00 brilliantly ...   \n",
       "1           15 seconds  2 red lights gliding across sky&#44 then green...   \n",
       "2          4-6 minutes  Round slow moving silent ball looked like a ca...   \n",
       "3            5 minutes  Large formation of lights in western sky&#44 f...   \n",
       "4          few minutes  Driving home and entered my neighborhood and s...   \n",
       "\n",
       "  date posted    latitude   longitude     region datetime64  year  month  day  \\\n",
       "0    5/8/2014  35.1494444  -90.048889  Southeast 2014-05-08  2014      5    8   \n",
       "1    5/8/2014   35.563363 -106.770591  Southwest 2014-05-07  2014      5    7   \n",
       "2    5/8/2014  38.2322222  -90.562778    Midwest 2014-05-07  2014      5    7   \n",
       "3    5/8/2014  41.4858333  -73.051111  Northeast 2014-05-07  2014      5    7   \n",
       "4    5/8/2014     30.5475  -88.175278  Southeast 2014-05-07  2014      5    7   \n",
       "\n",
       "     weekday    statename   Date Bin  \n",
       "0   Thursday    Tennessee  2010-2015  \n",
       "1  Wednesday   New Mexico  2010-2015  \n",
       "2  Wednesday     Missouri  2010-2015  \n",
       "3  Wednesday  Connecticut  2010-2015  \n",
       "4  Wednesday      Alabama  2010-2015  "
      ]
     },
     "execution_count": 617,
     "metadata": {},
     "output_type": "execute_result"
    }
   ],
   "source": [
    "ufo_df.head()"
   ]
  },
  {
   "cell_type": "code",
   "execution_count": 621,
   "id": "e9d5a996-3999-426e-9c0e-9b18c8fb98b9",
   "metadata": {},
   "outputs": [
    {
     "data": {
      "text/html": [
       "<div>\n",
       "<style scoped>\n",
       "    .dataframe tbody tr th:only-of-type {\n",
       "        vertical-align: middle;\n",
       "    }\n",
       "\n",
       "    .dataframe tbody tr th {\n",
       "        vertical-align: top;\n",
       "    }\n",
       "\n",
       "    .dataframe thead th {\n",
       "        text-align: right;\n",
       "    }\n",
       "</style>\n",
       "<table border=\"1\" class=\"dataframe\">\n",
       "  <thead>\n",
       "    <tr style=\"text-align: right;\">\n",
       "      <th></th>\n",
       "      <th>Location</th>\n",
       "      <th>Number of Sightings</th>\n",
       "    </tr>\n",
       "  </thead>\n",
       "  <tbody>\n",
       "    <tr>\n",
       "      <th>0</th>\n",
       "      <td>California</td>\n",
       "      <td>9584</td>\n",
       "    </tr>\n",
       "    <tr>\n",
       "      <th>1</th>\n",
       "      <td>Washington</td>\n",
       "      <td>4240</td>\n",
       "    </tr>\n",
       "    <tr>\n",
       "      <th>2</th>\n",
       "      <td>Florida</td>\n",
       "      <td>4175</td>\n",
       "    </tr>\n",
       "    <tr>\n",
       "      <th>3</th>\n",
       "      <td>Texas</td>\n",
       "      <td>3638</td>\n",
       "    </tr>\n",
       "    <tr>\n",
       "      <th>4</th>\n",
       "      <td>New York</td>\n",
       "      <td>3195</td>\n",
       "    </tr>\n",
       "  </tbody>\n",
       "</table>\n",
       "</div>"
      ],
      "text/plain": [
       "     Location  Number of Sightings\n",
       "0  California                 9584\n",
       "1  Washington                 4240\n",
       "2     Florida                 4175\n",
       "3       Texas                 3638\n",
       "4    New York                 3195"
      ]
     },
     "execution_count": 621,
     "metadata": {},
     "output_type": "execute_result"
    }
   ],
   "source": [
    "state_sightings = ufo_df['statename'].value_counts().reset_index(name='Number of Sightings')\n",
    "state_sightings.rename(columns = {'index':'Location'}, inplace = True)\n",
    "state_sightings.head()"
   ]
  },
  {
   "cell_type": "code",
   "execution_count": 655,
   "id": "dae658ce-6820-4228-9e05-73726eafaff0",
   "metadata": {},
   "outputs": [
    {
     "data": {
      "text/html": [
       "<div>\n",
       "<style scoped>\n",
       "    .dataframe tbody tr th:only-of-type {\n",
       "        vertical-align: middle;\n",
       "    }\n",
       "\n",
       "    .dataframe tbody tr th {\n",
       "        vertical-align: top;\n",
       "    }\n",
       "\n",
       "    .dataframe thead th {\n",
       "        text-align: right;\n",
       "    }\n",
       "</style>\n",
       "<table border=\"1\" class=\"dataframe\">\n",
       "  <thead>\n",
       "    <tr style=\"text-align: right;\">\n",
       "      <th></th>\n",
       "      <th>Date Bin</th>\n",
       "      <th>Number of Sightings</th>\n",
       "    </tr>\n",
       "  </thead>\n",
       "  <tbody>\n",
       "    <tr>\n",
       "      <th>0</th>\n",
       "      <td>2000-2009</td>\n",
       "      <td>31552</td>\n",
       "    </tr>\n",
       "    <tr>\n",
       "      <th>1</th>\n",
       "      <td>2010-2015</td>\n",
       "      <td>27737</td>\n",
       "    </tr>\n",
       "    <tr>\n",
       "      <th>2</th>\n",
       "      <td>1990-1999</td>\n",
       "      <td>5843</td>\n",
       "    </tr>\n",
       "    <tr>\n",
       "      <th>3</th>\n",
       "      <td>1970-1979</td>\n",
       "      <td>1982</td>\n",
       "    </tr>\n",
       "    <tr>\n",
       "      <th>4</th>\n",
       "      <td>1980-1989</td>\n",
       "      <td>1773</td>\n",
       "    </tr>\n",
       "  </tbody>\n",
       "</table>\n",
       "</div>"
      ],
      "text/plain": [
       "    Date Bin  Number of Sightings\n",
       "0  2000-2009                31552\n",
       "1  2010-2015                27737\n",
       "2  1990-1999                 5843\n",
       "3  1970-1979                 1982\n",
       "4  1980-1989                 1773"
      ]
     },
     "execution_count": 655,
     "metadata": {},
     "output_type": "execute_result"
    }
   ],
   "source": [
    "time_sightings = ufo_df['Date Bin'].value_counts().reset_index(name='Number of Sightings')\n",
    "time_sightings.rename(columns = {'index':'Date Bin'}, inplace = True)\n",
    "time_sightings.head()"
   ]
  },
  {
   "cell_type": "code",
   "execution_count": null,
   "id": "bb30d450-256e-4140-88bd-07948abb6fcb",
   "metadata": {},
   "outputs": [],
   "source": []
  },
  {
   "cell_type": "code",
   "execution_count": 600,
   "id": "737e668c-6506-4722-b640-0a270117074b",
   "metadata": {},
   "outputs": [
    {
     "data": {
      "text/html": [
       "<div>\n",
       "<style scoped>\n",
       "    .dataframe tbody tr th:only-of-type {\n",
       "        vertical-align: middle;\n",
       "    }\n",
       "\n",
       "    .dataframe tbody tr th {\n",
       "        vertical-align: top;\n",
       "    }\n",
       "\n",
       "    .dataframe thead th {\n",
       "        text-align: right;\n",
       "    }\n",
       "</style>\n",
       "<table border=\"1\" class=\"dataframe\">\n",
       "  <thead>\n",
       "    <tr style=\"text-align: right;\">\n",
       "      <th></th>\n",
       "      <th>Location</th>\n",
       "      <th>Year</th>\n",
       "      <th>Resident Population</th>\n",
       "    </tr>\n",
       "  </thead>\n",
       "  <tbody>\n",
       "    <tr>\n",
       "      <th>0</th>\n",
       "      <td>Alabama</td>\n",
       "      <td>1910</td>\n",
       "      <td>2,138,093</td>\n",
       "    </tr>\n",
       "    <tr>\n",
       "      <th>1</th>\n",
       "      <td>Alaska</td>\n",
       "      <td>1910</td>\n",
       "      <td>64,356</td>\n",
       "    </tr>\n",
       "    <tr>\n",
       "      <th>2</th>\n",
       "      <td>Arizona</td>\n",
       "      <td>1910</td>\n",
       "      <td>204,354</td>\n",
       "    </tr>\n",
       "    <tr>\n",
       "      <th>3</th>\n",
       "      <td>Arkansas</td>\n",
       "      <td>1910</td>\n",
       "      <td>1,574,449</td>\n",
       "    </tr>\n",
       "    <tr>\n",
       "      <th>4</th>\n",
       "      <td>California</td>\n",
       "      <td>1910</td>\n",
       "      <td>2,377,549</td>\n",
       "    </tr>\n",
       "  </tbody>\n",
       "</table>\n",
       "</div>"
      ],
      "text/plain": [
       "     Location  Year Resident Population\n",
       "0     Alabama  1910           2,138,093\n",
       "1      Alaska  1910              64,356\n",
       "2     Arizona  1910             204,354\n",
       "3    Arkansas  1910           1,574,449\n",
       "4  California  1910           2,377,549"
      ]
     },
     "execution_count": 600,
     "metadata": {},
     "output_type": "execute_result"
    }
   ],
   "source": [
    "pop_df.rename(columns = {'Name':'Location'}, inplace = True)\n",
    "pop_df.head()"
   ]
  },
  {
   "cell_type": "code",
   "execution_count": 608,
   "id": "b048698e-117c-4c84-9f81-2d8a49e70ed9",
   "metadata": {},
   "outputs": [
    {
     "data": {
      "text/html": [
       "<div>\n",
       "<style scoped>\n",
       "    .dataframe tbody tr th:only-of-type {\n",
       "        vertical-align: middle;\n",
       "    }\n",
       "\n",
       "    .dataframe tbody tr th {\n",
       "        vertical-align: top;\n",
       "    }\n",
       "\n",
       "    .dataframe thead th {\n",
       "        text-align: right;\n",
       "    }\n",
       "</style>\n",
       "<table border=\"1\" class=\"dataframe\">\n",
       "  <thead>\n",
       "    <tr style=\"text-align: right;\">\n",
       "      <th></th>\n",
       "      <th>Location</th>\n",
       "      <th>Number of Sightings</th>\n",
       "      <th>Year</th>\n",
       "      <th>Resident Population</th>\n",
       "    </tr>\n",
       "  </thead>\n",
       "  <tbody>\n",
       "    <tr>\n",
       "      <th>0</th>\n",
       "      <td>California</td>\n",
       "      <td>9584</td>\n",
       "      <td>1910</td>\n",
       "      <td>2,377,549</td>\n",
       "    </tr>\n",
       "    <tr>\n",
       "      <th>1</th>\n",
       "      <td>California</td>\n",
       "      <td>9584</td>\n",
       "      <td>1920</td>\n",
       "      <td>3,426,861</td>\n",
       "    </tr>\n",
       "    <tr>\n",
       "      <th>2</th>\n",
       "      <td>California</td>\n",
       "      <td>9584</td>\n",
       "      <td>1930</td>\n",
       "      <td>5,677,251</td>\n",
       "    </tr>\n",
       "    <tr>\n",
       "      <th>3</th>\n",
       "      <td>California</td>\n",
       "      <td>9584</td>\n",
       "      <td>1940</td>\n",
       "      <td>6,907,387</td>\n",
       "    </tr>\n",
       "    <tr>\n",
       "      <th>4</th>\n",
       "      <td>California</td>\n",
       "      <td>9584</td>\n",
       "      <td>1950</td>\n",
       "      <td>10,586,223</td>\n",
       "    </tr>\n",
       "    <tr>\n",
       "      <th>...</th>\n",
       "      <td>...</td>\n",
       "      <td>...</td>\n",
       "      <td>...</td>\n",
       "      <td>...</td>\n",
       "    </tr>\n",
       "    <tr>\n",
       "      <th>619</th>\n",
       "      <td>Puerto Rico</td>\n",
       "      <td>32</td>\n",
       "      <td>1980</td>\n",
       "      <td>3,196,520</td>\n",
       "    </tr>\n",
       "    <tr>\n",
       "      <th>620</th>\n",
       "      <td>Puerto Rico</td>\n",
       "      <td>32</td>\n",
       "      <td>1990</td>\n",
       "      <td>3,522,037</td>\n",
       "    </tr>\n",
       "    <tr>\n",
       "      <th>621</th>\n",
       "      <td>Puerto Rico</td>\n",
       "      <td>32</td>\n",
       "      <td>2000</td>\n",
       "      <td>3,808,610</td>\n",
       "    </tr>\n",
       "    <tr>\n",
       "      <th>622</th>\n",
       "      <td>Puerto Rico</td>\n",
       "      <td>32</td>\n",
       "      <td>2010</td>\n",
       "      <td>3,725,789</td>\n",
       "    </tr>\n",
       "    <tr>\n",
       "      <th>623</th>\n",
       "      <td>Puerto Rico</td>\n",
       "      <td>32</td>\n",
       "      <td>2020</td>\n",
       "      <td>3,285,874</td>\n",
       "    </tr>\n",
       "  </tbody>\n",
       "</table>\n",
       "<p>624 rows × 4 columns</p>\n",
       "</div>"
      ],
      "text/plain": [
       "        Location  Number of Sightings  Year Resident Population\n",
       "0     California                 9584  1910           2,377,549\n",
       "1     California                 9584  1920           3,426,861\n",
       "2     California                 9584  1930           5,677,251\n",
       "3     California                 9584  1940           6,907,387\n",
       "4     California                 9584  1950          10,586,223\n",
       "..           ...                  ...   ...                 ...\n",
       "619  Puerto Rico                   32  1980           3,196,520\n",
       "620  Puerto Rico                   32  1990           3,522,037\n",
       "621  Puerto Rico                   32  2000           3,808,610\n",
       "622  Puerto Rico                   32  2010           3,725,789\n",
       "623  Puerto Rico                   32  2020           3,285,874\n",
       "\n",
       "[624 rows x 4 columns]"
      ]
     },
     "execution_count": 608,
     "metadata": {},
     "output_type": "execute_result"
    }
   ],
   "source": [
    "state_pop_sightings = pd.merge(state_sightings, pop_df, on = 'Location', how = \"inner\")\n",
    "state_pop_sightings"
   ]
  },
  {
   "cell_type": "code",
   "execution_count": 602,
   "id": "39e13883-04c1-431f-b167-23d05f4ec226",
   "metadata": {},
   "outputs": [
    {
     "data": {
      "text/html": [
       "<div>\n",
       "<style scoped>\n",
       "    .dataframe tbody tr th:only-of-type {\n",
       "        vertical-align: middle;\n",
       "    }\n",
       "\n",
       "    .dataframe tbody tr th {\n",
       "        vertical-align: top;\n",
       "    }\n",
       "\n",
       "    .dataframe thead th {\n",
       "        text-align: right;\n",
       "    }\n",
       "</style>\n",
       "<table border=\"1\" class=\"dataframe\">\n",
       "  <thead>\n",
       "    <tr style=\"text-align: right;\">\n",
       "      <th></th>\n",
       "      <th>Location</th>\n",
       "      <th>Number of Sightings</th>\n",
       "    </tr>\n",
       "  </thead>\n",
       "  <tbody>\n",
       "    <tr>\n",
       "      <th>0</th>\n",
       "      <td>West</td>\n",
       "      <td>20736</td>\n",
       "    </tr>\n",
       "    <tr>\n",
       "      <th>1</th>\n",
       "      <td>Midwest</td>\n",
       "      <td>14510</td>\n",
       "    </tr>\n",
       "    <tr>\n",
       "      <th>2</th>\n",
       "      <td>Southeast</td>\n",
       "      <td>12874</td>\n",
       "    </tr>\n",
       "    <tr>\n",
       "      <th>3</th>\n",
       "      <td>Northeast</td>\n",
       "      <td>12407</td>\n",
       "    </tr>\n",
       "    <tr>\n",
       "      <th>4</th>\n",
       "      <td>Southwest</td>\n",
       "      <td>9734</td>\n",
       "    </tr>\n",
       "  </tbody>\n",
       "</table>\n",
       "</div>"
      ],
      "text/plain": [
       "    Location  Number of Sightings\n",
       "0       West                20736\n",
       "1    Midwest                14510\n",
       "2  Southeast                12874\n",
       "3  Northeast                12407\n",
       "4  Southwest                 9734"
      ]
     },
     "execution_count": 602,
     "metadata": {},
     "output_type": "execute_result"
    }
   ],
   "source": [
    "region_sightings = ufo_df['region'].value_counts().reset_index(name='Number of Sightings')\n",
    "region_sightings.rename(columns = {'index':'Location'}, inplace = True)\n",
    "region_sightings.head()"
   ]
  },
  {
   "cell_type": "code",
   "execution_count": 418,
   "id": "3c3615e8-1419-493c-a9cb-e9e7e4491907",
   "metadata": {},
   "outputs": [
    {
     "data": {
      "text/html": [
       "<div>\n",
       "<style scoped>\n",
       "    .dataframe tbody tr th:only-of-type {\n",
       "        vertical-align: middle;\n",
       "    }\n",
       "\n",
       "    .dataframe tbody tr th {\n",
       "        vertical-align: top;\n",
       "    }\n",
       "\n",
       "    .dataframe thead th {\n",
       "        text-align: right;\n",
       "    }\n",
       "</style>\n",
       "<table border=\"1\" class=\"dataframe\">\n",
       "  <thead>\n",
       "    <tr style=\"text-align: right;\">\n",
       "      <th></th>\n",
       "      <th>state</th>\n",
       "      <th>shape</th>\n",
       "      <th>count</th>\n",
       "    </tr>\n",
       "  </thead>\n",
       "  <tbody>\n",
       "    <tr>\n",
       "      <th>0</th>\n",
       "      <td>ak</td>\n",
       "      <td>changing</td>\n",
       "      <td>5</td>\n",
       "    </tr>\n",
       "    <tr>\n",
       "      <th>1</th>\n",
       "      <td>ak</td>\n",
       "      <td>cigar</td>\n",
       "      <td>6</td>\n",
       "    </tr>\n",
       "    <tr>\n",
       "      <th>2</th>\n",
       "      <td>ak</td>\n",
       "      <td>cone</td>\n",
       "      <td>1</td>\n",
       "    </tr>\n",
       "    <tr>\n",
       "      <th>3</th>\n",
       "      <td>ak</td>\n",
       "      <td>cylinder</td>\n",
       "      <td>5</td>\n",
       "    </tr>\n",
       "    <tr>\n",
       "      <th>4</th>\n",
       "      <td>ak</td>\n",
       "      <td>diamond</td>\n",
       "      <td>5</td>\n",
       "    </tr>\n",
       "  </tbody>\n",
       "</table>\n",
       "</div>"
      ],
      "text/plain": [
       "  state     shape  count\n",
       "0    ak  changing      5\n",
       "1    ak     cigar      6\n",
       "2    ak      cone      1\n",
       "3    ak  cylinder      5\n",
       "4    ak   diamond      5"
      ]
     },
     "execution_count": 418,
     "metadata": {},
     "output_type": "execute_result"
    }
   ],
   "source": [
    "state_shape = ufo_df.groupby(['state', 'shape']).size().reset_index(name='count')\n",
    "state_shape.head()"
   ]
  },
  {
   "cell_type": "code",
   "execution_count": null,
   "id": "eba3f86b-9708-4a34-a2ab-626ee59bd00d",
   "metadata": {},
   "outputs": [],
   "source": []
  },
  {
   "cell_type": "code",
   "execution_count": 612,
   "id": "ff84175c-cd9b-4215-8c5a-6996b14e0c49",
   "metadata": {},
   "outputs": [
    {
     "data": {
      "text/html": [
       "<div>\n",
       "<style scoped>\n",
       "    .dataframe tbody tr th:only-of-type {\n",
       "        vertical-align: middle;\n",
       "    }\n",
       "\n",
       "    .dataframe tbody tr th {\n",
       "        vertical-align: top;\n",
       "    }\n",
       "\n",
       "    .dataframe thead th {\n",
       "        text-align: right;\n",
       "    }\n",
       "</style>\n",
       "<table border=\"1\" class=\"dataframe\">\n",
       "  <thead>\n",
       "    <tr style=\"text-align: right;\">\n",
       "      <th></th>\n",
       "      <th>date</th>\n",
       "      <th>time</th>\n",
       "      <th>city</th>\n",
       "      <th>state</th>\n",
       "      <th>country</th>\n",
       "      <th>shape</th>\n",
       "      <th>duration_sec</th>\n",
       "      <th>duration (hours/min)</th>\n",
       "      <th>comments</th>\n",
       "      <th>date posted</th>\n",
       "      <th>latitude</th>\n",
       "      <th>longitude</th>\n",
       "      <th>region</th>\n",
       "      <th>datetime64</th>\n",
       "      <th>year</th>\n",
       "      <th>month</th>\n",
       "      <th>day</th>\n",
       "      <th>weekday</th>\n",
       "      <th>statename</th>\n",
       "      <th>Date Bin</th>\n",
       "    </tr>\n",
       "  </thead>\n",
       "  <tbody>\n",
       "    <tr>\n",
       "      <th>0</th>\n",
       "      <td>5/8/2014</td>\n",
       "      <td>0:00</td>\n",
       "      <td>memphis</td>\n",
       "      <td>tn</td>\n",
       "      <td>us</td>\n",
       "      <td>rectangle</td>\n",
       "      <td>900.0</td>\n",
       "      <td>15 minutes</td>\n",
       "      <td>Standing at my window around 0:00 brilliantly ...</td>\n",
       "      <td>5/8/2014</td>\n",
       "      <td>35.1494444</td>\n",
       "      <td>-90.048889</td>\n",
       "      <td>Southeast</td>\n",
       "      <td>2014-05-08</td>\n",
       "      <td>2014</td>\n",
       "      <td>5</td>\n",
       "      <td>8</td>\n",
       "      <td>Thursday</td>\n",
       "      <td>Tennessee</td>\n",
       "      <td>2010-2015</td>\n",
       "    </tr>\n",
       "    <tr>\n",
       "      <th>1</th>\n",
       "      <td>5/7/2014</td>\n",
       "      <td>23:30</td>\n",
       "      <td>san isidro</td>\n",
       "      <td>nm</td>\n",
       "      <td>us</td>\n",
       "      <td>other</td>\n",
       "      <td>15.0</td>\n",
       "      <td>15 seconds</td>\n",
       "      <td>2 red lights gliding across sky&amp;#44 then green...</td>\n",
       "      <td>5/8/2014</td>\n",
       "      <td>35.563363</td>\n",
       "      <td>-106.770591</td>\n",
       "      <td>Southwest</td>\n",
       "      <td>2014-05-07</td>\n",
       "      <td>2014</td>\n",
       "      <td>5</td>\n",
       "      <td>7</td>\n",
       "      <td>Wednesday</td>\n",
       "      <td>New Mexico</td>\n",
       "      <td>2010-2015</td>\n",
       "    </tr>\n",
       "    <tr>\n",
       "      <th>2</th>\n",
       "      <td>5/7/2014</td>\n",
       "      <td>21:20</td>\n",
       "      <td>hillsboro</td>\n",
       "      <td>mo</td>\n",
       "      <td>us</td>\n",
       "      <td>fireball</td>\n",
       "      <td>360.0</td>\n",
       "      <td>4-6 minutes</td>\n",
       "      <td>Round slow moving silent ball looked like a ca...</td>\n",
       "      <td>5/8/2014</td>\n",
       "      <td>38.2322222</td>\n",
       "      <td>-90.562778</td>\n",
       "      <td>Midwest</td>\n",
       "      <td>2014-05-07</td>\n",
       "      <td>2014</td>\n",
       "      <td>5</td>\n",
       "      <td>7</td>\n",
       "      <td>Wednesday</td>\n",
       "      <td>Missouri</td>\n",
       "      <td>2010-2015</td>\n",
       "    </tr>\n",
       "    <tr>\n",
       "      <th>3</th>\n",
       "      <td>5/7/2014</td>\n",
       "      <td>21:10</td>\n",
       "      <td>naugatuck</td>\n",
       "      <td>ct</td>\n",
       "      <td>us</td>\n",
       "      <td>other</td>\n",
       "      <td>300.0</td>\n",
       "      <td>5 minutes</td>\n",
       "      <td>Large formation of lights in western sky&amp;#44 f...</td>\n",
       "      <td>5/8/2014</td>\n",
       "      <td>41.4858333</td>\n",
       "      <td>-73.051111</td>\n",
       "      <td>Northeast</td>\n",
       "      <td>2014-05-07</td>\n",
       "      <td>2014</td>\n",
       "      <td>5</td>\n",
       "      <td>7</td>\n",
       "      <td>Wednesday</td>\n",
       "      <td>Connecticut</td>\n",
       "      <td>2010-2015</td>\n",
       "    </tr>\n",
       "    <tr>\n",
       "      <th>4</th>\n",
       "      <td>5/7/2014</td>\n",
       "      <td>21:00</td>\n",
       "      <td>theodore</td>\n",
       "      <td>al</td>\n",
       "      <td>us</td>\n",
       "      <td>round</td>\n",
       "      <td>120.0</td>\n",
       "      <td>few minutes</td>\n",
       "      <td>Driving home and entered my neighborhood and s...</td>\n",
       "      <td>5/8/2014</td>\n",
       "      <td>30.5475</td>\n",
       "      <td>-88.175278</td>\n",
       "      <td>Southeast</td>\n",
       "      <td>2014-05-07</td>\n",
       "      <td>2014</td>\n",
       "      <td>5</td>\n",
       "      <td>7</td>\n",
       "      <td>Wednesday</td>\n",
       "      <td>Alabama</td>\n",
       "      <td>2010-2015</td>\n",
       "    </tr>\n",
       "  </tbody>\n",
       "</table>\n",
       "</div>"
      ],
      "text/plain": [
       "       date   time        city state country      shape  duration_sec  \\\n",
       "0  5/8/2014   0:00     memphis    tn      us  rectangle         900.0   \n",
       "1  5/7/2014  23:30  san isidro    nm      us      other          15.0   \n",
       "2  5/7/2014  21:20   hillsboro    mo      us   fireball         360.0   \n",
       "3  5/7/2014  21:10   naugatuck    ct      us      other         300.0   \n",
       "4  5/7/2014  21:00    theodore    al      us      round         120.0   \n",
       "\n",
       "  duration (hours/min)                                           comments  \\\n",
       "0           15 minutes  Standing at my window around 0:00 brilliantly ...   \n",
       "1           15 seconds  2 red lights gliding across sky&#44 then green...   \n",
       "2          4-6 minutes  Round slow moving silent ball looked like a ca...   \n",
       "3            5 minutes  Large formation of lights in western sky&#44 f...   \n",
       "4          few minutes  Driving home and entered my neighborhood and s...   \n",
       "\n",
       "  date posted    latitude   longitude     region datetime64  year  month  day  \\\n",
       "0    5/8/2014  35.1494444  -90.048889  Southeast 2014-05-08  2014      5    8   \n",
       "1    5/8/2014   35.563363 -106.770591  Southwest 2014-05-07  2014      5    7   \n",
       "2    5/8/2014  38.2322222  -90.562778    Midwest 2014-05-07  2014      5    7   \n",
       "3    5/8/2014  41.4858333  -73.051111  Northeast 2014-05-07  2014      5    7   \n",
       "4    5/8/2014     30.5475  -88.175278  Southeast 2014-05-07  2014      5    7   \n",
       "\n",
       "     weekday    statename   Date Bin  \n",
       "0   Thursday    Tennessee  2010-2015  \n",
       "1  Wednesday   New Mexico  2010-2015  \n",
       "2  Wednesday     Missouri  2010-2015  \n",
       "3  Wednesday  Connecticut  2010-2015  \n",
       "4  Wednesday      Alabama  2010-2015  "
      ]
     },
     "execution_count": 612,
     "metadata": {},
     "output_type": "execute_result"
    }
   ],
   "source": [
    "bins = [1940, 1959, 1969, 1979, 1989, 1999, 2009, 2015]\n",
    "\n",
    "\n",
    "labels = ['1950-1959', '1960-1969', '1970-1979', '1980-1989','1990-1999','2000-2009','2010-2015']\n",
    "\n",
    "ufo_df['Date Bin'] = pd.cut(ufo_df.datetime64.dt.year, bins, labels=labels, right=False)\n",
    "ufo_df.head()"
   ]
  },
  {
   "cell_type": "code",
   "execution_count": 611,
   "id": "ea695f45-cd14-4479-a155-f199246a770f",
   "metadata": {},
   "outputs": [
    {
     "data": {
      "text/html": [
       "<div>\n",
       "<style scoped>\n",
       "    .dataframe tbody tr th:only-of-type {\n",
       "        vertical-align: middle;\n",
       "    }\n",
       "\n",
       "    .dataframe tbody tr th {\n",
       "        vertical-align: top;\n",
       "    }\n",
       "\n",
       "    .dataframe thead th {\n",
       "        text-align: right;\n",
       "    }\n",
       "</style>\n",
       "<table border=\"1\" class=\"dataframe\">\n",
       "  <thead>\n",
       "    <tr style=\"text-align: right;\">\n",
       "      <th></th>\n",
       "      <th>Location</th>\n",
       "      <th>Year</th>\n",
       "      <th>Resident Population</th>\n",
       "      <th>Date Bin</th>\n",
       "    </tr>\n",
       "  </thead>\n",
       "  <tbody>\n",
       "    <tr>\n",
       "      <th>0</th>\n",
       "      <td>Alabama</td>\n",
       "      <td>1910</td>\n",
       "      <td>2,138,093</td>\n",
       "      <td>2010-2015</td>\n",
       "    </tr>\n",
       "    <tr>\n",
       "      <th>1</th>\n",
       "      <td>Alaska</td>\n",
       "      <td>1910</td>\n",
       "      <td>64,356</td>\n",
       "      <td>2010-2015</td>\n",
       "    </tr>\n",
       "    <tr>\n",
       "      <th>2</th>\n",
       "      <td>Arizona</td>\n",
       "      <td>1910</td>\n",
       "      <td>204,354</td>\n",
       "      <td>2010-2015</td>\n",
       "    </tr>\n",
       "    <tr>\n",
       "      <th>3</th>\n",
       "      <td>Arkansas</td>\n",
       "      <td>1910</td>\n",
       "      <td>1,574,449</td>\n",
       "      <td>2010-2015</td>\n",
       "    </tr>\n",
       "    <tr>\n",
       "      <th>4</th>\n",
       "      <td>California</td>\n",
       "      <td>1910</td>\n",
       "      <td>2,377,549</td>\n",
       "      <td>2010-2015</td>\n",
       "    </tr>\n",
       "    <tr>\n",
       "      <th>...</th>\n",
       "      <td>...</td>\n",
       "      <td>...</td>\n",
       "      <td>...</td>\n",
       "      <td>...</td>\n",
       "    </tr>\n",
       "    <tr>\n",
       "      <th>679</th>\n",
       "      <td>Midwest Region</td>\n",
       "      <td>2020</td>\n",
       "      <td>68,985,454</td>\n",
       "      <td>2010-2015</td>\n",
       "    </tr>\n",
       "    <tr>\n",
       "      <th>680</th>\n",
       "      <td>Northeast Region</td>\n",
       "      <td>2020</td>\n",
       "      <td>57,609,148</td>\n",
       "      <td>2010-2015</td>\n",
       "    </tr>\n",
       "    <tr>\n",
       "      <th>681</th>\n",
       "      <td>South Region</td>\n",
       "      <td>2020</td>\n",
       "      <td>126,266,107</td>\n",
       "      <td>2010-2015</td>\n",
       "    </tr>\n",
       "    <tr>\n",
       "      <th>682</th>\n",
       "      <td>West Region</td>\n",
       "      <td>2020</td>\n",
       "      <td>78,588,572</td>\n",
       "      <td>2010-2015</td>\n",
       "    </tr>\n",
       "    <tr>\n",
       "      <th>683</th>\n",
       "      <td>United States</td>\n",
       "      <td>2020</td>\n",
       "      <td>331,449,281</td>\n",
       "      <td>2010-2015</td>\n",
       "    </tr>\n",
       "  </tbody>\n",
       "</table>\n",
       "<p>684 rows × 4 columns</p>\n",
       "</div>"
      ],
      "text/plain": [
       "             Location  Year Resident Population   Date Bin\n",
       "0             Alabama  1910           2,138,093  2010-2015\n",
       "1              Alaska  1910              64,356  2010-2015\n",
       "2             Arizona  1910             204,354  2010-2015\n",
       "3            Arkansas  1910           1,574,449  2010-2015\n",
       "4          California  1910           2,377,549  2010-2015\n",
       "..                ...   ...                 ...        ...\n",
       "679    Midwest Region  2020          68,985,454  2010-2015\n",
       "680  Northeast Region  2020          57,609,148  2010-2015\n",
       "681      South Region  2020         126,266,107  2010-2015\n",
       "682       West Region  2020          78,588,572  2010-2015\n",
       "683     United States  2020         331,449,281  2010-2015\n",
       "\n",
       "[684 rows x 4 columns]"
      ]
     },
     "execution_count": 611,
     "metadata": {},
     "output_type": "execute_result"
    }
   ],
   "source": [
    "pop_df['Date Bin'] = pd.cut(ufo_df.datetime64.dt.year, bins, labels=labels, right=False)\n",
    "pop_df"
   ]
  },
  {
   "cell_type": "code",
   "execution_count": 525,
   "id": "3ff4c978-2064-4c1f-ab9b-840c991cee98",
   "metadata": {
    "tags": []
   },
   "outputs": [
    {
     "data": {
      "text/html": [
       "<div>\n",
       "<style scoped>\n",
       "    .dataframe tbody tr th:only-of-type {\n",
       "        vertical-align: middle;\n",
       "    }\n",
       "\n",
       "    .dataframe tbody tr th {\n",
       "        vertical-align: top;\n",
       "    }\n",
       "\n",
       "    .dataframe thead th {\n",
       "        text-align: right;\n",
       "    }\n",
       "</style>\n",
       "<table border=\"1\" class=\"dataframe\">\n",
       "  <thead>\n",
       "    <tr style=\"text-align: right;\">\n",
       "      <th></th>\n",
       "      <th>Date Bin</th>\n",
       "      <th>shape</th>\n",
       "      <th>count</th>\n",
       "    </tr>\n",
       "  </thead>\n",
       "  <tbody>\n",
       "    <tr>\n",
       "      <th>0</th>\n",
       "      <td>1950-1959</td>\n",
       "      <td>changing</td>\n",
       "      <td>1</td>\n",
       "    </tr>\n",
       "    <tr>\n",
       "      <th>1</th>\n",
       "      <td>1950-1959</td>\n",
       "      <td>chevron</td>\n",
       "      <td>3</td>\n",
       "    </tr>\n",
       "    <tr>\n",
       "      <th>2</th>\n",
       "      <td>1950-1959</td>\n",
       "      <td>cigar</td>\n",
       "      <td>32</td>\n",
       "    </tr>\n",
       "    <tr>\n",
       "      <th>3</th>\n",
       "      <td>1950-1959</td>\n",
       "      <td>cone</td>\n",
       "      <td>1</td>\n",
       "    </tr>\n",
       "    <tr>\n",
       "      <th>4</th>\n",
       "      <td>1950-1959</td>\n",
       "      <td>crescent</td>\n",
       "      <td>0</td>\n",
       "    </tr>\n",
       "    <tr>\n",
       "      <th>...</th>\n",
       "      <td>...</td>\n",
       "      <td>...</td>\n",
       "      <td>...</td>\n",
       "    </tr>\n",
       "    <tr>\n",
       "      <th>149</th>\n",
       "      <td>2010-2015</td>\n",
       "      <td>pyramid</td>\n",
       "      <td>0</td>\n",
       "    </tr>\n",
       "    <tr>\n",
       "      <th>150</th>\n",
       "      <td>2010-2015</td>\n",
       "      <td>rectangle</td>\n",
       "      <td>427</td>\n",
       "    </tr>\n",
       "    <tr>\n",
       "      <th>151</th>\n",
       "      <td>2010-2015</td>\n",
       "      <td>round</td>\n",
       "      <td>5250</td>\n",
       "    </tr>\n",
       "    <tr>\n",
       "      <th>152</th>\n",
       "      <td>2010-2015</td>\n",
       "      <td>teardrop</td>\n",
       "      <td>245</td>\n",
       "    </tr>\n",
       "    <tr>\n",
       "      <th>153</th>\n",
       "      <td>2010-2015</td>\n",
       "      <td>triangle</td>\n",
       "      <td>2464</td>\n",
       "    </tr>\n",
       "  </tbody>\n",
       "</table>\n",
       "<p>154 rows × 3 columns</p>\n",
       "</div>"
      ],
      "text/plain": [
       "      Date Bin      shape  count\n",
       "0    1950-1959   changing      1\n",
       "1    1950-1959    chevron      3\n",
       "2    1950-1959      cigar     32\n",
       "3    1950-1959       cone      1\n",
       "4    1950-1959   crescent      0\n",
       "..         ...        ...    ...\n",
       "149  2010-2015    pyramid      0\n",
       "150  2010-2015  rectangle    427\n",
       "151  2010-2015      round   5250\n",
       "152  2010-2015   teardrop    245\n",
       "153  2010-2015   triangle   2464\n",
       "\n",
       "[154 rows x 3 columns]"
      ]
     },
     "execution_count": 525,
     "metadata": {},
     "output_type": "execute_result"
    }
   ],
   "source": [
    "date_shape = ufo_df.groupby(['Date Bin', 'shape']).size().reset_index(name='count')\n",
    "date_shape"
   ]
  },
  {
   "cell_type": "code",
   "execution_count": 637,
   "id": "e6eca60d-4547-4a3e-9271-71dba3a07697",
   "metadata": {},
   "outputs": [
    {
     "data": {
      "text/html": [
       "<div>\n",
       "<style scoped>\n",
       "    .dataframe tbody tr th:only-of-type {\n",
       "        vertical-align: middle;\n",
       "    }\n",
       "\n",
       "    .dataframe tbody tr th {\n",
       "        vertical-align: top;\n",
       "    }\n",
       "\n",
       "    .dataframe thead th {\n",
       "        text-align: right;\n",
       "    }\n",
       "</style>\n",
       "<table border=\"1\" class=\"dataframe\">\n",
       "  <thead>\n",
       "    <tr style=\"text-align: right;\">\n",
       "      <th></th>\n",
       "      <th>Date Bin</th>\n",
       "      <th>shape</th>\n",
       "      <th>count</th>\n",
       "    </tr>\n",
       "  </thead>\n",
       "  <tbody>\n",
       "    <tr>\n",
       "      <th>0</th>\n",
       "      <td>1950-1959</td>\n",
       "      <td>changing</td>\n",
       "      <td>1</td>\n",
       "    </tr>\n",
       "    <tr>\n",
       "      <th>1</th>\n",
       "      <td>1950-1959</td>\n",
       "      <td>chevron</td>\n",
       "      <td>3</td>\n",
       "    </tr>\n",
       "    <tr>\n",
       "      <th>2</th>\n",
       "      <td>1950-1959</td>\n",
       "      <td>cigar</td>\n",
       "      <td>32</td>\n",
       "    </tr>\n",
       "    <tr>\n",
       "      <th>3</th>\n",
       "      <td>1950-1959</td>\n",
       "      <td>cone</td>\n",
       "      <td>1</td>\n",
       "    </tr>\n",
       "    <tr>\n",
       "      <th>4</th>\n",
       "      <td>1950-1959</td>\n",
       "      <td>crescent</td>\n",
       "      <td>0</td>\n",
       "    </tr>\n",
       "  </tbody>\n",
       "</table>\n",
       "</div>"
      ],
      "text/plain": [
       "    Date Bin     shape  count\n",
       "0  1950-1959  changing      1\n",
       "1  1950-1959   chevron      3\n",
       "2  1950-1959     cigar     32\n",
       "3  1950-1959      cone      1\n",
       "4  1950-1959  crescent      0"
      ]
     },
     "execution_count": 637,
     "metadata": {},
     "output_type": "execute_result"
    }
   ],
   "source": [
    "date_region = ufo_df.groupby(['Date Bin','shape']).size().reset_index(name='count')\n",
    "date_region.head()"
   ]
  },
  {
   "cell_type": "code",
   "execution_count": null,
   "id": "187d8445-b2a1-4922-b2f9-b68181c3c28e",
   "metadata": {},
   "outputs": [],
   "source": []
  },
  {
   "cell_type": "code",
   "execution_count": 644,
   "id": "fcbdfeb0-a5b8-4551-b87b-d0d8198cf0ec",
   "metadata": {},
   "outputs": [
    {
     "data": {
      "text/plain": [
       "(0.0, 7000.0)"
      ]
     },
     "execution_count": 644,
     "metadata": {},
     "output_type": "execute_result"
    },
    {
     "data": {
      "image/png": "[encoded data removed]",
      "text/plain": [
       "<Figure size 432x288 with 1 Axes>"
      ]
     },
     "metadata": {
      "needs_background": "light"
     },
     "output_type": "display_data"
    }
   ],
   "source": [
    "ten_df = date_region.loc[date_region['Date Bin'] == '2010-2015'].set_index('shape')\n",
    "ten_df.plot(kind = \"bar\",color=\"limegreen\")\n",
    "axes = plt.gca()\n",
    "axes.set_ylim([0,7000])"
   ]
  },
  {
   "cell_type": "code",
   "execution_count": 645,
   "id": "ee3d93c3-f014-41c7-b30b-ea60ce5c10c0",
   "metadata": {},
   "outputs": [
    {
     "data": {
      "text/plain": [
       "(0.0, 7000.0)"
      ]
     },
     "execution_count": 645,
     "metadata": {},
     "output_type": "execute_result"
    },
    {
     "data": {
      "image/png": "[encoded data removed]",
      "text/plain": [
       "<Figure size 432x288 with 1 Axes>"
      ]
     },
     "metadata": {
      "needs_background": "light"
     },
     "output_type": "display_data"
    }
   ],
   "source": [
    "#labels = ['1950-1959', '1960-1969', '1970-1979', '1980-1989','1990-1999','2000-2009','2010-2015']\n",
    "\n",
    "os_df = date_region.loc[date_region['Date Bin'] == '2000-2009'].set_index('shape')\n",
    "os_df.plot(kind = \"bar\",color=\"limegreen\")\n",
    "axes = plt.gca()\n",
    "axes.set_ylim([0,7000])"
   ]
  },
  {
   "cell_type": "code",
   "execution_count": 646,
   "id": "62f71c99-c537-4db5-b997-40f8b3f533b0",
   "metadata": {},
   "outputs": [
    {
     "data": {
      "text/plain": [
       "(0.0, 7000.0)"
      ]
     },
     "execution_count": 646,
     "metadata": {},
     "output_type": "execute_result"
    },
    {
     "data": {
      "image/png": "[encoded data removed]",
      "text/plain": [
       "<Figure size 432x288 with 1 Axes>"
      ]
     },
     "metadata": {
      "needs_background": "light"
     },
     "output_type": "display_data"
    }
   ],
   "source": [
    "#labels = ['1950-1959', '1960-1969', '1970-1979', '1980-1989','1990-1999','2000-2009','2010-2015']\n",
    "\n",
    "nines_df = date_region.loc[date_region['Date Bin'] == '1990-1999'].set_index('shape')\n",
    "nines_df.plot(kind = \"bar\",color=\"limegreen\")\n",
    "axes = plt.gca()\n",
    "axes.set_ylim([0,7000])"
   ]
  },
  {
   "cell_type": "code",
   "execution_count": 647,
   "id": "4099e95f-0662-4fb3-84f7-f5b2834eba8b",
   "metadata": {},
   "outputs": [
    {
     "data": {
      "text/plain": [
       "(0.0, 7000.0)"
      ]
     },
     "execution_count": 647,
     "metadata": {},
     "output_type": "execute_result"
    },
    {
     "data": {
      "image/png": "[encoded data removed]",
      "text/plain": [
       "<Figure size 432x288 with 1 Axes>"
      ]
     },
     "metadata": {
      "needs_background": "light"
     },
     "output_type": "display_data"
    }
   ],
   "source": [
    "#labels = ['1950-1959', '1960-1969', '1970-1979', '1980-1989','1990-1999','2000-2009','2010-2015']\n",
    "\n",
    "eights_df = date_region.loc[date_region['Date Bin'] == '1980-1989'].set_index('shape')\n",
    "eights_df.plot(kind = \"bar\",color=\"limegreen\")\n",
    "axes = plt.gca()\n",
    "axes.set_ylim([0,7000])"
   ]
  },
  {
   "cell_type": "code",
   "execution_count": 648,
   "id": "6ce1d60c-2aea-424d-b1e7-6aa76aa53040",
   "metadata": {},
   "outputs": [
    {
     "data": {
      "text/plain": [
       "(0.0, 7000.0)"
      ]
     },
     "execution_count": 648,
     "metadata": {},
     "output_type": "execute_result"
    },
    {
     "data": {
      "image/png": "[encoded data removed]",
      "text/plain": [
       "<Figure size 432x288 with 1 Axes>"
      ]
     },
     "metadata": {
      "needs_background": "light"
     },
     "output_type": "display_data"
    }
   ],
   "source": [
    "#labels = ['1950-1959', '1960-1969', '1970-1979', '1980-1989','1990-1999','2000-2009','2010-2015']\n",
    "\n",
    "sevens_df = date_region.loc[date_region['Date Bin'] == '1970-1979'].set_index('shape')\n",
    "sevens_df.plot(kind = \"bar\",color=\"limegreen\")\n",
    "axes = plt.gca()\n",
    "axes.set_ylim([0,7000])"
   ]
  },
  {
   "cell_type": "code",
   "execution_count": 649,
   "id": "d6e17cd0-1539-4700-b3ec-d7f0da6017ca",
   "metadata": {},
   "outputs": [
    {
     "data": {
      "text/plain": [
       "(0.0, 7000.0)"
      ]
     },
     "execution_count": 649,
     "metadata": {},
     "output_type": "execute_result"
    },
    {
     "data": {
      "image/png": "[encoded data removed]",
      "text/plain": [
       "<Figure size 432x288 with 1 Axes>"
      ]
     },
     "metadata": {
      "needs_background": "light"
     },
     "output_type": "display_data"
    }
   ],
   "source": [
    "#labels = ['1950-1959', '1960-1969', '1970-1979', '1980-1989','1990-1999','2000-2009','2010-2015']\n",
    "\n",
    "sixes_df = date_region.loc[date_region['Date Bin'] == '1960-1969'].set_index('shape')\n",
    "sixes_df.plot(kind = \"bar\",color=\"limegreen\")\n",
    "axes = plt.gca()\n",
    "axes.set_ylim([0,7000])"
   ]
  },
  {
   "cell_type": "code",
   "execution_count": 650,
   "id": "43556330-ee9b-4436-99a4-54bdac7b4f17",
   "metadata": {},
   "outputs": [
    {
     "data": {
      "text/plain": [
       "(0.0, 7000.0)"
      ]
     },
     "execution_count": 650,
     "metadata": {},
     "output_type": "execute_result"
    },
    {
     "data": {
      "image/png": "[encoded data removed]",
      "text/plain": [
       "<Figure size 432x288 with 1 Axes>"
      ]
     },
     "metadata": {
      "needs_background": "light"
     },
     "output_type": "display_data"
    }
   ],
   "source": [
    "#labels = ['1950-1959', '1960-1969', '1970-1979', '1980-1989','1990-1999','2000-2009','2010-2015']\n",
    "\n",
    "fives_df = date_region.loc[date_region['Date Bin'] == '1950-1959'].set_index('shape')\n",
    "fives_df.plot(kind = \"bar\",color=\"limegreen\")\n",
    "axes = plt.gca()\n",
    "axes.set_ylim([0,7000])"
   ]
  },
  {
   "cell_type": "code",
   "execution_count": null,
   "id": "d7e63c2a-bacf-4dc8-869b-73e20dcb65f4",
   "metadata": {},
   "outputs": [],
   "source": [
    "fig = plt.figure()\n",
    "ax = fig.add_subplot(projection='3d')\n",
    "\n",
    "colors = ['r', 'g', 'b', 'y', 'c', 'm', 'k']\n",
    "yticks = [6, 5, 4, 3, 2, 1, 0]\n",
    "for c, k in zip(colors, yticks):\n",
    "    # Generate the random data for the y=k 'layer'.\n",
    "    xs = np.arange(20)\n",
    "    ys = np.random.rand(20)\n",
    "\n",
    "    # You can provide either a single color or an array with the same length as\n",
    "    # xs and ys. To demonstrate this, we color the first bar of each set cyan.\n",
    "    cs = [c] * len(xs)\n",
    "    cs[0] = 'c'\n",
    "\n",
    "    # Plot the bar graph given by xs and ys on the plane y=k with 80% opacity.\n",
    "    ax.bar(xs, ys, zs=k, zdir='y', color=cs, alpha=0.8)\n",
    "\n",
    "ax.set_xlabel('X')\n",
    "ax.set_ylabel('Y')\n",
    "ax.set_zlabel('Z')\n",
    "\n",
    "# On the y axis let's only label the discrete values that we have data for.\n",
    "ax.set_yticks(yticks)\n",
    "\n",
    "plt.show()"
   ]
  },
  {
   "cell_type": "code",
   "execution_count": 421,
   "id": "a3f8ce95-d5ca-47f7-bcbd-863b2f7fc915",
   "metadata": {},
   "outputs": [],
   "source": [
    "date_shape = date_shape.drop(date_shape.index[date_shape['count'] < 35])"
   ]
  },
  {
   "cell_type": "code",
   "execution_count": 422,
   "id": "68f8e858-5971-4a14-bc8e-f5ca5e35f7ee",
   "metadata": {},
   "outputs": [
    {
     "data": {
      "text/html": [
       "<div>\n",
       "<style scoped>\n",
       "    .dataframe tbody tr th:only-of-type {\n",
       "        vertical-align: middle;\n",
       "    }\n",
       "\n",
       "    .dataframe tbody tr th {\n",
       "        vertical-align: top;\n",
       "    }\n",
       "\n",
       "    .dataframe thead th {\n",
       "        text-align: right;\n",
       "    }\n",
       "</style>\n",
       "<table border=\"1\" class=\"dataframe\">\n",
       "  <thead>\n",
       "    <tr style=\"text-align: right;\">\n",
       "      <th></th>\n",
       "      <th>Date Bin</th>\n",
       "      <th>shape</th>\n",
       "      <th>count</th>\n",
       "    </tr>\n",
       "  </thead>\n",
       "  <tbody>\n",
       "    <tr>\n",
       "      <th>8</th>\n",
       "      <td>1950-1959</td>\n",
       "      <td>disk</td>\n",
       "      <td>126</td>\n",
       "    </tr>\n",
       "    <tr>\n",
       "      <th>14</th>\n",
       "      <td>1950-1959</td>\n",
       "      <td>light</td>\n",
       "      <td>43</td>\n",
       "    </tr>\n",
       "    <tr>\n",
       "      <th>15</th>\n",
       "      <td>1950-1959</td>\n",
       "      <td>other</td>\n",
       "      <td>44</td>\n",
       "    </tr>\n",
       "    <tr>\n",
       "      <th>19</th>\n",
       "      <td>1950-1959</td>\n",
       "      <td>round</td>\n",
       "      <td>67</td>\n",
       "    </tr>\n",
       "    <tr>\n",
       "      <th>24</th>\n",
       "      <td>1960-1969</td>\n",
       "      <td>cigar</td>\n",
       "      <td>74</td>\n",
       "    </tr>\n",
       "    <tr>\n",
       "      <th>...</th>\n",
       "      <td>...</td>\n",
       "      <td>...</td>\n",
       "      <td>...</td>\n",
       "    </tr>\n",
       "    <tr>\n",
       "      <th>148</th>\n",
       "      <td>2010-2015</td>\n",
       "      <td>oval</td>\n",
       "      <td>1239</td>\n",
       "    </tr>\n",
       "    <tr>\n",
       "      <th>150</th>\n",
       "      <td>2010-2015</td>\n",
       "      <td>rectangle</td>\n",
       "      <td>427</td>\n",
       "    </tr>\n",
       "    <tr>\n",
       "      <th>151</th>\n",
       "      <td>2010-2015</td>\n",
       "      <td>round</td>\n",
       "      <td>5250</td>\n",
       "    </tr>\n",
       "    <tr>\n",
       "      <th>152</th>\n",
       "      <td>2010-2015</td>\n",
       "      <td>teardrop</td>\n",
       "      <td>245</td>\n",
       "    </tr>\n",
       "    <tr>\n",
       "      <th>153</th>\n",
       "      <td>2010-2015</td>\n",
       "      <td>triangle</td>\n",
       "      <td>2464</td>\n",
       "    </tr>\n",
       "  </tbody>\n",
       "</table>\n",
       "<p>86 rows × 3 columns</p>\n",
       "</div>"
      ],
      "text/plain": [
       "      Date Bin      shape  count\n",
       "8    1950-1959       disk    126\n",
       "14   1950-1959      light     43\n",
       "15   1950-1959      other     44\n",
       "19   1950-1959      round     67\n",
       "24   1960-1969      cigar     74\n",
       "..         ...        ...    ...\n",
       "148  2010-2015       oval   1239\n",
       "150  2010-2015  rectangle    427\n",
       "151  2010-2015      round   5250\n",
       "152  2010-2015   teardrop    245\n",
       "153  2010-2015   triangle   2464\n",
       "\n",
       "[86 rows x 3 columns]"
      ]
     },
     "execution_count": 422,
     "metadata": {},
     "output_type": "execute_result"
    }
   ],
   "source": [
    "date_shape"
   ]
  },
  {
   "cell_type": "code",
   "execution_count": 423,
   "id": "5e78ca74-4c1d-41ba-ab48-28626f0dc32f",
   "metadata": {},
   "outputs": [
    {
     "data": {
      "text/plain": [
       "Date Bin\n",
       "1950-1959    AxesSubplot(0.125,0.125;0.775x0.755)\n",
       "1960-1969    AxesSubplot(0.125,0.125;0.775x0.755)\n",
       "1970-1979    AxesSubplot(0.125,0.125;0.775x0.755)\n",
       "1980-1989    AxesSubplot(0.125,0.125;0.775x0.755)\n",
       "1990-1999    AxesSubplot(0.125,0.125;0.775x0.755)\n",
       "2000-2009    AxesSubplot(0.125,0.125;0.775x0.755)\n",
       "2010-2015    AxesSubplot(0.125,0.125;0.775x0.755)\n",
       "dtype: object"
      ]
     },
     "execution_count": 423,
     "metadata": {},
     "output_type": "execute_result"
    },
    {
     "data": {
      "image/png": "[encoded data removed]",
      "text/plain": [
       "<Figure size 432x288 with 1 Axes>"
      ]
     },
     "metadata": {
      "needs_background": "light"
     },
     "output_type": "display_data"
    },
    {
     "data": {
      "image/png": "[encoded data removed]",
      "text/plain": [
       "<Figure size 432x288 with 1 Axes>"
      ]
     },
     "metadata": {
      "needs_background": "light"
     },
     "output_type": "display_data"
    },
    {
     "data": {
      "image/png": "[encoded data removed]",
      "text/plain": [
       "<Figure size 432x288 with 1 Axes>"
      ]
     },
     "metadata": {
      "needs_background": "light"
     },
     "output_type": "display_data"
    },
    {
     "data": {
      "image/png": "[encoded data removed]",
      "text/plain": [
       "<Figure size 432x288 with 1 Axes>"
      ]
     },
     "metadata": {
      "needs_background": "light"
     },
     "output_type": "display_data"
    },
    {
     "data": {
      "image/png": "[encoded data removed]",
      "text/plain": [
       "<Figure size 432x288 with 1 Axes>"
      ]
     },
     "metadata": {
      "needs_background": "light"
     },
     "output_type": "display_data"
    },
    {
     "data": {
      "image/png": "[encoded data removed]",
      "text/plain": [
       "<Figure size 432x288 with 1 Axes>"
      ]
     },
     "metadata": {
      "needs_background": "light"
     },
     "output_type": "display_data"
    },
    {
     "data": {
      "image/png": "[encoded data removed]",
      "text/plain": [
       "<Figure size 432x288 with 1 Axes>"
      ]
     },
     "metadata": {
      "needs_background": "light"
     },
     "output_type": "display_data"
    }
   ],
   "source": [
    "date_shape.groupby(\"Date Bin\").plot(kind='bar', x=\"shape\", y=\"count\")"
   ]
  },
  {
   "cell_type": "code",
   "execution_count": 424,
   "id": "3ee4a2fb-2959-476a-b639-2f6dc35bbbcc",
   "metadata": {},
   "outputs": [
    {
     "data": {
      "text/html": [
       "<div>\n",
       "<style scoped>\n",
       "    .dataframe tbody tr th:only-of-type {\n",
       "        vertical-align: middle;\n",
       "    }\n",
       "\n",
       "    .dataframe tbody tr th {\n",
       "        vertical-align: top;\n",
       "    }\n",
       "\n",
       "    .dataframe thead th {\n",
       "        text-align: right;\n",
       "    }\n",
       "</style>\n",
       "<table border=\"1\" class=\"dataframe\">\n",
       "  <thead>\n",
       "    <tr style=\"text-align: right;\">\n",
       "      <th></th>\n",
       "      <th>shape</th>\n",
       "      <th>count</th>\n",
       "    </tr>\n",
       "    <tr>\n",
       "      <th>Date Bin</th>\n",
       "      <th></th>\n",
       "      <th></th>\n",
       "    </tr>\n",
       "  </thead>\n",
       "  <tbody>\n",
       "    <tr>\n",
       "      <th>1950-1959</th>\n",
       "      <td>disk</td>\n",
       "      <td>126</td>\n",
       "    </tr>\n",
       "    <tr>\n",
       "      <th>1950-1959</th>\n",
       "      <td>light</td>\n",
       "      <td>43</td>\n",
       "    </tr>\n",
       "    <tr>\n",
       "      <th>1950-1959</th>\n",
       "      <td>other</td>\n",
       "      <td>44</td>\n",
       "    </tr>\n",
       "    <tr>\n",
       "      <th>1950-1959</th>\n",
       "      <td>round</td>\n",
       "      <td>67</td>\n",
       "    </tr>\n",
       "    <tr>\n",
       "      <th>1960-1969</th>\n",
       "      <td>cigar</td>\n",
       "      <td>74</td>\n",
       "    </tr>\n",
       "    <tr>\n",
       "      <th>...</th>\n",
       "      <td>...</td>\n",
       "      <td>...</td>\n",
       "    </tr>\n",
       "    <tr>\n",
       "      <th>2010-2015</th>\n",
       "      <td>oval</td>\n",
       "      <td>1239</td>\n",
       "    </tr>\n",
       "    <tr>\n",
       "      <th>2010-2015</th>\n",
       "      <td>rectangle</td>\n",
       "      <td>427</td>\n",
       "    </tr>\n",
       "    <tr>\n",
       "      <th>2010-2015</th>\n",
       "      <td>round</td>\n",
       "      <td>5250</td>\n",
       "    </tr>\n",
       "    <tr>\n",
       "      <th>2010-2015</th>\n",
       "      <td>teardrop</td>\n",
       "      <td>245</td>\n",
       "    </tr>\n",
       "    <tr>\n",
       "      <th>2010-2015</th>\n",
       "      <td>triangle</td>\n",
       "      <td>2464</td>\n",
       "    </tr>\n",
       "  </tbody>\n",
       "</table>\n",
       "<p>86 rows × 2 columns</p>\n",
       "</div>"
      ],
      "text/plain": [
       "               shape  count\n",
       "Date Bin                   \n",
       "1950-1959       disk    126\n",
       "1950-1959      light     43\n",
       "1950-1959      other     44\n",
       "1950-1959      round     67\n",
       "1960-1969      cigar     74\n",
       "...              ...    ...\n",
       "2010-2015       oval   1239\n",
       "2010-2015  rectangle    427\n",
       "2010-2015      round   5250\n",
       "2010-2015   teardrop    245\n",
       "2010-2015   triangle   2464\n",
       "\n",
       "[86 rows x 2 columns]"
      ]
     },
     "execution_count": 424,
     "metadata": {},
     "output_type": "execute_result"
    }
   ],
   "source": [
    "date_shape_df = date_shape.set_index('Date Bin')\n",
    "date_shape_df"
   ]
  },
  {
   "cell_type": "code",
   "execution_count": 425,
   "id": "a6d8db4a-7b0d-4dea-8126-7401a46d0f50",
   "metadata": {},
   "outputs": [
    {
     "data": {
      "text/plain": [
       "<matplotlib.legend.Legend at 0x233866a7b50>"
      ]
     },
     "execution_count": 425,
     "metadata": {},
     "output_type": "execute_result"
    },
    {
     "data": {
      "image/png": "[encoded data removed]",
      "text/plain": [
       "<Figure size 432x288 with 1 Axes>"
      ]
     },
     "metadata": {
      "needs_background": "light"
     },
     "output_type": "display_data"
    }
   ],
   "source": [
    "date_shape_df.plot().legend(title='shape', bbox_to_anchor=(1, 1))"
   ]
  },
  {
   "cell_type": "code",
   "execution_count": 445,
   "id": "27dfe00a-bec1-445e-aea0-49b545d28f3c",
   "metadata": {},
   "outputs": [],
   "source": [
    "groups = ufo_df.groupby(['shape', pd.cut(ufo_df.year, bins)])\n",
    "groupsun = groups.size().unstack()"
   ]
  },
  {
   "cell_type": "code",
   "execution_count": null,
   "id": "d5152ab9-7e23-4f3d-9220-00abd054a56b",
   "metadata": {},
   "outputs": [],
   "source": []
  },
  {
   "cell_type": "code",
   "execution_count": 496,
   "id": "500502ae-1c27-453c-842f-fefd19aaf9d3",
   "metadata": {},
   "outputs": [
    {
     "data": {
      "text/html": [
       "<div>\n",
       "<style scoped>\n",
       "    .dataframe tbody tr th:only-of-type {\n",
       "        vertical-align: middle;\n",
       "    }\n",
       "\n",
       "    .dataframe tbody tr th {\n",
       "        vertical-align: top;\n",
       "    }\n",
       "\n",
       "    .dataframe thead th {\n",
       "        text-align: right;\n",
       "    }\n",
       "</style>\n",
       "<table border=\"1\" class=\"dataframe\">\n",
       "  <thead>\n",
       "    <tr style=\"text-align: right;\">\n",
       "      <th></th>\n",
       "      <th>Date Bin</th>\n",
       "      <th>state</th>\n",
       "      <th>shape</th>\n",
       "      <th>count</th>\n",
       "    </tr>\n",
       "  </thead>\n",
       "  <tbody>\n",
       "    <tr>\n",
       "      <th>5822</th>\n",
       "      <td>2000-2009</td>\n",
       "      <td>ca</td>\n",
       "      <td>light</td>\n",
       "      <td>1011</td>\n",
       "    </tr>\n",
       "    <tr>\n",
       "      <th>5827</th>\n",
       "      <td>2000-2009</td>\n",
       "      <td>ca</td>\n",
       "      <td>round</td>\n",
       "      <td>771</td>\n",
       "    </tr>\n",
       "    <tr>\n",
       "      <th>6966</th>\n",
       "      <td>2010-2015</td>\n",
       "      <td>ca</td>\n",
       "      <td>light</td>\n",
       "      <td>759</td>\n",
       "    </tr>\n",
       "    <tr>\n",
       "      <th>5823</th>\n",
       "      <td>2000-2009</td>\n",
       "      <td>ca</td>\n",
       "      <td>other</td>\n",
       "      <td>668</td>\n",
       "    </tr>\n",
       "    <tr>\n",
       "      <th>6971</th>\n",
       "      <td>2010-2015</td>\n",
       "      <td>ca</td>\n",
       "      <td>round</td>\n",
       "      <td>591</td>\n",
       "    </tr>\n",
       "  </tbody>\n",
       "</table>\n",
       "</div>"
      ],
      "text/plain": [
       "       Date Bin state  shape  count\n",
       "5822  2000-2009    ca  light   1011\n",
       "5827  2000-2009    ca  round    771\n",
       "6966  2010-2015    ca  light    759\n",
       "5823  2000-2009    ca  other    668\n",
       "6971  2010-2015    ca  round    591"
      ]
     },
     "execution_count": 496,
     "metadata": {},
     "output_type": "execute_result"
    }
   ],
   "source": [
    "date_state_shape = ufo_df.groupby(['Date Bin', 'state', 'shape']).size().reset_index(name='count').sort_values(by = ['count'], ascending = False)\n",
    "date_state_shape.head()"
   ]
  },
  {
   "cell_type": "code",
   "execution_count": 537,
   "id": "1e666d0c-b088-4b26-ae20-770673e3732e",
   "metadata": {},
   "outputs": [
    {
     "data": {
      "text/html": [
       "<div>\n",
       "<style scoped>\n",
       "    .dataframe tbody tr th:only-of-type {\n",
       "        vertical-align: middle;\n",
       "    }\n",
       "\n",
       "    .dataframe tbody tr th {\n",
       "        vertical-align: top;\n",
       "    }\n",
       "\n",
       "    .dataframe thead th {\n",
       "        text-align: right;\n",
       "    }\n",
       "</style>\n",
       "<table border=\"1\" class=\"dataframe\">\n",
       "  <thead>\n",
       "    <tr style=\"text-align: right;\">\n",
       "      <th></th>\n",
       "      <th></th>\n",
       "      <th></th>\n",
       "      <th>shape</th>\n",
       "    </tr>\n",
       "    <tr>\n",
       "      <th>Date Bin</th>\n",
       "      <th>region</th>\n",
       "      <th>shape</th>\n",
       "      <th></th>\n",
       "    </tr>\n",
       "  </thead>\n",
       "  <tbody>\n",
       "    <tr>\n",
       "      <th rowspan=\"5\" valign=\"top\">1950-1959</th>\n",
       "      <th rowspan=\"5\" valign=\"top\">Midwest</th>\n",
       "      <th>disk</th>\n",
       "      <td>24</td>\n",
       "    </tr>\n",
       "    <tr>\n",
       "      <th>other</th>\n",
       "      <td>16</td>\n",
       "    </tr>\n",
       "    <tr>\n",
       "      <th>round</th>\n",
       "      <td>12</td>\n",
       "    </tr>\n",
       "    <tr>\n",
       "      <th>light</th>\n",
       "      <td>10</td>\n",
       "    </tr>\n",
       "    <tr>\n",
       "      <th>cigar</th>\n",
       "      <td>7</td>\n",
       "    </tr>\n",
       "  </tbody>\n",
       "</table>\n",
       "</div>"
      ],
      "text/plain": [
       "                         shape\n",
       "Date Bin  region  shape       \n",
       "1950-1959 Midwest disk      24\n",
       "                  other     16\n",
       "                  round     12\n",
       "                  light     10\n",
       "                  cigar      7"
      ]
     },
     "execution_count": 537,
     "metadata": {},
     "output_type": "execute_result"
    }
   ],
   "source": [
    "max_shapes = ufo_df.groupby(['Date Bin', 'region'])['shape'].value_counts().groupby('region').head(5)\n",
    "max_shapes = pd.DataFrame(max_shapes)\n",
    "max_shapes.head()"
   ]
  },
  {
   "cell_type": "code",
   "execution_count": 538,
   "id": "aa3bfa8c-6bd4-4bba-ae5e-f39cf31cb114",
   "metadata": {},
   "outputs": [
    {
     "data": {
      "text/plain": [
       "region\n",
       "Midwest      AxesSubplot(0.125,0.125;0.775x0.755)\n",
       "Northeast    AxesSubplot(0.125,0.125;0.775x0.755)\n",
       "Southeast    AxesSubplot(0.125,0.125;0.775x0.755)\n",
       "Southwest    AxesSubplot(0.125,0.125;0.775x0.755)\n",
       "West         AxesSubplot(0.125,0.125;0.775x0.755)\n",
       "dtype: object"
      ]
     },
     "execution_count": 538,
     "metadata": {},
     "output_type": "execute_result"
    },
    {
     "data": {
      "image/png": "[encoded data removed]",
      "text/plain": [
       "<Figure size 432x288 with 1 Axes>"
      ]
     },
     "metadata": {
      "needs_background": "light"
     },
     "output_type": "display_data"
    },
    {
     "data": {
      "image/png": "[encoded data removed]",
      "text/plain": [
       "<Figure size 432x288 with 1 Axes>"
      ]
     },
     "metadata": {
      "needs_background": "light"
     },
     "output_type": "display_data"
    },
    {
     "data": {
      "image/png": "[encoded data removed]",
      "text/plain": [
       "<Figure size 432x288 with 1 Axes>"
      ]
     },
     "metadata": {
      "needs_background": "light"
     },
     "output_type": "display_data"
    },
    {
     "data": {
      "image/png": "[encoded data removed]",
      "text/plain": [
       "<Figure size 432x288 with 1 Axes>"
      ]
     },
     "metadata": {
      "needs_background": "light"
     },
     "output_type": "display_data"
    },
    {
     "data": {
      "image/png": "[encoded data removed]",
      "text/plain": [
       "<Figure size 432x288 with 1 Axes>"
      ]
     },
     "metadata": {
      "needs_background": "light"
     },
     "output_type": "display_data"
    }
   ],
   "source": [
    "max_shapes.groupby('region').plot(kind='bar')"
   ]
  },
  {
   "cell_type": "code",
   "execution_count": 515,
   "id": "433804a1-2d24-4fb0-84e2-413340a803d5",
   "metadata": {},
   "outputs": [
    {
     "data": {
      "text/html": [
       "<div>\n",
       "<style scoped>\n",
       "    .dataframe tbody tr th:only-of-type {\n",
       "        vertical-align: middle;\n",
       "    }\n",
       "\n",
       "    .dataframe tbody tr th {\n",
       "        vertical-align: top;\n",
       "    }\n",
       "\n",
       "    .dataframe thead th {\n",
       "        text-align: right;\n",
       "    }\n",
       "</style>\n",
       "<table border=\"1\" class=\"dataframe\">\n",
       "  <thead>\n",
       "    <tr style=\"text-align: right;\">\n",
       "      <th></th>\n",
       "      <th>Date Bin</th>\n",
       "      <th>state</th>\n",
       "      <th>shape</th>\n",
       "      <th>count</th>\n",
       "    </tr>\n",
       "  </thead>\n",
       "  <tbody>\n",
       "    <tr>\n",
       "      <th>96</th>\n",
       "      <td>1950-1959</td>\n",
       "      <td>ca</td>\n",
       "      <td>disk</td>\n",
       "      <td>18</td>\n",
       "    </tr>\n",
       "    <tr>\n",
       "      <th>107</th>\n",
       "      <td>1950-1959</td>\n",
       "      <td>ca</td>\n",
       "      <td>round</td>\n",
       "      <td>14</td>\n",
       "    </tr>\n",
       "    <tr>\n",
       "      <th>976</th>\n",
       "      <td>1950-1959</td>\n",
       "      <td>tx</td>\n",
       "      <td>disk</td>\n",
       "      <td>14</td>\n",
       "    </tr>\n",
       "    <tr>\n",
       "      <th>756</th>\n",
       "      <td>1950-1959</td>\n",
       "      <td>ny</td>\n",
       "      <td>disk</td>\n",
       "      <td>12</td>\n",
       "    </tr>\n",
       "    <tr>\n",
       "      <th>102</th>\n",
       "      <td>1950-1959</td>\n",
       "      <td>ca</td>\n",
       "      <td>light</td>\n",
       "      <td>10</td>\n",
       "    </tr>\n",
       "  </tbody>\n",
       "</table>\n",
       "</div>"
      ],
      "text/plain": [
       "      Date Bin state  shape  count\n",
       "96   1950-1959    ca   disk     18\n",
       "107  1950-1959    ca  round     14\n",
       "976  1950-1959    tx   disk     14\n",
       "756  1950-1959    ny   disk     12\n",
       "102  1950-1959    ca  light     10"
      ]
     },
     "execution_count": 515,
     "metadata": {},
     "output_type": "execute_result"
    }
   ],
   "source": [
    "date_shape_50 = date_state_shape.loc[date_state_shape['Date Bin'] == \"1950-1959\"]\n",
    "date_shape_50.head()"
   ]
  },
  {
   "cell_type": "code",
   "execution_count": 513,
   "id": "0b7d03e1-4fcf-4b60-a7f8-df7448d3edf6",
   "metadata": {},
   "outputs": [
    {
     "data": {
      "text/html": [
       "<div>\n",
       "<style scoped>\n",
       "    .dataframe tbody tr th:only-of-type {\n",
       "        vertical-align: middle;\n",
       "    }\n",
       "\n",
       "    .dataframe tbody tr th {\n",
       "        vertical-align: top;\n",
       "    }\n",
       "\n",
       "    .dataframe thead th {\n",
       "        text-align: right;\n",
       "    }\n",
       "</style>\n",
       "<table border=\"1\" class=\"dataframe\">\n",
       "  <thead>\n",
       "    <tr style=\"text-align: right;\">\n",
       "      <th></th>\n",
       "      <th>count</th>\n",
       "    </tr>\n",
       "    <tr>\n",
       "      <th>state</th>\n",
       "      <th></th>\n",
       "    </tr>\n",
       "  </thead>\n",
       "  <tbody>\n",
       "    <tr>\n",
       "      <th>ak</th>\n",
       "      <td>3</td>\n",
       "    </tr>\n",
       "    <tr>\n",
       "      <th>al</th>\n",
       "      <td>2</td>\n",
       "    </tr>\n",
       "    <tr>\n",
       "      <th>ar</th>\n",
       "      <td>2</td>\n",
       "    </tr>\n",
       "    <tr>\n",
       "      <th>az</th>\n",
       "      <td>1</td>\n",
       "    </tr>\n",
       "    <tr>\n",
       "      <th>ca</th>\n",
       "      <td>18</td>\n",
       "    </tr>\n",
       "  </tbody>\n",
       "</table>\n",
       "</div>"
      ],
      "text/plain": [
       "       count\n",
       "state       \n",
       "ak         3\n",
       "al         2\n",
       "ar         2\n",
       "az         1\n",
       "ca        18"
      ]
     },
     "execution_count": 513,
     "metadata": {},
     "output_type": "execute_result"
    }
   ],
   "source": [
    "max_shapes = date_shape_50.groupby(['state']).max('count')\n",
    "max_shapes.head()"
   ]
  },
  {
   "cell_type": "code",
   "execution_count": 508,
   "id": "19132106-c5bd-4cdf-a748-cac45098c320",
   "metadata": {},
   "outputs": [
    {
     "data": {
      "text/plain": [
       "state  shape   \n",
       "ak     changing    1\n",
       "       chevron     1\n",
       "       cigar       1\n",
       "       cone        1\n",
       "       crescent    1\n",
       "                  ..\n",
       "wy     changing    1\n",
       "       chevron     1\n",
       "       cigar       1\n",
       "       cone        1\n",
       "       crescent    1\n",
       "Name: shape, Length: 260, dtype: int64"
      ]
     },
     "execution_count": 508,
     "metadata": {},
     "output_type": "execute_result"
    }
   ],
   "source": [
    "max_shapes = date_shape_50.groupby('state')['shape'].value_counts().groupby('state').head()\n",
    "max_shapes"
   ]
  },
  {
   "cell_type": "code",
   "execution_count": 442,
   "id": "e290bf8e-e99a-4dcc-9d29-8956fde41b26",
   "metadata": {},
   "outputs": [
    {
     "data": {
      "text/plain": [
       "Int64Index([  8,  14,  15,  19,  24,  30,  36,  37,  38,  41,  43,  46,  52,\n",
       "             54,  58,  59,  60,  62,  63,  65,  67,  68,  74,  76,  78,  80,\n",
       "             81,  82,  84,  85,  87,  88,  89,  90,  94,  95,  96,  97,  98,\n",
       "             99, 100, 102, 103, 104, 106, 107, 108, 109, 110, 111, 112, 113,\n",
       "            115, 116, 117, 118, 119, 120, 121, 122, 124, 125, 126, 128, 129,\n",
       "            130, 131, 132, 133, 134, 135, 137, 138, 139, 140, 141, 142, 143,\n",
       "            144, 146, 147, 148, 150, 151, 152, 153],\n",
       "           dtype='int64')"
      ]
     },
     "execution_count": 442,
     "metadata": {},
     "output_type": "execute_result"
    }
   ],
   "source": [
    "date_shape.sort_index().index"
   ]
  },
  {
   "cell_type": "code",
   "execution_count": 444,
   "id": "eb371163-391c-494d-b645-7dc8ec5954e6",
   "metadata": {},
   "outputs": [
    {
     "ename": "ValueError",
     "evalue": "Date ordinal -3336652.2 converts to -7166-07-22T19:12:00.000000 (using epoch 1970-01-01T00:00:00), but Matplotlib dates must be between year 0001 and 9999.",
     "output_type": "error",
     "traceback": [
      "\u001b[1;31m---------------------------------------------------------------------------\u001b[0m",
      "\u001b[1;31mValueError\u001b[0m                                Traceback (most recent call last)",
      "\u001b[1;32m~\\AppData\\Local\\Temp/ipykernel_13020/541253693.py\u001b[0m in \u001b[0;36m<module>\u001b[1;34m\u001b[0m\n\u001b[0;32m      1\u001b[0m \u001b[0mufo_df\u001b[0m\u001b[1;33m.\u001b[0m\u001b[0mplot\u001b[0m\u001b[1;33m(\u001b[0m\u001b[1;33m)\u001b[0m\u001b[1;33m\u001b[0m\u001b[1;33m\u001b[0m\u001b[0m\n\u001b[0;32m      2\u001b[0m \u001b[1;33m\u001b[0m\u001b[0m\n\u001b[1;32m----> 3\u001b[1;33m \u001b[0mplt\u001b[0m\u001b[1;33m.\u001b[0m\u001b[0mshow\u001b[0m\u001b[1;33m(\u001b[0m\u001b[1;33m)\u001b[0m\u001b[1;33m\u001b[0m\u001b[1;33m\u001b[0m\u001b[0m\n\u001b[0m",
      "\u001b[1;32m~\\anaconda3\\lib\\site-packages\\matplotlib\\pyplot.py\u001b[0m in \u001b[0;36mshow\u001b[1;34m(*args, **kwargs)\u001b[0m\n\u001b[0;32m    376\u001b[0m     \"\"\"\n\u001b[0;32m    377\u001b[0m     \u001b[0m_warn_if_gui_out_of_main_thread\u001b[0m\u001b[1;33m(\u001b[0m\u001b[1;33m)\u001b[0m\u001b[1;33m\u001b[0m\u001b[1;33m\u001b[0m\u001b[0m\n\u001b[1;32m--> 378\u001b[1;33m     \u001b[1;32mreturn\u001b[0m \u001b[0m_backend_mod\u001b[0m\u001b[1;33m.\u001b[0m\u001b[0mshow\u001b[0m\u001b[1;33m(\u001b[0m\u001b[1;33m*\u001b[0m\u001b[0margs\u001b[0m\u001b[1;33m,\u001b[0m \u001b[1;33m**\u001b[0m\u001b[0mkwargs\u001b[0m\u001b[1;33m)\u001b[0m\u001b[1;33m\u001b[0m\u001b[1;33m\u001b[0m\u001b[0m\n\u001b[0m\u001b[0;32m    379\u001b[0m \u001b[1;33m\u001b[0m\u001b[0m\n\u001b[0;32m    380\u001b[0m \u001b[1;33m\u001b[0m\u001b[0m\n",
      "\u001b[1;32m~\\anaconda3\\lib\\site-packages\\matplotlib_inline\\backend_inline.py\u001b[0m in \u001b[0;36mshow\u001b[1;34m(close, block)\u001b[0m\n\u001b[0;32m     41\u001b[0m             display(\n\u001b[0;32m     42\u001b[0m                 \u001b[0mfigure_manager\u001b[0m\u001b[1;33m.\u001b[0m\u001b[0mcanvas\u001b[0m\u001b[1;33m.\u001b[0m\u001b[0mfigure\u001b[0m\u001b[1;33m,\u001b[0m\u001b[1;33m\u001b[0m\u001b[1;33m\u001b[0m\u001b[0m\n\u001b[1;32m---> 43\u001b[1;33m                 \u001b[0mmetadata\u001b[0m\u001b[1;33m=\u001b[0m\u001b[0m_fetch_figure_metadata\u001b[0m\u001b[1;33m(\u001b[0m\u001b[0mfigure_manager\u001b[0m\u001b[1;33m.\u001b[0m\u001b[0mcanvas\u001b[0m\u001b[1;33m.\u001b[0m\u001b[0mfigure\u001b[0m\u001b[1;33m)\u001b[0m\u001b[1;33m\u001b[0m\u001b[1;33m\u001b[0m\u001b[0m\n\u001b[0m\u001b[0;32m     44\u001b[0m             )\n\u001b[0;32m     45\u001b[0m     \u001b[1;32mfinally\u001b[0m\u001b[1;33m:\u001b[0m\u001b[1;33m\u001b[0m\u001b[1;33m\u001b[0m\u001b[0m\n",
      "\u001b[1;32m~\\anaconda3\\lib\\site-packages\\matplotlib_inline\\backend_inline.py\u001b[0m in \u001b[0;36m_fetch_figure_metadata\u001b[1;34m(fig)\u001b[0m\n\u001b[0;32m    229\u001b[0m     \u001b[1;32mif\u001b[0m \u001b[0m_is_transparent\u001b[0m\u001b[1;33m(\u001b[0m\u001b[0mfig\u001b[0m\u001b[1;33m.\u001b[0m\u001b[0mget_facecolor\u001b[0m\u001b[1;33m(\u001b[0m\u001b[1;33m)\u001b[0m\u001b[1;33m)\u001b[0m\u001b[1;33m:\u001b[0m\u001b[1;33m\u001b[0m\u001b[1;33m\u001b[0m\u001b[0m\n\u001b[0;32m    230\u001b[0m         \u001b[1;31m# the background is transparent\u001b[0m\u001b[1;33m\u001b[0m\u001b[1;33m\u001b[0m\u001b[0m\n\u001b[1;32m--> 231\u001b[1;33m         ticksLight = _is_light([label.get_color()\n\u001b[0m\u001b[0;32m    232\u001b[0m                                 \u001b[1;32mfor\u001b[0m \u001b[0maxes\u001b[0m \u001b[1;32min\u001b[0m \u001b[0mfig\u001b[0m\u001b[1;33m.\u001b[0m\u001b[0maxes\u001b[0m\u001b[1;33m\u001b[0m\u001b[1;33m\u001b[0m\u001b[0m\n\u001b[0;32m    233\u001b[0m                                 \u001b[1;32mfor\u001b[0m \u001b[0maxis\u001b[0m \u001b[1;32min\u001b[0m \u001b[1;33m(\u001b[0m\u001b[0maxes\u001b[0m\u001b[1;33m.\u001b[0m\u001b[0mxaxis\u001b[0m\u001b[1;33m,\u001b[0m \u001b[0maxes\u001b[0m\u001b[1;33m.\u001b[0m\u001b[0myaxis\u001b[0m\u001b[1;33m)\u001b[0m\u001b[1;33m\u001b[0m\u001b[1;33m\u001b[0m\u001b[0m\n",
      "\u001b[1;32m~\\anaconda3\\lib\\site-packages\\matplotlib_inline\\backend_inline.py\u001b[0m in \u001b[0;36m<listcomp>\u001b[1;34m(.0)\u001b[0m\n\u001b[0;32m    232\u001b[0m                                 \u001b[1;32mfor\u001b[0m \u001b[0maxes\u001b[0m \u001b[1;32min\u001b[0m \u001b[0mfig\u001b[0m\u001b[1;33m.\u001b[0m\u001b[0maxes\u001b[0m\u001b[1;33m\u001b[0m\u001b[1;33m\u001b[0m\u001b[0m\n\u001b[0;32m    233\u001b[0m                                 \u001b[1;32mfor\u001b[0m \u001b[0maxis\u001b[0m \u001b[1;32min\u001b[0m \u001b[1;33m(\u001b[0m\u001b[0maxes\u001b[0m\u001b[1;33m.\u001b[0m\u001b[0mxaxis\u001b[0m\u001b[1;33m,\u001b[0m \u001b[0maxes\u001b[0m\u001b[1;33m.\u001b[0m\u001b[0myaxis\u001b[0m\u001b[1;33m)\u001b[0m\u001b[1;33m\u001b[0m\u001b[1;33m\u001b[0m\u001b[0m\n\u001b[1;32m--> 234\u001b[1;33m                                 for label in axis.get_ticklabels()])\n\u001b[0m\u001b[0;32m    235\u001b[0m         \u001b[1;32mif\u001b[0m \u001b[0mticksLight\u001b[0m\u001b[1;33m.\u001b[0m\u001b[0msize\u001b[0m \u001b[1;32mand\u001b[0m \u001b[1;33m(\u001b[0m\u001b[0mticksLight\u001b[0m \u001b[1;33m==\u001b[0m \u001b[0mticksLight\u001b[0m\u001b[1;33m[\u001b[0m\u001b[1;36m0\u001b[0m\u001b[1;33m]\u001b[0m\u001b[1;33m)\u001b[0m\u001b[1;33m.\u001b[0m\u001b[0mall\u001b[0m\u001b[1;33m(\u001b[0m\u001b[1;33m)\u001b[0m\u001b[1;33m:\u001b[0m\u001b[1;33m\u001b[0m\u001b[1;33m\u001b[0m\u001b[0m\n\u001b[0;32m    236\u001b[0m             \u001b[1;31m# there are one or more tick labels, all with the same lightness\u001b[0m\u001b[1;33m\u001b[0m\u001b[1;33m\u001b[0m\u001b[0m\n",
      "\u001b[1;32m~\\anaconda3\\lib\\site-packages\\matplotlib\\axis.py\u001b[0m in \u001b[0;36mget_ticklabels\u001b[1;34m(self, minor, which)\u001b[0m\n\u001b[0;32m   1230\u001b[0m         \u001b[1;32mif\u001b[0m \u001b[0mminor\u001b[0m\u001b[1;33m:\u001b[0m\u001b[1;33m\u001b[0m\u001b[1;33m\u001b[0m\u001b[0m\n\u001b[0;32m   1231\u001b[0m             \u001b[1;32mreturn\u001b[0m \u001b[0mself\u001b[0m\u001b[1;33m.\u001b[0m\u001b[0mget_minorticklabels\u001b[0m\u001b[1;33m(\u001b[0m\u001b[1;33m)\u001b[0m\u001b[1;33m\u001b[0m\u001b[1;33m\u001b[0m\u001b[0m\n\u001b[1;32m-> 1232\u001b[1;33m         \u001b[1;32mreturn\u001b[0m \u001b[0mself\u001b[0m\u001b[1;33m.\u001b[0m\u001b[0mget_majorticklabels\u001b[0m\u001b[1;33m(\u001b[0m\u001b[1;33m)\u001b[0m\u001b[1;33m\u001b[0m\u001b[1;33m\u001b[0m\u001b[0m\n\u001b[0m\u001b[0;32m   1233\u001b[0m \u001b[1;33m\u001b[0m\u001b[0m\n\u001b[0;32m   1234\u001b[0m     \u001b[1;32mdef\u001b[0m \u001b[0mget_majorticklines\u001b[0m\u001b[1;33m(\u001b[0m\u001b[0mself\u001b[0m\u001b[1;33m)\u001b[0m\u001b[1;33m:\u001b[0m\u001b[1;33m\u001b[0m\u001b[1;33m\u001b[0m\u001b[0m\n",
      "\u001b[1;32m~\\anaconda3\\lib\\site-packages\\matplotlib\\axis.py\u001b[0m in \u001b[0;36mget_majorticklabels\u001b[1;34m(self)\u001b[0m\n\u001b[0;32m   1182\u001b[0m     \u001b[1;32mdef\u001b[0m \u001b[0mget_majorticklabels\u001b[0m\u001b[1;33m(\u001b[0m\u001b[0mself\u001b[0m\u001b[1;33m)\u001b[0m\u001b[1;33m:\u001b[0m\u001b[1;33m\u001b[0m\u001b[1;33m\u001b[0m\u001b[0m\n\u001b[0;32m   1183\u001b[0m         \u001b[1;34m\"\"\"Return this Axis' major tick labels, as a list of `~.text.Text`.\"\"\"\u001b[0m\u001b[1;33m\u001b[0m\u001b[1;33m\u001b[0m\u001b[0m\n\u001b[1;32m-> 1184\u001b[1;33m         \u001b[0mticks\u001b[0m \u001b[1;33m=\u001b[0m \u001b[0mself\u001b[0m\u001b[1;33m.\u001b[0m\u001b[0mget_major_ticks\u001b[0m\u001b[1;33m(\u001b[0m\u001b[1;33m)\u001b[0m\u001b[1;33m\u001b[0m\u001b[1;33m\u001b[0m\u001b[0m\n\u001b[0m\u001b[0;32m   1185\u001b[0m         \u001b[0mlabels1\u001b[0m \u001b[1;33m=\u001b[0m \u001b[1;33m[\u001b[0m\u001b[0mtick\u001b[0m\u001b[1;33m.\u001b[0m\u001b[0mlabel1\u001b[0m \u001b[1;32mfor\u001b[0m \u001b[0mtick\u001b[0m \u001b[1;32min\u001b[0m \u001b[0mticks\u001b[0m \u001b[1;32mif\u001b[0m \u001b[0mtick\u001b[0m\u001b[1;33m.\u001b[0m\u001b[0mlabel1\u001b[0m\u001b[1;33m.\u001b[0m\u001b[0mget_visible\u001b[0m\u001b[1;33m(\u001b[0m\u001b[1;33m)\u001b[0m\u001b[1;33m]\u001b[0m\u001b[1;33m\u001b[0m\u001b[1;33m\u001b[0m\u001b[0m\n\u001b[0;32m   1186\u001b[0m         \u001b[0mlabels2\u001b[0m \u001b[1;33m=\u001b[0m \u001b[1;33m[\u001b[0m\u001b[0mtick\u001b[0m\u001b[1;33m.\u001b[0m\u001b[0mlabel2\u001b[0m \u001b[1;32mfor\u001b[0m \u001b[0mtick\u001b[0m \u001b[1;32min\u001b[0m \u001b[0mticks\u001b[0m \u001b[1;32mif\u001b[0m \u001b[0mtick\u001b[0m\u001b[1;33m.\u001b[0m\u001b[0mlabel2\u001b[0m\u001b[1;33m.\u001b[0m\u001b[0mget_visible\u001b[0m\u001b[1;33m(\u001b[0m\u001b[1;33m)\u001b[0m\u001b[1;33m]\u001b[0m\u001b[1;33m\u001b[0m\u001b[1;33m\u001b[0m\u001b[0m\n",
      "\u001b[1;32m~\\anaconda3\\lib\\site-packages\\matplotlib\\axis.py\u001b[0m in \u001b[0;36mget_major_ticks\u001b[1;34m(self, numticks)\u001b[0m\n\u001b[0;32m   1353\u001b[0m         \u001b[1;34mr\"\"\"Return the list of major `.Tick`\\s.\"\"\"\u001b[0m\u001b[1;33m\u001b[0m\u001b[1;33m\u001b[0m\u001b[0m\n\u001b[0;32m   1354\u001b[0m         \u001b[1;32mif\u001b[0m \u001b[0mnumticks\u001b[0m \u001b[1;32mis\u001b[0m \u001b[1;32mNone\u001b[0m\u001b[1;33m:\u001b[0m\u001b[1;33m\u001b[0m\u001b[1;33m\u001b[0m\u001b[0m\n\u001b[1;32m-> 1355\u001b[1;33m             \u001b[0mnumticks\u001b[0m \u001b[1;33m=\u001b[0m \u001b[0mlen\u001b[0m\u001b[1;33m(\u001b[0m\u001b[0mself\u001b[0m\u001b[1;33m.\u001b[0m\u001b[0mget_majorticklocs\u001b[0m\u001b[1;33m(\u001b[0m\u001b[1;33m)\u001b[0m\u001b[1;33m)\u001b[0m\u001b[1;33m\u001b[0m\u001b[1;33m\u001b[0m\u001b[0m\n\u001b[0m\u001b[0;32m   1356\u001b[0m \u001b[1;33m\u001b[0m\u001b[0m\n\u001b[0;32m   1357\u001b[0m         \u001b[1;32mwhile\u001b[0m \u001b[0mlen\u001b[0m\u001b[1;33m(\u001b[0m\u001b[0mself\u001b[0m\u001b[1;33m.\u001b[0m\u001b[0mmajorTicks\u001b[0m\u001b[1;33m)\u001b[0m \u001b[1;33m<\u001b[0m \u001b[0mnumticks\u001b[0m\u001b[1;33m:\u001b[0m\u001b[1;33m\u001b[0m\u001b[1;33m\u001b[0m\u001b[0m\n",
      "\u001b[1;32m~\\anaconda3\\lib\\site-packages\\matplotlib\\axis.py\u001b[0m in \u001b[0;36mget_majorticklocs\u001b[1;34m(self)\u001b[0m\n\u001b[0;32m   1258\u001b[0m     \u001b[1;32mdef\u001b[0m \u001b[0mget_majorticklocs\u001b[0m\u001b[1;33m(\u001b[0m\u001b[0mself\u001b[0m\u001b[1;33m)\u001b[0m\u001b[1;33m:\u001b[0m\u001b[1;33m\u001b[0m\u001b[1;33m\u001b[0m\u001b[0m\n\u001b[0;32m   1259\u001b[0m         \u001b[1;34m\"\"\"Return this Axis' major tick locations in data coordinates.\"\"\"\u001b[0m\u001b[1;33m\u001b[0m\u001b[1;33m\u001b[0m\u001b[0m\n\u001b[1;32m-> 1260\u001b[1;33m         \u001b[1;32mreturn\u001b[0m \u001b[0mself\u001b[0m\u001b[1;33m.\u001b[0m\u001b[0mmajor\u001b[0m\u001b[1;33m.\u001b[0m\u001b[0mlocator\u001b[0m\u001b[1;33m(\u001b[0m\u001b[1;33m)\u001b[0m\u001b[1;33m\u001b[0m\u001b[1;33m\u001b[0m\u001b[0m\n\u001b[0m\u001b[0;32m   1261\u001b[0m \u001b[1;33m\u001b[0m\u001b[0m\n\u001b[0;32m   1262\u001b[0m     \u001b[1;32mdef\u001b[0m \u001b[0mget_minorticklocs\u001b[0m\u001b[1;33m(\u001b[0m\u001b[0mself\u001b[0m\u001b[1;33m)\u001b[0m\u001b[1;33m:\u001b[0m\u001b[1;33m\u001b[0m\u001b[1;33m\u001b[0m\u001b[0m\n",
      "\u001b[1;32m~\\anaconda3\\lib\\site-packages\\matplotlib\\dates.py\u001b[0m in \u001b[0;36m__call__\u001b[1;34m(self)\u001b[0m\n\u001b[0;32m   1339\u001b[0m     \u001b[1;32mdef\u001b[0m \u001b[0m__call__\u001b[0m\u001b[1;33m(\u001b[0m\u001b[0mself\u001b[0m\u001b[1;33m)\u001b[0m\u001b[1;33m:\u001b[0m\u001b[1;33m\u001b[0m\u001b[1;33m\u001b[0m\u001b[0m\n\u001b[0;32m   1340\u001b[0m         \u001b[1;31m# docstring inherited\u001b[0m\u001b[1;33m\u001b[0m\u001b[1;33m\u001b[0m\u001b[0m\n\u001b[1;32m-> 1341\u001b[1;33m         \u001b[0mdmin\u001b[0m\u001b[1;33m,\u001b[0m \u001b[0mdmax\u001b[0m \u001b[1;33m=\u001b[0m \u001b[0mself\u001b[0m\u001b[1;33m.\u001b[0m\u001b[0mviewlim_to_dt\u001b[0m\u001b[1;33m(\u001b[0m\u001b[1;33m)\u001b[0m\u001b[1;33m\u001b[0m\u001b[1;33m\u001b[0m\u001b[0m\n\u001b[0m\u001b[0;32m   1342\u001b[0m         \u001b[0mlocator\u001b[0m \u001b[1;33m=\u001b[0m \u001b[0mself\u001b[0m\u001b[1;33m.\u001b[0m\u001b[0mget_locator\u001b[0m\u001b[1;33m(\u001b[0m\u001b[0mdmin\u001b[0m\u001b[1;33m,\u001b[0m \u001b[0mdmax\u001b[0m\u001b[1;33m)\u001b[0m\u001b[1;33m\u001b[0m\u001b[1;33m\u001b[0m\u001b[0m\n\u001b[0;32m   1343\u001b[0m         \u001b[1;32mreturn\u001b[0m \u001b[0mlocator\u001b[0m\u001b[1;33m(\u001b[0m\u001b[1;33m)\u001b[0m\u001b[1;33m\u001b[0m\u001b[1;33m\u001b[0m\u001b[0m\n",
      "\u001b[1;32m~\\anaconda3\\lib\\site-packages\\matplotlib\\dates.py\u001b[0m in \u001b[0;36mviewlim_to_dt\u001b[1;34m(self)\u001b[0m\n\u001b[0;32m   1130\u001b[0m         \u001b[1;32mif\u001b[0m \u001b[0mvmin\u001b[0m \u001b[1;33m>\u001b[0m \u001b[0mvmax\u001b[0m\u001b[1;33m:\u001b[0m\u001b[1;33m\u001b[0m\u001b[1;33m\u001b[0m\u001b[0m\n\u001b[0;32m   1131\u001b[0m             \u001b[0mvmin\u001b[0m\u001b[1;33m,\u001b[0m \u001b[0mvmax\u001b[0m \u001b[1;33m=\u001b[0m \u001b[0mvmax\u001b[0m\u001b[1;33m,\u001b[0m \u001b[0mvmin\u001b[0m\u001b[1;33m\u001b[0m\u001b[1;33m\u001b[0m\u001b[0m\n\u001b[1;32m-> 1132\u001b[1;33m         \u001b[1;32mreturn\u001b[0m \u001b[0mnum2date\u001b[0m\u001b[1;33m(\u001b[0m\u001b[0mvmin\u001b[0m\u001b[1;33m,\u001b[0m \u001b[0mself\u001b[0m\u001b[1;33m.\u001b[0m\u001b[0mtz\u001b[0m\u001b[1;33m)\u001b[0m\u001b[1;33m,\u001b[0m \u001b[0mnum2date\u001b[0m\u001b[1;33m(\u001b[0m\u001b[0mvmax\u001b[0m\u001b[1;33m,\u001b[0m \u001b[0mself\u001b[0m\u001b[1;33m.\u001b[0m\u001b[0mtz\u001b[0m\u001b[1;33m)\u001b[0m\u001b[1;33m\u001b[0m\u001b[1;33m\u001b[0m\u001b[0m\n\u001b[0m\u001b[0;32m   1133\u001b[0m \u001b[1;33m\u001b[0m\u001b[0m\n\u001b[0;32m   1134\u001b[0m     \u001b[1;32mdef\u001b[0m \u001b[0m_get_unit\u001b[0m\u001b[1;33m(\u001b[0m\u001b[0mself\u001b[0m\u001b[1;33m)\u001b[0m\u001b[1;33m:\u001b[0m\u001b[1;33m\u001b[0m\u001b[1;33m\u001b[0m\u001b[0m\n",
      "\u001b[1;32m~\\anaconda3\\lib\\site-packages\\matplotlib\\dates.py\u001b[0m in \u001b[0;36mnum2date\u001b[1;34m(x, tz)\u001b[0m\n\u001b[0;32m    506\u001b[0m     \u001b[1;32mif\u001b[0m \u001b[0mtz\u001b[0m \u001b[1;32mis\u001b[0m \u001b[1;32mNone\u001b[0m\u001b[1;33m:\u001b[0m\u001b[1;33m\u001b[0m\u001b[1;33m\u001b[0m\u001b[0m\n\u001b[0;32m    507\u001b[0m         \u001b[0mtz\u001b[0m \u001b[1;33m=\u001b[0m \u001b[0m_get_rc_timezone\u001b[0m\u001b[1;33m(\u001b[0m\u001b[1;33m)\u001b[0m\u001b[1;33m\u001b[0m\u001b[1;33m\u001b[0m\u001b[0m\n\u001b[1;32m--> 508\u001b[1;33m     \u001b[1;32mreturn\u001b[0m \u001b[0m_from_ordinalf_np_vectorized\u001b[0m\u001b[1;33m(\u001b[0m\u001b[0mx\u001b[0m\u001b[1;33m,\u001b[0m \u001b[0mtz\u001b[0m\u001b[1;33m)\u001b[0m\u001b[1;33m.\u001b[0m\u001b[0mtolist\u001b[0m\u001b[1;33m(\u001b[0m\u001b[1;33m)\u001b[0m\u001b[1;33m\u001b[0m\u001b[1;33m\u001b[0m\u001b[0m\n\u001b[0m\u001b[0;32m    509\u001b[0m \u001b[1;33m\u001b[0m\u001b[0m\n\u001b[0;32m    510\u001b[0m \u001b[1;33m\u001b[0m\u001b[0m\n",
      "\u001b[1;32m~\\anaconda3\\lib\\site-packages\\numpy\\lib\\function_base.py\u001b[0m in \u001b[0;36m__call__\u001b[1;34m(self, *args, **kwargs)\u001b[0m\n\u001b[0;32m   2111\u001b[0m             \u001b[0mvargs\u001b[0m\u001b[1;33m.\u001b[0m\u001b[0mextend\u001b[0m\u001b[1;33m(\u001b[0m\u001b[1;33m[\u001b[0m\u001b[0mkwargs\u001b[0m\u001b[1;33m[\u001b[0m\u001b[0m_n\u001b[0m\u001b[1;33m]\u001b[0m \u001b[1;32mfor\u001b[0m \u001b[0m_n\u001b[0m \u001b[1;32min\u001b[0m \u001b[0mnames\u001b[0m\u001b[1;33m]\u001b[0m\u001b[1;33m)\u001b[0m\u001b[1;33m\u001b[0m\u001b[1;33m\u001b[0m\u001b[0m\n\u001b[0;32m   2112\u001b[0m \u001b[1;33m\u001b[0m\u001b[0m\n\u001b[1;32m-> 2113\u001b[1;33m         \u001b[1;32mreturn\u001b[0m \u001b[0mself\u001b[0m\u001b[1;33m.\u001b[0m\u001b[0m_vectorize_call\u001b[0m\u001b[1;33m(\u001b[0m\u001b[0mfunc\u001b[0m\u001b[1;33m=\u001b[0m\u001b[0mfunc\u001b[0m\u001b[1;33m,\u001b[0m \u001b[0margs\u001b[0m\u001b[1;33m=\u001b[0m\u001b[0mvargs\u001b[0m\u001b[1;33m)\u001b[0m\u001b[1;33m\u001b[0m\u001b[1;33m\u001b[0m\u001b[0m\n\u001b[0m\u001b[0;32m   2114\u001b[0m \u001b[1;33m\u001b[0m\u001b[0m\n\u001b[0;32m   2115\u001b[0m     \u001b[1;32mdef\u001b[0m \u001b[0m_get_ufunc_and_otypes\u001b[0m\u001b[1;33m(\u001b[0m\u001b[0mself\u001b[0m\u001b[1;33m,\u001b[0m \u001b[0mfunc\u001b[0m\u001b[1;33m,\u001b[0m \u001b[0margs\u001b[0m\u001b[1;33m)\u001b[0m\u001b[1;33m:\u001b[0m\u001b[1;33m\u001b[0m\u001b[1;33m\u001b[0m\u001b[0m\n",
      "\u001b[1;32m~\\anaconda3\\lib\\site-packages\\numpy\\lib\\function_base.py\u001b[0m in \u001b[0;36m_vectorize_call\u001b[1;34m(self, func, args)\u001b[0m\n\u001b[0;32m   2195\u001b[0m                       for a in args]\n\u001b[0;32m   2196\u001b[0m \u001b[1;33m\u001b[0m\u001b[0m\n\u001b[1;32m-> 2197\u001b[1;33m             \u001b[0moutputs\u001b[0m \u001b[1;33m=\u001b[0m \u001b[0mufunc\u001b[0m\u001b[1;33m(\u001b[0m\u001b[1;33m*\u001b[0m\u001b[0minputs\u001b[0m\u001b[1;33m)\u001b[0m\u001b[1;33m\u001b[0m\u001b[1;33m\u001b[0m\u001b[0m\n\u001b[0m\u001b[0;32m   2198\u001b[0m \u001b[1;33m\u001b[0m\u001b[0m\n\u001b[0;32m   2199\u001b[0m             \u001b[1;32mif\u001b[0m \u001b[0mufunc\u001b[0m\u001b[1;33m.\u001b[0m\u001b[0mnout\u001b[0m \u001b[1;33m==\u001b[0m \u001b[1;36m1\u001b[0m\u001b[1;33m:\u001b[0m\u001b[1;33m\u001b[0m\u001b[1;33m\u001b[0m\u001b[0m\n",
      "\u001b[1;32m~\\anaconda3\\lib\\site-packages\\matplotlib\\dates.py\u001b[0m in \u001b[0;36m_from_ordinalf\u001b[1;34m(x, tz)\u001b[0m\n\u001b[0;32m    328\u001b[0m           np.timedelta64(int(np.round(x * MUSECONDS_PER_DAY)), 'us'))\n\u001b[0;32m    329\u001b[0m     \u001b[1;32mif\u001b[0m \u001b[0mdt\u001b[0m \u001b[1;33m<\u001b[0m \u001b[0mnp\u001b[0m\u001b[1;33m.\u001b[0m\u001b[0mdatetime64\u001b[0m\u001b[1;33m(\u001b[0m\u001b[1;34m'0001-01-01'\u001b[0m\u001b[1;33m)\u001b[0m \u001b[1;32mor\u001b[0m \u001b[0mdt\u001b[0m \u001b[1;33m>=\u001b[0m \u001b[0mnp\u001b[0m\u001b[1;33m.\u001b[0m\u001b[0mdatetime64\u001b[0m\u001b[1;33m(\u001b[0m\u001b[1;34m'10000-01-01'\u001b[0m\u001b[1;33m)\u001b[0m\u001b[1;33m:\u001b[0m\u001b[1;33m\u001b[0m\u001b[1;33m\u001b[0m\u001b[0m\n\u001b[1;32m--> 330\u001b[1;33m         raise ValueError(f'Date ordinal {x} converts to {dt} (using '\n\u001b[0m\u001b[0;32m    331\u001b[0m                          \u001b[1;34mf'epoch {get_epoch()}), but Matplotlib dates must be '\u001b[0m\u001b[1;33m\u001b[0m\u001b[1;33m\u001b[0m\u001b[0m\n\u001b[0;32m    332\u001b[0m                           'between year 0001 and 9999.')\n",
      "\u001b[1;31mValueError\u001b[0m: Date ordinal -3336652.2 converts to -7166-07-22T19:12:00.000000 (using epoch 1970-01-01T00:00:00), but Matplotlib dates must be between year 0001 and 9999."
     ]
    }
   ],
   "source": [
    "ufo_df.plot()\n",
    "\n",
    "plt.show()"
   ]
  },
  {
   "cell_type": "code",
   "execution_count": 443,
   "id": "6facb57a-db9c-4c89-9572-2b1b57327202",
   "metadata": {},
   "outputs": [
    {
     "data": {
      "text/plain": [
       "<AxesSubplot:ylabel='Date Bin'>"
      ]
     },
     "execution_count": 443,
     "metadata": {},
     "output_type": "execute_result"
    },
    {
     "data": {
      "image/png": "[encoded data removed]",
      "text/plain": [
       "<Figure size 864x1080 with 1 Axes>"
      ]
     },
     "metadata": {
      "needs_background": "light"
     },
     "output_type": "display_data"
    }
   ],
   "source": [
    "date_shape.groupby(['Date Bin', 'shape'])['count'].sum().unstack().plot(kind='barh', figsize=(12,15))"
   ]
  },
  {
   "cell_type": "code",
   "execution_count": 56,
   "id": "a7356656-1d04-40a1-8686-fa11cf93bdf2",
   "metadata": {},
   "outputs": [
    {
     "data": {
      "text/html": [
       "<div>\n",
       "<style scoped>\n",
       "    .dataframe tbody tr th:only-of-type {\n",
       "        vertical-align: middle;\n",
       "    }\n",
       "\n",
       "    .dataframe tbody tr th {\n",
       "        vertical-align: top;\n",
       "    }\n",
       "\n",
       "    .dataframe thead th {\n",
       "        text-align: right;\n",
       "    }\n",
       "</style>\n",
       "<table border=\"1\" class=\"dataframe\">\n",
       "  <thead>\n",
       "    <tr style=\"text-align: right;\">\n",
       "      <th></th>\n",
       "      <th>state</th>\n",
       "      <th>shape</th>\n",
       "      <th>count</th>\n",
       "    </tr>\n",
       "  </thead>\n",
       "  <tbody>\n",
       "    <tr>\n",
       "      <th>0</th>\n",
       "      <td>ab</td>\n",
       "      <td>changing</td>\n",
       "      <td>4</td>\n",
       "    </tr>\n",
       "    <tr>\n",
       "      <th>1</th>\n",
       "      <td>ab</td>\n",
       "      <td>chevron</td>\n",
       "      <td>2</td>\n",
       "    </tr>\n",
       "    <tr>\n",
       "      <th>2</th>\n",
       "      <td>ab</td>\n",
       "      <td>cigar</td>\n",
       "      <td>10</td>\n",
       "    </tr>\n",
       "    <tr>\n",
       "      <th>3</th>\n",
       "      <td>ab</td>\n",
       "      <td>circle</td>\n",
       "      <td>29</td>\n",
       "    </tr>\n",
       "    <tr>\n",
       "      <th>4</th>\n",
       "      <td>ab</td>\n",
       "      <td>cone</td>\n",
       "      <td>4</td>\n",
       "    </tr>\n",
       "  </tbody>\n",
       "</table>\n",
       "</div>"
      ],
      "text/plain": [
       "  state     shape  count\n",
       "0    ab  changing      4\n",
       "1    ab   chevron      2\n",
       "2    ab     cigar     10\n",
       "3    ab    circle     29\n",
       "4    ab      cone      4"
      ]
     },
     "execution_count": 56,
     "metadata": {},
     "output_type": "execute_result"
    }
   ],
   "source": [
    "state_shape = ufo_df.groupby(['state', 'shape']).size().reset_index(name='count')\n",
    "state_shape.head()"
   ]
  },
  {
   "cell_type": "code",
   "execution_count": 118,
   "id": "06b53b20-696c-4718-b17e-20b2be7fce48",
   "metadata": {},
   "outputs": [
    {
     "ename": "KeyError",
     "evalue": "'state'",
     "output_type": "error",
     "traceback": [
      "\u001b[1;31m---------------------------------------------------------------------------\u001b[0m",
      "\u001b[1;31mKeyError\u001b[0m                                  Traceback (most recent call last)",
      "\u001b[1;32m~\\AppData\\Local\\Temp/ipykernel_3032/2049917178.py\u001b[0m in \u001b[0;36m<module>\u001b[1;34m\u001b[0m\n\u001b[1;32m----> 1\u001b[1;33m \u001b[0mufo_df\u001b[0m\u001b[1;33m.\u001b[0m\u001b[0mloc\u001b[0m\u001b[1;33m[\u001b[0m\u001b[1;34m'state'\u001b[0m\u001b[1;33m]\u001b[0m\u001b[1;33m\u001b[0m\u001b[1;33m\u001b[0m\u001b[0m\n\u001b[0m",
      "\u001b[1;32m~\\anaconda3\\lib\\site-packages\\pandas\\core\\indexing.py\u001b[0m in \u001b[0;36m__getitem__\u001b[1;34m(self, key)\u001b[0m\n\u001b[0;32m    929\u001b[0m \u001b[1;33m\u001b[0m\u001b[0m\n\u001b[0;32m    930\u001b[0m             \u001b[0mmaybe_callable\u001b[0m \u001b[1;33m=\u001b[0m \u001b[0mcom\u001b[0m\u001b[1;33m.\u001b[0m\u001b[0mapply_if_callable\u001b[0m\u001b[1;33m(\u001b[0m\u001b[0mkey\u001b[0m\u001b[1;33m,\u001b[0m \u001b[0mself\u001b[0m\u001b[1;33m.\u001b[0m\u001b[0mobj\u001b[0m\u001b[1;33m)\u001b[0m\u001b[1;33m\u001b[0m\u001b[1;33m\u001b[0m\u001b[0m\n\u001b[1;32m--> 931\u001b[1;33m             \u001b[1;32mreturn\u001b[0m \u001b[0mself\u001b[0m\u001b[1;33m.\u001b[0m\u001b[0m_getitem_axis\u001b[0m\u001b[1;33m(\u001b[0m\u001b[0mmaybe_callable\u001b[0m\u001b[1;33m,\u001b[0m \u001b[0maxis\u001b[0m\u001b[1;33m=\u001b[0m\u001b[0maxis\u001b[0m\u001b[1;33m)\u001b[0m\u001b[1;33m\u001b[0m\u001b[1;33m\u001b[0m\u001b[0m\n\u001b[0m\u001b[0;32m    932\u001b[0m \u001b[1;33m\u001b[0m\u001b[0m\n\u001b[0;32m    933\u001b[0m     \u001b[1;32mdef\u001b[0m \u001b[0m_is_scalar_access\u001b[0m\u001b[1;33m(\u001b[0m\u001b[0mself\u001b[0m\u001b[1;33m,\u001b[0m \u001b[0mkey\u001b[0m\u001b[1;33m:\u001b[0m \u001b[0mtuple\u001b[0m\u001b[1;33m)\u001b[0m\u001b[1;33m:\u001b[0m\u001b[1;33m\u001b[0m\u001b[1;33m\u001b[0m\u001b[0m\n",
      "\u001b[1;32m~\\anaconda3\\lib\\site-packages\\pandas\\core\\indexing.py\u001b[0m in \u001b[0;36m_getitem_axis\u001b[1;34m(self, key, axis)\u001b[0m\n\u001b[0;32m   1162\u001b[0m         \u001b[1;31m# fall thru to straight lookup\u001b[0m\u001b[1;33m\u001b[0m\u001b[1;33m\u001b[0m\u001b[0m\n\u001b[0;32m   1163\u001b[0m         \u001b[0mself\u001b[0m\u001b[1;33m.\u001b[0m\u001b[0m_validate_key\u001b[0m\u001b[1;33m(\u001b[0m\u001b[0mkey\u001b[0m\u001b[1;33m,\u001b[0m \u001b[0maxis\u001b[0m\u001b[1;33m)\u001b[0m\u001b[1;33m\u001b[0m\u001b[1;33m\u001b[0m\u001b[0m\n\u001b[1;32m-> 1164\u001b[1;33m         \u001b[1;32mreturn\u001b[0m \u001b[0mself\u001b[0m\u001b[1;33m.\u001b[0m\u001b[0m_get_label\u001b[0m\u001b[1;33m(\u001b[0m\u001b[0mkey\u001b[0m\u001b[1;33m,\u001b[0m \u001b[0maxis\u001b[0m\u001b[1;33m=\u001b[0m\u001b[0maxis\u001b[0m\u001b[1;33m)\u001b[0m\u001b[1;33m\u001b[0m\u001b[1;33m\u001b[0m\u001b[0m\n\u001b[0m\u001b[0;32m   1165\u001b[0m \u001b[1;33m\u001b[0m\u001b[0m\n\u001b[0;32m   1166\u001b[0m     \u001b[1;32mdef\u001b[0m \u001b[0m_get_slice_axis\u001b[0m\u001b[1;33m(\u001b[0m\u001b[0mself\u001b[0m\u001b[1;33m,\u001b[0m \u001b[0mslice_obj\u001b[0m\u001b[1;33m:\u001b[0m \u001b[0mslice\u001b[0m\u001b[1;33m,\u001b[0m \u001b[0maxis\u001b[0m\u001b[1;33m:\u001b[0m \u001b[0mint\u001b[0m\u001b[1;33m)\u001b[0m\u001b[1;33m:\u001b[0m\u001b[1;33m\u001b[0m\u001b[1;33m\u001b[0m\u001b[0m\n",
      "\u001b[1;32m~\\anaconda3\\lib\\site-packages\\pandas\\core\\indexing.py\u001b[0m in \u001b[0;36m_get_label\u001b[1;34m(self, label, axis)\u001b[0m\n\u001b[0;32m   1111\u001b[0m     \u001b[1;32mdef\u001b[0m \u001b[0m_get_label\u001b[0m\u001b[1;33m(\u001b[0m\u001b[0mself\u001b[0m\u001b[1;33m,\u001b[0m \u001b[0mlabel\u001b[0m\u001b[1;33m,\u001b[0m \u001b[0maxis\u001b[0m\u001b[1;33m:\u001b[0m \u001b[0mint\u001b[0m\u001b[1;33m)\u001b[0m\u001b[1;33m:\u001b[0m\u001b[1;33m\u001b[0m\u001b[1;33m\u001b[0m\u001b[0m\n\u001b[0;32m   1112\u001b[0m         \u001b[1;31m# GH#5667 this will fail if the label is not present in the axis.\u001b[0m\u001b[1;33m\u001b[0m\u001b[1;33m\u001b[0m\u001b[0m\n\u001b[1;32m-> 1113\u001b[1;33m         \u001b[1;32mreturn\u001b[0m \u001b[0mself\u001b[0m\u001b[1;33m.\u001b[0m\u001b[0mobj\u001b[0m\u001b[1;33m.\u001b[0m\u001b[0mxs\u001b[0m\u001b[1;33m(\u001b[0m\u001b[0mlabel\u001b[0m\u001b[1;33m,\u001b[0m \u001b[0maxis\u001b[0m\u001b[1;33m=\u001b[0m\u001b[0maxis\u001b[0m\u001b[1;33m)\u001b[0m\u001b[1;33m\u001b[0m\u001b[1;33m\u001b[0m\u001b[0m\n\u001b[0m\u001b[0;32m   1114\u001b[0m \u001b[1;33m\u001b[0m\u001b[0m\n\u001b[0;32m   1115\u001b[0m     \u001b[1;32mdef\u001b[0m \u001b[0m_handle_lowerdim_multi_index_axis0\u001b[0m\u001b[1;33m(\u001b[0m\u001b[0mself\u001b[0m\u001b[1;33m,\u001b[0m \u001b[0mtup\u001b[0m\u001b[1;33m:\u001b[0m \u001b[0mtuple\u001b[0m\u001b[1;33m)\u001b[0m\u001b[1;33m:\u001b[0m\u001b[1;33m\u001b[0m\u001b[1;33m\u001b[0m\u001b[0m\n",
      "\u001b[1;32m~\\anaconda3\\lib\\site-packages\\pandas\\core\\generic.py\u001b[0m in \u001b[0;36mxs\u001b[1;34m(self, key, axis, level, drop_level)\u001b[0m\n\u001b[0;32m   3774\u001b[0m                 \u001b[1;32mraise\u001b[0m \u001b[0mTypeError\u001b[0m\u001b[1;33m(\u001b[0m\u001b[1;34mf\"Expected label or tuple of labels, got {key}\"\u001b[0m\u001b[1;33m)\u001b[0m \u001b[1;32mfrom\u001b[0m \u001b[0me\u001b[0m\u001b[1;33m\u001b[0m\u001b[1;33m\u001b[0m\u001b[0m\n\u001b[0;32m   3775\u001b[0m         \u001b[1;32melse\u001b[0m\u001b[1;33m:\u001b[0m\u001b[1;33m\u001b[0m\u001b[1;33m\u001b[0m\u001b[0m\n\u001b[1;32m-> 3776\u001b[1;33m             \u001b[0mloc\u001b[0m \u001b[1;33m=\u001b[0m \u001b[0mindex\u001b[0m\u001b[1;33m.\u001b[0m\u001b[0mget_loc\u001b[0m\u001b[1;33m(\u001b[0m\u001b[0mkey\u001b[0m\u001b[1;33m)\u001b[0m\u001b[1;33m\u001b[0m\u001b[1;33m\u001b[0m\u001b[0m\n\u001b[0m\u001b[0;32m   3777\u001b[0m \u001b[1;33m\u001b[0m\u001b[0m\n\u001b[0;32m   3778\u001b[0m             \u001b[1;32mif\u001b[0m \u001b[0misinstance\u001b[0m\u001b[1;33m(\u001b[0m\u001b[0mloc\u001b[0m\u001b[1;33m,\u001b[0m \u001b[0mnp\u001b[0m\u001b[1;33m.\u001b[0m\u001b[0mndarray\u001b[0m\u001b[1;33m)\u001b[0m\u001b[1;33m:\u001b[0m\u001b[1;33m\u001b[0m\u001b[1;33m\u001b[0m\u001b[0m\n",
      "\u001b[1;32m~\\anaconda3\\lib\\site-packages\\pandas\\core\\indexes\\range.py\u001b[0m in \u001b[0;36mget_loc\u001b[1;34m(self, key, method, tolerance)\u001b[0m\n\u001b[0;32m    386\u001b[0m                 \u001b[1;32mexcept\u001b[0m \u001b[0mValueError\u001b[0m \u001b[1;32mas\u001b[0m \u001b[0merr\u001b[0m\u001b[1;33m:\u001b[0m\u001b[1;33m\u001b[0m\u001b[1;33m\u001b[0m\u001b[0m\n\u001b[0;32m    387\u001b[0m                     \u001b[1;32mraise\u001b[0m \u001b[0mKeyError\u001b[0m\u001b[1;33m(\u001b[0m\u001b[0mkey\u001b[0m\u001b[1;33m)\u001b[0m \u001b[1;32mfrom\u001b[0m \u001b[0merr\u001b[0m\u001b[1;33m\u001b[0m\u001b[1;33m\u001b[0m\u001b[0m\n\u001b[1;32m--> 388\u001b[1;33m             \u001b[1;32mraise\u001b[0m \u001b[0mKeyError\u001b[0m\u001b[1;33m(\u001b[0m\u001b[0mkey\u001b[0m\u001b[1;33m)\u001b[0m\u001b[1;33m\u001b[0m\u001b[1;33m\u001b[0m\u001b[0m\n\u001b[0m\u001b[0;32m    389\u001b[0m         \u001b[1;32mreturn\u001b[0m \u001b[0msuper\u001b[0m\u001b[1;33m(\u001b[0m\u001b[1;33m)\u001b[0m\u001b[1;33m.\u001b[0m\u001b[0mget_loc\u001b[0m\u001b[1;33m(\u001b[0m\u001b[0mkey\u001b[0m\u001b[1;33m,\u001b[0m \u001b[0mmethod\u001b[0m\u001b[1;33m=\u001b[0m\u001b[0mmethod\u001b[0m\u001b[1;33m,\u001b[0m \u001b[0mtolerance\u001b[0m\u001b[1;33m=\u001b[0m\u001b[0mtolerance\u001b[0m\u001b[1;33m)\u001b[0m\u001b[1;33m\u001b[0m\u001b[1;33m\u001b[0m\u001b[0m\n\u001b[0;32m    390\u001b[0m \u001b[1;33m\u001b[0m\u001b[0m\n",
      "\u001b[1;31mKeyError\u001b[0m: 'state'"
     ]
    }
   ],
   "source": [
    "ufo_df.loc['state']"
   ]
  },
  {
   "cell_type": "code",
   "execution_count": 95,
   "id": "a14f67bf-0926-4e2e-b73d-293f8d064d3b",
   "metadata": {},
   "outputs": [
    {
     "ename": "KeyError",
     "evalue": "\"None of ['state'] are in the columns\"",
     "output_type": "error",
     "traceback": [
      "\u001b[1;31m---------------------------------------------------------------------------\u001b[0m",
      "\u001b[1;31mKeyError\u001b[0m                                  Traceback (most recent call last)",
      "\u001b[1;32m~\\AppData\\Local\\Temp/ipykernel_3032/4266968759.py\u001b[0m in \u001b[0;36m<module>\u001b[1;34m\u001b[0m\n\u001b[1;32m----> 1\u001b[1;33m \u001b[0mstate_shape\u001b[0m\u001b[1;33m.\u001b[0m\u001b[0mset_index\u001b[0m\u001b[1;33m(\u001b[0m\u001b[1;34m'state'\u001b[0m\u001b[1;33m,\u001b[0m \u001b[0minplace\u001b[0m\u001b[1;33m=\u001b[0m\u001b[1;32mTrue\u001b[0m\u001b[1;33m)\u001b[0m\u001b[1;33m\u001b[0m\u001b[1;33m\u001b[0m\u001b[0m\n\u001b[0m\u001b[0;32m      2\u001b[0m \u001b[0mstate_shape\u001b[0m\u001b[1;33m.\u001b[0m\u001b[0mgroupby\u001b[0m\u001b[1;33m(\u001b[0m\u001b[1;34m'shape'\u001b[0m\u001b[1;33m)\u001b[0m\u001b[1;33m[\u001b[0m\u001b[1;34m'count'\u001b[0m\u001b[1;33m]\u001b[0m\u001b[1;33m.\u001b[0m\u001b[0mplot\u001b[0m\u001b[1;33m(\u001b[0m\u001b[0mlegend\u001b[0m\u001b[1;33m=\u001b[0m\u001b[1;32mTrue\u001b[0m\u001b[1;33m)\u001b[0m\u001b[1;33m\u001b[0m\u001b[1;33m\u001b[0m\u001b[0m\n",
      "\u001b[1;32m~\\anaconda3\\lib\\site-packages\\pandas\\util\\_decorators.py\u001b[0m in \u001b[0;36mwrapper\u001b[1;34m(*args, **kwargs)\u001b[0m\n\u001b[0;32m    309\u001b[0m                     \u001b[0mstacklevel\u001b[0m\u001b[1;33m=\u001b[0m\u001b[0mstacklevel\u001b[0m\u001b[1;33m,\u001b[0m\u001b[1;33m\u001b[0m\u001b[1;33m\u001b[0m\u001b[0m\n\u001b[0;32m    310\u001b[0m                 )\n\u001b[1;32m--> 311\u001b[1;33m             \u001b[1;32mreturn\u001b[0m \u001b[0mfunc\u001b[0m\u001b[1;33m(\u001b[0m\u001b[1;33m*\u001b[0m\u001b[0margs\u001b[0m\u001b[1;33m,\u001b[0m \u001b[1;33m**\u001b[0m\u001b[0mkwargs\u001b[0m\u001b[1;33m)\u001b[0m\u001b[1;33m\u001b[0m\u001b[1;33m\u001b[0m\u001b[0m\n\u001b[0m\u001b[0;32m    312\u001b[0m \u001b[1;33m\u001b[0m\u001b[0m\n\u001b[0;32m    313\u001b[0m         \u001b[1;32mreturn\u001b[0m \u001b[0mwrapper\u001b[0m\u001b[1;33m\u001b[0m\u001b[1;33m\u001b[0m\u001b[0m\n",
      "\u001b[1;32m~\\anaconda3\\lib\\site-packages\\pandas\\core\\frame.py\u001b[0m in \u001b[0;36mset_index\u001b[1;34m(self, keys, drop, append, inplace, verify_integrity)\u001b[0m\n\u001b[0;32m   5449\u001b[0m \u001b[1;33m\u001b[0m\u001b[0m\n\u001b[0;32m   5450\u001b[0m         \u001b[1;32mif\u001b[0m \u001b[0mmissing\u001b[0m\u001b[1;33m:\u001b[0m\u001b[1;33m\u001b[0m\u001b[1;33m\u001b[0m\u001b[0m\n\u001b[1;32m-> 5451\u001b[1;33m             \u001b[1;32mraise\u001b[0m \u001b[0mKeyError\u001b[0m\u001b[1;33m(\u001b[0m\u001b[1;34mf\"None of {missing} are in the columns\"\u001b[0m\u001b[1;33m)\u001b[0m\u001b[1;33m\u001b[0m\u001b[1;33m\u001b[0m\u001b[0m\n\u001b[0m\u001b[0;32m   5452\u001b[0m \u001b[1;33m\u001b[0m\u001b[0m\n\u001b[0;32m   5453\u001b[0m         \u001b[1;32mif\u001b[0m \u001b[0minplace\u001b[0m\u001b[1;33m:\u001b[0m\u001b[1;33m\u001b[0m\u001b[1;33m\u001b[0m\u001b[0m\n",
      "\u001b[1;31mKeyError\u001b[0m: \"None of ['state'] are in the columns\""
     ]
    }
   ],
   "source": [
    "state_shape.set_index('state', inplace=True)\n",
    "state_shape.groupby('shape')['count'].plot(legend=True)"
   ]
  },
  {
   "cell_type": "code",
   "execution_count": 63,
   "id": "182b8aca-f5c9-4807-b8b8-5506e2923937",
   "metadata": {},
   "outputs": [
    {
     "data": {
      "text/plain": [
       "<AxesSubplot:xlabel='state'>"
      ]
     },
     "execution_count": 63,
     "metadata": {},
     "output_type": "execute_result"
    },
    {
     "data": {
      "image/png": "[encoded data removed]",
      "text/plain": [
       "<Figure size 432x288 with 1 Axes>"
      ]
     },
     "metadata": {
      "needs_background": "light"
     },
     "output_type": "display_data"
    }
   ],
   "source": [
    "state_shape.plot(kind=\"bar\")"
   ]
  },
  {
   "cell_type": "code",
   "execution_count": null,
   "id": "e4e27835-c323-42b2-8356-948163de51c8",
   "metadata": {},
   "outputs": [],
   "source": []
  },
  {
   "cell_type": "code",
   "execution_count": null,
   "id": "50fd797d-d7d6-45d8-9e9d-fa2bd323a5de",
   "metadata": {},
   "outputs": [],
   "source": []
  }
 ],
 "metadata": {
  "kernelspec": {
   "display_name": "Python 3 (ipykernel)",
   "language": "python",
   "name": "python3"
  },
  "language_info": {
   "codemirror_mode": {
    "name": "ipython",
    "version": 3
   },
   "file_extension": ".py",
   "mimetype": "text/x-python",
   "name": "python",
   "nbconvert_exporter": "python",
   "pygments_lexer": "ipython3",
   "version": "3.9.7"
  }
 },
 "nbformat": 4,
 "nbformat_minor": 5
}
