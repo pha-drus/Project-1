{
 "cells": [
  {
   "cell_type": "code",
   "execution_count": 85,
   "id": "970f348a-9531-4fef-996f-a04b00bd9b40",
   "metadata": {},
   "outputs": [],
   "source": [
    "import os\n",
    "import pandas as pd\n",
    "import json\n",
    "import requests\n",
    "import matplotlib.pyplot as plt\n",
    "import numpy as np\n",
    "import scipy.stats as st"
   ]
  },
  {
   "cell_type": "code",
   "execution_count": 93,
   "id": "55495f76-4992-4449-902c-0dc84a1c35df",
   "metadata": {},
   "outputs": [],
   "source": [
    "char_df = pd.read_csv('Resources/Characters.csv', sep=';', header=0)\n",
    "potions_df = pd.read_csv('Resources/Potions.csv', sep=';')\n",
    "spells_df = pd.read_csv('Resources/Spells.csv', sep=';')\n",
    "hp1_df = pd.read_csv('Resources/Harry_Potter_1.csv', sep=';')\n",
    "hp2_df = pd.read_csv('Resources/Harry_Potter_2.csv', sep=';')\n",
    "hp3_df = pd.read_csv('Resources/Harry_Potter_3.csv', sep=';')"
   ]
  },
  {
   "cell_type": "code",
   "execution_count": 94,
   "id": "f79ca950-fbf6-4eba-b1b2-fe79b769c1cb",
   "metadata": {},
   "outputs": [],
   "source": [
    "url = \"https://fedeperin-harry-potter-api-en.herokuapp.com/db\"\n",
    "response = requests.get(url).json()\n",
    "#print(json.dumps(response, indent=4, sort_keys=True))"
   ]
  },
  {
   "cell_type": "code",
   "execution_count": null,
   "id": "c6133bfe-5b5e-417e-902f-4caeba3c540e",
   "metadata": {},
   "outputs": [],
   "source": []
  },
  {
   "cell_type": "code",
   "execution_count": 95,
   "id": "bb8012eb-afef-4151-872f-05d614448c92",
   "metadata": {},
   "outputs": [
    {
     "name": "stdout",
     "output_type": "stream",
     "text": [
      "This csv has 140 rows and 15 columns\n",
      "This csv has 72 rows and 5 columns\n",
      "This csv has 301 rows and 5 columns\n",
      "This csv has 1587 rows and 2 columns\n",
      "This csv has 1700 rows and 2 columns\n",
      "This csv has 1638 rows and 2 columns\n"
     ]
    }
   ],
   "source": [
    "allcsvs = [char_df, potions_df, spells_df, hp1_df, hp2_df, hp3_df]\n",
    "\n",
    "for csvs in allcsvs:\n",
    "    nRow, nCol = csvs.shape\n",
    "    print(f'This csv has {nRow} rows and {nCol} columns')"
   ]
  },
  {
   "cell_type": "code",
   "execution_count": 96,
   "id": "852ceb87-2471-40eb-9ad2-9b1de79eb350",
   "metadata": {},
   "outputs": [
    {
     "name": "stdout",
     "output_type": "stream",
     "text": [
      "['characters.csv', 'Harry_Potter_1.csv', 'Harry_Potter_2.csv', 'Harry_Potter_3.csv', 'Potions.csv', 'shortversioncharacters.csv', 'Spells.csv']\n"
     ]
    }
   ],
   "source": [
    "print(os.listdir('Resources'))"
   ]
  },
  {
   "cell_type": "code",
   "execution_count": 97,
   "id": "5d9e1595-1b4f-48e1-bf65-4d83f388772a",
   "metadata": {},
   "outputs": [
    {
     "data": {
      "text/plain": [
       "Id                                                              3\n",
       "Name                                        Hermione Jean Granger\n",
       "Gender                                                     Female\n",
       "Job                                                       Student\n",
       "House                                                  Gryffindor\n",
       "Wand                           10¾\"  vine wood dragon heartstring\n",
       "Patronus                                                    Otter\n",
       "Species                                                     Human\n",
       "Blood status                                          Muggle-born\n",
       "Hair colour                                                 Brown\n",
       "Eye colour                                                  Brown\n",
       "Loyalty         Dumbledore's Army | Order of the Phoenix | Hog...\n",
       "Skills                                          Almost everything\n",
       "Birth                                          19 September, 1979\n",
       "Death                                                         NaN\n",
       "Name: 2, dtype: object"
      ]
     },
     "execution_count": 97,
     "metadata": {},
     "output_type": "execute_result"
    }
   ],
   "source": [
    "char_df.iloc[2]"
   ]
  },
  {
   "cell_type": "code",
   "execution_count": 98,
   "id": "88e4cff2-5222-46ba-9539-54bcae4cb644",
   "metadata": {},
   "outputs": [
    {
     "name": "stdout",
     "output_type": "stream",
     "text": [
      "   Id                                     Name  Gender  \\\n",
      "0   1                       Harry James Potter    Male   \n",
      "1   2                    Ronald Bilius Weasley    Male   \n",
      "2   3                    Hermione Jean Granger  Female   \n",
      "3   4  Albus Percival Wulfric Brian Dumbledore    Male   \n",
      "4   5                            Rubeus Hagrid    Male   \n",
      "\n",
      "                                                 Job       House  \\\n",
      "0                                            Student  Gryffindor   \n",
      "1                                            Student  Gryffindor   \n",
      "2                                            Student  Gryffindor   \n",
      "3                                         Headmaster  Gryffindor   \n",
      "4  Keeper of Keys and Grounds | Professor of Care...  Gryffindor   \n",
      "\n",
      "                                 Wand              Patronus  \\\n",
      "0         11\"  Holly  phoenix feather                  Stag   \n",
      "1          12\" Ash unicorn tail hair   Jack Russell terrier   \n",
      "2  10¾\"  vine wood dragon heartstring                 Otter   \n",
      "3   15\" Elder Thestral tail hair core               Phoenix   \n",
      "4               16\"  Oak unknown core                  None   \n",
      "\n",
      "                 Species             Blood status              Hair colour  \\\n",
      "0                  Human               Half-blood                    Black   \n",
      "1                  Human               Pure-blood                      Red   \n",
      "2                  Human              Muggle-born                    Brown   \n",
      "3                  Human               Half-blood  Silver| formerly auburn   \n",
      "4  Half-Human/Half-Giant  Part-Human (Half-giant)                    Black   \n",
      "\n",
      "     Eye colour                                            Loyalty  \\\n",
      "0  Bright green  Albus Dumbledore | Dumbledore's Army | Order o...   \n",
      "1          Blue  Dumbledore's Army | Order of the Phoenix | Hog...   \n",
      "2         Brown  Dumbledore's Army | Order of the Phoenix | Hog...   \n",
      "3          Blue  Dumbledore's Army | Order of the Phoenix | Hog...   \n",
      "4         Black  Albus Dumbledore | Order of the Phoenix | Hogw...   \n",
      "\n",
      "                                              Skills               Birth  \\\n",
      "0  Parseltongue| Defence Against the Dark Arts | ...        31 July 1980   \n",
      "1               Wizard chess | Quidditch goalkeeping        1 March 1980   \n",
      "2                                  Almost everything  19 September, 1979   \n",
      "3  Considered by many to be one of the most power...    Late August 1881   \n",
      "4  Resistant to stunning spells| above average st...     6 December 1928   \n",
      "\n",
      "            Death  \n",
      "0             NaN  \n",
      "1             NaN  \n",
      "2             NaN  \n",
      "3  30 June, 1997   \n",
      "4             NaN  \n",
      "---------------------------------\n",
      "---------------------------------\n",
      "                      Name                                  Known ingredients  \\\n",
      "0            Ageing Potion                             Newt spleens , Bananas   \n",
      "1               Amortentia                                                NaN   \n",
      "2  Antidote to Veritaserum                                                NaN   \n",
      "3        Babbling Beverage                  Valerian sprigs, Aconite, Dittany   \n",
      "4  Baruffio's Brain Elixir  Leaping Toadstools, Frog Brains, Runespoor egg...   \n",
      "\n",
      "                                              Effect  \\\n",
      "0                           Ages drinker temporarily   \n",
      "1  Love Potion that causes a powerful infatuation...   \n",
      "2                 Counters the effect of Veritaserum   \n",
      "3               Causes the drinker to speak nonsense   \n",
      "4              Allegedly increases one's brain power   \n",
      "\n",
      "                                     Characteristics Difficulty level  \n",
      "0                                              Green         Advanced  \n",
      "1  Mother-of-pearl sheen, Spiralling steam, Scent...         Advanced  \n",
      "2                                                NaN              NaN  \n",
      "3                                                NaN              NaN  \n",
      "4                                    Green in colour              NaN  \n",
      "---------------------------------\n",
      "---------------------------------\n",
      "                                Name       Incantation                Type  \\\n",
      "0                    Summoning Charm             Accio               Charm   \n",
      "1                           Age Line           Unknown               Charm   \n",
      "2                 Water-Making Spell         Aguamenti  Charm, Conjuration   \n",
      "3   Launch an object up into the air  Alarte Ascendare               Charm   \n",
      "4  Albus Dumbledore's Forceful Spell           Unknown               Spell   \n",
      "\n",
      "                                              Effect     Light  \n",
      "0                                  Summons an object      None  \n",
      "1  Prevents people above or below a certain age f...      Blue  \n",
      "2                                     Conjures water  Icy blue  \n",
      "3                              Rockets target upward       Red  \n",
      "4                                        Great Force      None  \n",
      "---------------------------------\n",
      "---------------------------------\n",
      "    Character                                           Sentence\n",
      "0  Dumbledore  I should've known that you would be here, Prof...\n",
      "1  McGonagall                Good evening, Professor Dumbledore.\n",
      "2  McGonagall                        Are the rumors true, Albus?\n",
      "3  Dumbledore                          I'm afraid so, professor.\n",
      "4  Dumbledore                              The good and the bad.\n",
      "---------------------------------\n",
      "---------------------------------\n",
      "  Character                                          Sentence\n",
      "0    HARRY                      I can’t let you out, Hedwig. \n",
      "1    HARRY   I’m not allowed to use magic outside of school. \n",
      "2    HARRY                          Besides, if Uncle Vernon…\n",
      "3    VERNON                                     Harry Potter!\n",
      "4     HARRY                               Now you’ve done it.\n",
      "---------------------------------\n",
      "---------------------------------\n",
      "      CHARACTER          SENTENCE\n",
      "0         HARRY   Lumos Maxima...\n",
      "1         HARRY   Lumos Maxima...\n",
      "2         HARRY   Lumos Maxima...\n",
      "3         HARRY  Lumos... MAXIMA!\n",
      "4  AUNT PETUNIA     Harry! Harry!\n",
      "---------------------------------\n",
      "---------------------------------\n"
     ]
    }
   ],
   "source": [
    "for csvs in allcsvs:\n",
    "    print(csvs.head())\n",
    "    print(\"---------------------------------\")\n",
    "    print(\"---------------------------------\")"
   ]
  },
  {
   "cell_type": "code",
   "execution_count": 99,
   "id": "b35d64fb-0094-4df4-a870-a4d0635fdbcd",
   "metadata": {},
   "outputs": [
    {
     "ename": "ValueError",
     "evalue": "No axis named Gender for object type DataFrame",
     "output_type": "error",
     "traceback": [
      "\u001b[1;31m---------------------------------------------------------------------------\u001b[0m",
      "\u001b[1;31mKeyError\u001b[0m                                  Traceback (most recent call last)",
      "\u001b[1;32m~\\anaconda3\\lib\\site-packages\\pandas\\core\\generic.py\u001b[0m in \u001b[0;36m_get_axis_number\u001b[1;34m(cls, axis)\u001b[0m\n\u001b[0;32m    545\u001b[0m         \u001b[1;32mtry\u001b[0m\u001b[1;33m:\u001b[0m\u001b[1;33m\u001b[0m\u001b[1;33m\u001b[0m\u001b[0m\n\u001b[1;32m--> 546\u001b[1;33m             \u001b[1;32mreturn\u001b[0m \u001b[0mcls\u001b[0m\u001b[1;33m.\u001b[0m\u001b[0m_AXIS_TO_AXIS_NUMBER\u001b[0m\u001b[1;33m[\u001b[0m\u001b[0maxis\u001b[0m\u001b[1;33m]\u001b[0m\u001b[1;33m\u001b[0m\u001b[1;33m\u001b[0m\u001b[0m\n\u001b[0m\u001b[0;32m    547\u001b[0m         \u001b[1;32mexcept\u001b[0m \u001b[0mKeyError\u001b[0m\u001b[1;33m:\u001b[0m\u001b[1;33m\u001b[0m\u001b[1;33m\u001b[0m\u001b[0m\n",
      "\u001b[1;31mKeyError\u001b[0m: 'Gender'",
      "\nDuring handling of the above exception, another exception occurred:\n",
      "\u001b[1;31mValueError\u001b[0m                                Traceback (most recent call last)",
      "\u001b[1;32m~\\AppData\\Local\\Temp/ipykernel_23120/336916382.py\u001b[0m in \u001b[0;36m<module>\u001b[1;34m\u001b[0m\n\u001b[1;32m----> 1\u001b[1;33m \u001b[0mchar_df\u001b[0m\u001b[1;33m.\u001b[0m\u001b[0mloc\u001b[0m\u001b[1;33m(\u001b[0m\u001b[1;34m\"Gender\"\u001b[0m\u001b[1;33m)\u001b[0m\u001b[1;33m\u001b[0m\u001b[1;33m\u001b[0m\u001b[0m\n\u001b[0m",
      "\u001b[1;32m~\\anaconda3\\lib\\site-packages\\pandas\\core\\indexing.py\u001b[0m in \u001b[0;36m__call__\u001b[1;34m(self, axis)\u001b[0m\n\u001b[0;32m    635\u001b[0m \u001b[1;33m\u001b[0m\u001b[0m\n\u001b[0;32m    636\u001b[0m         \u001b[1;32mif\u001b[0m \u001b[0maxis\u001b[0m \u001b[1;32mis\u001b[0m \u001b[1;32mnot\u001b[0m \u001b[1;32mNone\u001b[0m\u001b[1;33m:\u001b[0m\u001b[1;33m\u001b[0m\u001b[1;33m\u001b[0m\u001b[0m\n\u001b[1;32m--> 637\u001b[1;33m             \u001b[0maxis\u001b[0m \u001b[1;33m=\u001b[0m \u001b[0mself\u001b[0m\u001b[1;33m.\u001b[0m\u001b[0mobj\u001b[0m\u001b[1;33m.\u001b[0m\u001b[0m_get_axis_number\u001b[0m\u001b[1;33m(\u001b[0m\u001b[0maxis\u001b[0m\u001b[1;33m)\u001b[0m\u001b[1;33m\u001b[0m\u001b[1;33m\u001b[0m\u001b[0m\n\u001b[0m\u001b[0;32m    638\u001b[0m         \u001b[0mnew_self\u001b[0m\u001b[1;33m.\u001b[0m\u001b[0maxis\u001b[0m \u001b[1;33m=\u001b[0m \u001b[0maxis\u001b[0m\u001b[1;33m\u001b[0m\u001b[1;33m\u001b[0m\u001b[0m\n\u001b[0;32m    639\u001b[0m         \u001b[1;32mreturn\u001b[0m \u001b[0mnew_self\u001b[0m\u001b[1;33m\u001b[0m\u001b[1;33m\u001b[0m\u001b[0m\n",
      "\u001b[1;32m~\\anaconda3\\lib\\site-packages\\pandas\\core\\generic.py\u001b[0m in \u001b[0;36m_get_axis_number\u001b[1;34m(cls, axis)\u001b[0m\n\u001b[0;32m    546\u001b[0m             \u001b[1;32mreturn\u001b[0m \u001b[0mcls\u001b[0m\u001b[1;33m.\u001b[0m\u001b[0m_AXIS_TO_AXIS_NUMBER\u001b[0m\u001b[1;33m[\u001b[0m\u001b[0maxis\u001b[0m\u001b[1;33m]\u001b[0m\u001b[1;33m\u001b[0m\u001b[1;33m\u001b[0m\u001b[0m\n\u001b[0;32m    547\u001b[0m         \u001b[1;32mexcept\u001b[0m \u001b[0mKeyError\u001b[0m\u001b[1;33m:\u001b[0m\u001b[1;33m\u001b[0m\u001b[1;33m\u001b[0m\u001b[0m\n\u001b[1;32m--> 548\u001b[1;33m             \u001b[1;32mraise\u001b[0m \u001b[0mValueError\u001b[0m\u001b[1;33m(\u001b[0m\u001b[1;34mf\"No axis named {axis} for object type {cls.__name__}\"\u001b[0m\u001b[1;33m)\u001b[0m\u001b[1;33m\u001b[0m\u001b[1;33m\u001b[0m\u001b[0m\n\u001b[0m\u001b[0;32m    549\u001b[0m \u001b[1;33m\u001b[0m\u001b[0m\n\u001b[0;32m    550\u001b[0m     \u001b[1;33m@\u001b[0m\u001b[0mfinal\u001b[0m\u001b[1;33m\u001b[0m\u001b[1;33m\u001b[0m\u001b[0m\n",
      "\u001b[1;31mValueError\u001b[0m: No axis named Gender for object type DataFrame"
     ]
    }
   ],
   "source": [
    "char_df.loc(\"Gender\")"
   ]
  },
  {
   "cell_type": "code",
   "execution_count": null,
   "id": "e397dab6-81a2-4f21-a64b-e4affb6816f5",
   "metadata": {},
   "outputs": [],
   "source": []
  },
  {
   "cell_type": "code",
   "execution_count": null,
   "id": "44255646-6164-4ce5-9867-4f639c4a462e",
   "metadata": {},
   "outputs": [],
   "source": []
  },
  {
   "cell_type": "code",
   "execution_count": null,
   "id": "e4e27835-c323-42b2-8356-948163de51c8",
   "metadata": {},
   "outputs": [],
   "source": []
  },
  {
   "cell_type": "code",
   "execution_count": null,
   "id": "50fd797d-d7d6-45d8-9e9d-fa2bd323a5de",
   "metadata": {},
   "outputs": [],
   "source": []
  }
 ],
 "metadata": {
  "kernelspec": {
   "display_name": "Python 3 (ipykernel)",
   "language": "python",
   "name": "python3"
  },
  "language_info": {
   "codemirror_mode": {
    "name": "ipython",
    "version": 3
   },
   "file_extension": ".py",
   "mimetype": "text/x-python",
   "name": "python",
   "nbconvert_exporter": "python",
   "pygments_lexer": "ipython3",
   "version": "3.9.7"
  }
 },
 "nbformat": 4,
 "nbformat_minor": 5
}
