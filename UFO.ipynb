{
 "cells": [
  {
   "cell_type": "markdown",
   "id": "96044d8d-76dc-460c-9e41-9dc65039373f",
   "metadata": {},
   "source": [
    "# Imports"
   ]
  },
  {
   "cell_type": "code",
   "execution_count": 1,
   "id": "d5db2daa-3704-417e-96e4-ec0e659bc61e",
   "metadata": {},
   "outputs": [],
   "source": [
    "## which state has the most sightings? over time?\n",
    "## most frequent shape by state?\n",
    "## timeline changes? trends?\n",
    "## sighting density around airports/afb"
   ]
  },
  {
   "cell_type": "code",
   "execution_count": 2,
   "id": "970f348a-9531-4fef-996f-a04b00bd9b40",
   "metadata": {},
   "outputs": [],
   "source": [
    "import os\n",
    "import pandas as pd\n",
    "import json\n",
    "import requests\n",
    "import matplotlib.pyplot as plt\n",
    "import numpy as np\n",
    "import scipy.stats as st"
   ]
  },
  {
   "cell_type": "code",
   "execution_count": 3,
   "id": "55495f76-4992-4449-902c-0dc84a1c35df",
   "metadata": {},
   "outputs": [],
   "source": [
    "ufo_df = pd.read_csv('resources/ufo.csv', low_memory=False)"
   ]
  },
  {
   "cell_type": "code",
   "execution_count": 4,
   "id": "bb8012eb-afef-4151-872f-05d614448c92",
   "metadata": {},
   "outputs": [
    {
     "name": "stdout",
     "output_type": "stream",
     "text": [
      "This csv has 80332 rows and 11 columns\n"
     ]
    }
   ],
   "source": [
    "nRow, nCol = ufo_df.shape\n",
    "print(f'This csv has {nRow} rows and {nCol} columns')"
   ]
  },
  {
   "cell_type": "code",
   "execution_count": 5,
   "id": "5d9e1595-1b4f-48e1-bf65-4d83f388772a",
   "metadata": {},
   "outputs": [
    {
     "data": {
      "text/html": [
       "<div>\n",
       "<style scoped>\n",
       "    .dataframe tbody tr th:only-of-type {\n",
       "        vertical-align: middle;\n",
       "    }\n",
       "\n",
       "    .dataframe tbody tr th {\n",
       "        vertical-align: top;\n",
       "    }\n",
       "\n",
       "    .dataframe thead th {\n",
       "        text-align: right;\n",
       "    }\n",
       "</style>\n",
       "<table border=\"1\" class=\"dataframe\">\n",
       "  <thead>\n",
       "    <tr style=\"text-align: right;\">\n",
       "      <th></th>\n",
       "      <th>datetime</th>\n",
       "      <th>city</th>\n",
       "      <th>state</th>\n",
       "      <th>country</th>\n",
       "      <th>shape</th>\n",
       "      <th>duration (seconds)</th>\n",
       "      <th>duration (hours/min)</th>\n",
       "      <th>comments</th>\n",
       "      <th>date posted</th>\n",
       "      <th>latitude</th>\n",
       "      <th>longitude</th>\n",
       "    </tr>\n",
       "  </thead>\n",
       "  <tbody>\n",
       "    <tr>\n",
       "      <th>0</th>\n",
       "      <td>10/10/1949 20:30</td>\n",
       "      <td>san marcos</td>\n",
       "      <td>tx</td>\n",
       "      <td>us</td>\n",
       "      <td>cylinder</td>\n",
       "      <td>2700</td>\n",
       "      <td>45 minutes</td>\n",
       "      <td>This event took place in early fall around 194...</td>\n",
       "      <td>4/27/2004</td>\n",
       "      <td>29.8830556</td>\n",
       "      <td>-97.941111</td>\n",
       "    </tr>\n",
       "    <tr>\n",
       "      <th>1</th>\n",
       "      <td>10/10/1949 21:00</td>\n",
       "      <td>lackland afb</td>\n",
       "      <td>tx</td>\n",
       "      <td>NaN</td>\n",
       "      <td>light</td>\n",
       "      <td>7200</td>\n",
       "      <td>1-2 hrs</td>\n",
       "      <td>1949 Lackland AFB&amp;#44 TX.  Lights racing acros...</td>\n",
       "      <td>12/16/2005</td>\n",
       "      <td>29.38421</td>\n",
       "      <td>-98.581082</td>\n",
       "    </tr>\n",
       "    <tr>\n",
       "      <th>2</th>\n",
       "      <td>10/10/1955 17:00</td>\n",
       "      <td>chester (uk/england)</td>\n",
       "      <td>NaN</td>\n",
       "      <td>gb</td>\n",
       "      <td>circle</td>\n",
       "      <td>20</td>\n",
       "      <td>20 seconds</td>\n",
       "      <td>Green/Orange circular disc over Chester&amp;#44 En...</td>\n",
       "      <td>1/21/2008</td>\n",
       "      <td>53.2</td>\n",
       "      <td>-2.916667</td>\n",
       "    </tr>\n",
       "    <tr>\n",
       "      <th>3</th>\n",
       "      <td>10/10/1956 21:00</td>\n",
       "      <td>edna</td>\n",
       "      <td>tx</td>\n",
       "      <td>us</td>\n",
       "      <td>circle</td>\n",
       "      <td>20</td>\n",
       "      <td>1/2 hour</td>\n",
       "      <td>My older brother and twin sister were leaving ...</td>\n",
       "      <td>1/17/2004</td>\n",
       "      <td>28.9783333</td>\n",
       "      <td>-96.645833</td>\n",
       "    </tr>\n",
       "    <tr>\n",
       "      <th>4</th>\n",
       "      <td>10/10/1960 20:00</td>\n",
       "      <td>kaneohe</td>\n",
       "      <td>hi</td>\n",
       "      <td>us</td>\n",
       "      <td>light</td>\n",
       "      <td>900</td>\n",
       "      <td>15 minutes</td>\n",
       "      <td>AS a Marine 1st Lt. flying an FJ4B fighter/att...</td>\n",
       "      <td>1/22/2004</td>\n",
       "      <td>21.4180556</td>\n",
       "      <td>-157.803611</td>\n",
       "    </tr>\n",
       "  </tbody>\n",
       "</table>\n",
       "</div>"
      ],
      "text/plain": [
       "           datetime                  city state country     shape  \\\n",
       "0  10/10/1949 20:30            san marcos    tx      us  cylinder   \n",
       "1  10/10/1949 21:00          lackland afb    tx     NaN     light   \n",
       "2  10/10/1955 17:00  chester (uk/england)   NaN      gb    circle   \n",
       "3  10/10/1956 21:00                  edna    tx      us    circle   \n",
       "4  10/10/1960 20:00               kaneohe    hi      us     light   \n",
       "\n",
       "  duration (seconds) duration (hours/min)  \\\n",
       "0               2700           45 minutes   \n",
       "1               7200              1-2 hrs   \n",
       "2                 20           20 seconds   \n",
       "3                 20             1/2 hour   \n",
       "4                900           15 minutes   \n",
       "\n",
       "                                            comments date posted    latitude  \\\n",
       "0  This event took place in early fall around 194...   4/27/2004  29.8830556   \n",
       "1  1949 Lackland AFB&#44 TX.  Lights racing acros...  12/16/2005    29.38421   \n",
       "2  Green/Orange circular disc over Chester&#44 En...   1/21/2008        53.2   \n",
       "3  My older brother and twin sister were leaving ...   1/17/2004  28.9783333   \n",
       "4  AS a Marine 1st Lt. flying an FJ4B fighter/att...   1/22/2004  21.4180556   \n",
       "\n",
       "   longitude   \n",
       "0  -97.941111  \n",
       "1  -98.581082  \n",
       "2   -2.916667  \n",
       "3  -96.645833  \n",
       "4 -157.803611  "
      ]
     },
     "execution_count": 5,
     "metadata": {},
     "output_type": "execute_result"
    }
   ],
   "source": [
    "ufo_df.head()"
   ]
  },
  {
   "cell_type": "code",
   "execution_count": 6,
   "id": "ce5224c6-f76e-41bb-a6b7-44ad258d5dc8",
   "metadata": {},
   "outputs": [],
   "source": [
    "ufo_df.rename(columns = {'duration (seconds)':'duration_sec'}, inplace = True)"
   ]
  },
  {
   "cell_type": "code",
   "execution_count": 7,
   "id": "77c08d67-d083-45bb-b585-976b9e94b215",
   "metadata": {},
   "outputs": [],
   "source": [
    "ufo_df[\"duration_sec\"] = pd.to_numeric(ufo_df.duration_sec, errors='coerce')"
   ]
  },
  {
   "cell_type": "code",
   "execution_count": 8,
   "id": "b35d64fb-0094-4df4-a870-a4d0635fdbcd",
   "metadata": {},
   "outputs": [
    {
     "data": {
      "text/plain": [
       "datetime                 object\n",
       "city                     object\n",
       "state                    object\n",
       "country                  object\n",
       "shape                    object\n",
       "duration_sec            float64\n",
       "duration (hours/min)     object\n",
       "comments                 object\n",
       "date posted              object\n",
       "latitude                 object\n",
       "longitude               float64\n",
       "dtype: object"
      ]
     },
     "execution_count": 8,
     "metadata": {},
     "output_type": "execute_result"
    }
   ],
   "source": [
    "ufo_df.dtypes"
   ]
  },
  {
   "cell_type": "code",
   "execution_count": 9,
   "id": "e397dab6-81a2-4f21-a64b-e4affb6816f5",
   "metadata": {},
   "outputs": [
    {
     "data": {
      "text/plain": [
       "light        16565\n",
       "triangle      7865\n",
       "circle        7608\n",
       "fireball      6208\n",
       "other         5649\n",
       "unknown       5584\n",
       "sphere        5387\n",
       "disk          5213\n",
       "oval          3733\n",
       "formation     2457\n",
       "cigar         2057\n",
       "changing      1962\n",
       "flash         1328\n",
       "rectangle     1297\n",
       "cylinder      1283\n",
       "diamond       1178\n",
       "chevron        952\n",
       "egg            759\n",
       "teardrop       750\n",
       "cone           316\n",
       "cross          233\n",
       "delta            7\n",
       "round            2\n",
       "crescent         2\n",
       "pyramid          1\n",
       "flare            1\n",
       "hexagon          1\n",
       "dome             1\n",
       "changed          1\n",
       "Name: shape, dtype: int64"
      ]
     },
     "execution_count": 9,
     "metadata": {},
     "output_type": "execute_result"
    }
   ],
   "source": [
    "ufo_df['shape'].value_counts()"
   ]
  },
  {
   "cell_type": "code",
   "execution_count": 10,
   "id": "44255646-6164-4ce5-9867-4f639c4a462e",
   "metadata": {},
   "outputs": [
    {
     "data": {
      "text/plain": [
       "ca    9655\n",
       "wa    4268\n",
       "fl    4200\n",
       "tx    3677\n",
       "ny    3219\n",
       "      ... \n",
       "nf      25\n",
       "nt      20\n",
       "pe      17\n",
       "yt      13\n",
       "yk       7\n",
       "Name: state, Length: 67, dtype: int64"
      ]
     },
     "execution_count": 10,
     "metadata": {},
     "output_type": "execute_result"
    }
   ],
   "source": [
    "ufo_df['state'].value_counts()"
   ]
  },
  {
   "cell_type": "code",
   "execution_count": 11,
   "id": "60e15f6a-cd6a-408e-bb8d-17c68cbd1932",
   "metadata": {},
   "outputs": [
    {
     "data": {
      "text/plain": [
       "0         True\n",
       "1        False\n",
       "2        False\n",
       "3         True\n",
       "4         True\n",
       "         ...  \n",
       "80327     True\n",
       "80328     True\n",
       "80329     True\n",
       "80330     True\n",
       "80331     True\n",
       "Name: country, Length: 80332, dtype: bool"
      ]
     },
     "execution_count": 11,
     "metadata": {},
     "output_type": "execute_result"
    }
   ],
   "source": [
    "ufo_df['country'] == 'us'"
   ]
  },
  {
   "cell_type": "code",
   "execution_count": 12,
   "id": "50fd797d-d7d6-45d8-9e9d-fa2bd323a5de",
   "metadata": {},
   "outputs": [],
   "source": [
    "df_us = ufo_df[ufo_df['country'] == 'us']"
   ]
  },
  {
   "cell_type": "code",
   "execution_count": 13,
   "id": "d5f7e09d-e64f-4e68-ae2e-f4140ab100fe",
   "metadata": {},
   "outputs": [
    {
     "data": {
      "text/html": [
       "<div>\n",
       "<style scoped>\n",
       "    .dataframe tbody tr th:only-of-type {\n",
       "        vertical-align: middle;\n",
       "    }\n",
       "\n",
       "    .dataframe tbody tr th {\n",
       "        vertical-align: top;\n",
       "    }\n",
       "\n",
       "    .dataframe thead th {\n",
       "        text-align: right;\n",
       "    }\n",
       "</style>\n",
       "<table border=\"1\" class=\"dataframe\">\n",
       "  <thead>\n",
       "    <tr style=\"text-align: right;\">\n",
       "      <th></th>\n",
       "      <th>datetime</th>\n",
       "      <th>city</th>\n",
       "      <th>state</th>\n",
       "      <th>country</th>\n",
       "      <th>shape</th>\n",
       "      <th>duration_sec</th>\n",
       "      <th>duration (hours/min)</th>\n",
       "      <th>comments</th>\n",
       "      <th>date posted</th>\n",
       "      <th>latitude</th>\n",
       "      <th>longitude</th>\n",
       "    </tr>\n",
       "  </thead>\n",
       "  <tbody>\n",
       "    <tr>\n",
       "      <th>0</th>\n",
       "      <td>10/10/1949 20:30</td>\n",
       "      <td>san marcos</td>\n",
       "      <td>tx</td>\n",
       "      <td>us</td>\n",
       "      <td>cylinder</td>\n",
       "      <td>2700.0</td>\n",
       "      <td>45 minutes</td>\n",
       "      <td>This event took place in early fall around 194...</td>\n",
       "      <td>4/27/2004</td>\n",
       "      <td>29.8830556</td>\n",
       "      <td>-97.941111</td>\n",
       "    </tr>\n",
       "    <tr>\n",
       "      <th>3</th>\n",
       "      <td>10/10/1956 21:00</td>\n",
       "      <td>edna</td>\n",
       "      <td>tx</td>\n",
       "      <td>us</td>\n",
       "      <td>circle</td>\n",
       "      <td>20.0</td>\n",
       "      <td>1/2 hour</td>\n",
       "      <td>My older brother and twin sister were leaving ...</td>\n",
       "      <td>1/17/2004</td>\n",
       "      <td>28.9783333</td>\n",
       "      <td>-96.645833</td>\n",
       "    </tr>\n",
       "    <tr>\n",
       "      <th>4</th>\n",
       "      <td>10/10/1960 20:00</td>\n",
       "      <td>kaneohe</td>\n",
       "      <td>hi</td>\n",
       "      <td>us</td>\n",
       "      <td>light</td>\n",
       "      <td>900.0</td>\n",
       "      <td>15 minutes</td>\n",
       "      <td>AS a Marine 1st Lt. flying an FJ4B fighter/att...</td>\n",
       "      <td>1/22/2004</td>\n",
       "      <td>21.4180556</td>\n",
       "      <td>-157.803611</td>\n",
       "    </tr>\n",
       "    <tr>\n",
       "      <th>5</th>\n",
       "      <td>10/10/1961 19:00</td>\n",
       "      <td>bristol</td>\n",
       "      <td>tn</td>\n",
       "      <td>us</td>\n",
       "      <td>sphere</td>\n",
       "      <td>300.0</td>\n",
       "      <td>5 minutes</td>\n",
       "      <td>My father is now 89 my brother 52 the girl wit...</td>\n",
       "      <td>4/27/2007</td>\n",
       "      <td>36.5950000</td>\n",
       "      <td>-82.188889</td>\n",
       "    </tr>\n",
       "    <tr>\n",
       "      <th>7</th>\n",
       "      <td>10/10/1965 23:45</td>\n",
       "      <td>norwalk</td>\n",
       "      <td>ct</td>\n",
       "      <td>us</td>\n",
       "      <td>disk</td>\n",
       "      <td>1200.0</td>\n",
       "      <td>20 minutes</td>\n",
       "      <td>A bright orange color changing to reddish colo...</td>\n",
       "      <td>10/2/1999</td>\n",
       "      <td>41.1175000</td>\n",
       "      <td>-73.408333</td>\n",
       "    </tr>\n",
       "    <tr>\n",
       "      <th>8</th>\n",
       "      <td>10/10/1966 20:00</td>\n",
       "      <td>pell city</td>\n",
       "      <td>al</td>\n",
       "      <td>us</td>\n",
       "      <td>disk</td>\n",
       "      <td>180.0</td>\n",
       "      <td>3  minutes</td>\n",
       "      <td>Strobe Lighted disk shape object observed clos...</td>\n",
       "      <td>3/19/2009</td>\n",
       "      <td>33.5861111</td>\n",
       "      <td>-86.286111</td>\n",
       "    </tr>\n",
       "    <tr>\n",
       "      <th>9</th>\n",
       "      <td>10/10/1966 21:00</td>\n",
       "      <td>live oak</td>\n",
       "      <td>fl</td>\n",
       "      <td>us</td>\n",
       "      <td>disk</td>\n",
       "      <td>120.0</td>\n",
       "      <td>several minutes</td>\n",
       "      <td>Saucer zaps energy from powerline as my pregna...</td>\n",
       "      <td>5/11/2005</td>\n",
       "      <td>30.2947222</td>\n",
       "      <td>-82.984167</td>\n",
       "    </tr>\n",
       "    <tr>\n",
       "      <th>10</th>\n",
       "      <td>10/10/1968 13:00</td>\n",
       "      <td>hawthorne</td>\n",
       "      <td>ca</td>\n",
       "      <td>us</td>\n",
       "      <td>circle</td>\n",
       "      <td>300.0</td>\n",
       "      <td>5 min.</td>\n",
       "      <td>ROUND &amp;#44 ORANGE &amp;#44 WITH WHAT I WOULD SAY W...</td>\n",
       "      <td>10/31/2003</td>\n",
       "      <td>33.9163889</td>\n",
       "      <td>-118.351667</td>\n",
       "    </tr>\n",
       "    <tr>\n",
       "      <th>11</th>\n",
       "      <td>10/10/1968 19:00</td>\n",
       "      <td>brevard</td>\n",
       "      <td>nc</td>\n",
       "      <td>us</td>\n",
       "      <td>fireball</td>\n",
       "      <td>180.0</td>\n",
       "      <td>3 minutes</td>\n",
       "      <td>silent red /orange mass of energy floated by t...</td>\n",
       "      <td>6/12/2008</td>\n",
       "      <td>35.2333333</td>\n",
       "      <td>-82.734444</td>\n",
       "    </tr>\n",
       "    <tr>\n",
       "      <th>12</th>\n",
       "      <td>10/10/1970 16:00</td>\n",
       "      <td>bellmore</td>\n",
       "      <td>ny</td>\n",
       "      <td>us</td>\n",
       "      <td>disk</td>\n",
       "      <td>1800.0</td>\n",
       "      <td>30 min.</td>\n",
       "      <td>silver disc seen by family and neighbors</td>\n",
       "      <td>5/11/2000</td>\n",
       "      <td>40.6686111</td>\n",
       "      <td>-73.527500</td>\n",
       "    </tr>\n",
       "  </tbody>\n",
       "</table>\n",
       "</div>"
      ],
      "text/plain": [
       "            datetime        city state country     shape  duration_sec  \\\n",
       "0   10/10/1949 20:30  san marcos    tx      us  cylinder        2700.0   \n",
       "3   10/10/1956 21:00        edna    tx      us    circle          20.0   \n",
       "4   10/10/1960 20:00     kaneohe    hi      us     light         900.0   \n",
       "5   10/10/1961 19:00     bristol    tn      us    sphere         300.0   \n",
       "7   10/10/1965 23:45     norwalk    ct      us      disk        1200.0   \n",
       "8   10/10/1966 20:00   pell city    al      us      disk         180.0   \n",
       "9   10/10/1966 21:00    live oak    fl      us      disk         120.0   \n",
       "10  10/10/1968 13:00   hawthorne    ca      us    circle         300.0   \n",
       "11  10/10/1968 19:00     brevard    nc      us  fireball         180.0   \n",
       "12  10/10/1970 16:00    bellmore    ny      us      disk        1800.0   \n",
       "\n",
       "   duration (hours/min)                                           comments  \\\n",
       "0            45 minutes  This event took place in early fall around 194...   \n",
       "3              1/2 hour  My older brother and twin sister were leaving ...   \n",
       "4            15 minutes  AS a Marine 1st Lt. flying an FJ4B fighter/att...   \n",
       "5             5 minutes  My father is now 89 my brother 52 the girl wit...   \n",
       "7            20 minutes  A bright orange color changing to reddish colo...   \n",
       "8            3  minutes  Strobe Lighted disk shape object observed clos...   \n",
       "9       several minutes  Saucer zaps energy from powerline as my pregna...   \n",
       "10               5 min.  ROUND &#44 ORANGE &#44 WITH WHAT I WOULD SAY W...   \n",
       "11            3 minutes  silent red /orange mass of energy floated by t...   \n",
       "12              30 min.           silver disc seen by family and neighbors   \n",
       "\n",
       "   date posted    latitude  longitude   \n",
       "0    4/27/2004  29.8830556  -97.941111  \n",
       "3    1/17/2004  28.9783333  -96.645833  \n",
       "4    1/22/2004  21.4180556 -157.803611  \n",
       "5    4/27/2007  36.5950000  -82.188889  \n",
       "7    10/2/1999  41.1175000  -73.408333  \n",
       "8    3/19/2009  33.5861111  -86.286111  \n",
       "9    5/11/2005  30.2947222  -82.984167  \n",
       "10  10/31/2003  33.9163889 -118.351667  \n",
       "11   6/12/2008  35.2333333  -82.734444  \n",
       "12   5/11/2000  40.6686111  -73.527500  "
      ]
     },
     "execution_count": 13,
     "metadata": {},
     "output_type": "execute_result"
    }
   ],
   "source": [
    "df_us.head(10)"
   ]
  },
  {
   "cell_type": "code",
   "execution_count": 14,
   "id": "4d7ddda7-66f2-4579-b83f-0d986d8c04ec",
   "metadata": {},
   "outputs": [
    {
     "data": {
      "text/plain": [
       "ca    8912\n",
       "wa    3966\n",
       "fl    3835\n",
       "tx    3447\n",
       "ny    2980\n",
       "il    2499\n",
       "az    2414\n",
       "pa    2366\n",
       "oh    2275\n",
       "mi    1836\n",
       "or    1747\n",
       "nc    1740\n",
       "mo    1458\n",
       "co    1413\n",
       "in    1288\n",
       "va    1273\n",
       "ma    1256\n",
       "ga    1255\n",
       "nj    1255\n",
       "wi    1232\n",
       "tn    1119\n",
       "mn    1012\n",
       "sc    1003\n",
       "ct     892\n",
       "ky     855\n",
       "md     837\n",
       "nv     803\n",
       "ok     724\n",
       "nm     720\n",
       "ia     678\n",
       "al     642\n",
       "ut     622\n",
       "ks     613\n",
       "ar     588\n",
       "la     558\n",
       "me     558\n",
       "id     521\n",
       "nh     486\n",
       "mt     478\n",
       "wv     448\n",
       "ne     381\n",
       "ms     375\n",
       "ak     319\n",
       "hi     262\n",
       "vt     260\n",
       "ri     228\n",
       "sd     183\n",
       "wy     175\n",
       "de     166\n",
       "nd     129\n",
       "pr      25\n",
       "dc       7\n",
       "Name: state, dtype: int64"
      ]
     },
     "execution_count": 14,
     "metadata": {},
     "output_type": "execute_result"
    }
   ],
   "source": [
    "state_count = df_us['state'].value_counts()\n",
    "state_count"
   ]
  },
  {
   "cell_type": "code",
   "execution_count": 15,
   "id": "29fea9ee-1d61-4f3e-a52d-4fdb8819d34f",
   "metadata": {},
   "outputs": [
    {
     "data": {
      "text/plain": [
       "Text(0.5, 1.0, 'UFO Sightings per State')"
      ]
     },
     "execution_count": 15,
     "metadata": {},
     "output_type": "execute_result"
    },
    {
     "data": {
      "image/png": "[encoded data removed]",
      "text/plain": [
       "<Figure size 1080x576 with 1 Axes>"
      ]
     },
     "metadata": {
      "needs_background": "light"
     },
     "output_type": "display_data"
    }
   ],
   "source": [
    "plt.figure(figsize=(15,8))\n",
    "plot_pandas = state_count.plot.bar(color='limegreen')\n",
    "\n",
    "plt.xlabel(\"state\")\n",
    "plt.ylabel(\"count of sightings\")\n",
    "plt.title(\"UFO Sightings per State\")"
   ]
  },
  {
   "cell_type": "code",
   "execution_count": 16,
   "id": "791bf447-bf2d-4592-9a6d-b38c24371b26",
   "metadata": {},
   "outputs": [
    {
     "data": {
      "text/plain": [
       "ca    8912\n",
       "wa    3966\n",
       "fl    3835\n",
       "tx    3447\n",
       "ny    2980\n",
       "Name: state, dtype: int64"
      ]
     },
     "execution_count": 16,
     "metadata": {},
     "output_type": "execute_result"
    }
   ],
   "source": [
    "state_count_top5 = df_us['state'].value_counts().head(5)\n",
    "state_count_top5"
   ]
  },
  {
   "cell_type": "code",
   "execution_count": 17,
   "id": "74a1b6ea-aa9c-4062-bd83-fbdd9cbf1c16",
   "metadata": {},
   "outputs": [
    {
     "data": {
      "text/plain": [
       "Text(0.5, 1.0, 'Top 5 States for UFO Sightings')"
      ]
     },
     "execution_count": 17,
     "metadata": {},
     "output_type": "execute_result"
    },
    {
     "data": {
      "image/png": "[encoded data removed]",
      "text/plain": [
       "<Figure size 1080x576 with 1 Axes>"
      ]
     },
     "metadata": {
      "needs_background": "light"
     },
     "output_type": "display_data"
    }
   ],
   "source": [
    "plt.figure(figsize=(15,8))\n",
    "plot_pandas = state_count_top5.plot.bar(color='limegreen')\n",
    "\n",
    "plt.xlabel('State')\n",
    "plt.ylabel('Count of Sightings')\n",
    "plt.title('Top 5 States for UFO Sightings')"
   ]
  },
  {
   "cell_type": "code",
   "execution_count": 18,
   "id": "97e9c601-4fea-4da4-a26e-823d13a12147",
   "metadata": {},
   "outputs": [
    {
     "data": {
      "text/plain": [
       "seattle        524\n",
       "phoenix        454\n",
       "portland       373\n",
       "las vegas      367\n",
       "los angeles    352\n",
       "san diego      338\n",
       "houston        297\n",
       "chicago        264\n",
       "tucson         241\n",
       "miami          239\n",
       "Name: city, dtype: int64"
      ]
     },
     "execution_count": 18,
     "metadata": {},
     "output_type": "execute_result"
    }
   ],
   "source": [
    "city_count = df_us['city'].value_counts().head(10)\n",
    "city_count"
   ]
  },
  {
   "cell_type": "code",
   "execution_count": 20,
   "id": "482bce58-0686-499e-b889-a63cd4537eef",
   "metadata": {},
   "outputs": [
    {
     "data": {
      "text/html": [
       "<div>\n",
       "<style scoped>\n",
       "    .dataframe tbody tr th:only-of-type {\n",
       "        vertical-align: middle;\n",
       "    }\n",
       "\n",
       "    .dataframe tbody tr th {\n",
       "        vertical-align: top;\n",
       "    }\n",
       "\n",
       "    .dataframe thead th {\n",
       "        text-align: right;\n",
       "    }\n",
       "</style>\n",
       "<table border=\"1\" class=\"dataframe\">\n",
       "  <thead>\n",
       "    <tr style=\"text-align: right;\">\n",
       "      <th></th>\n",
       "      <th>datetime</th>\n",
       "      <th>city</th>\n",
       "      <th>state</th>\n",
       "      <th>country</th>\n",
       "      <th>shape</th>\n",
       "      <th>duration_sec</th>\n",
       "      <th>duration (hours/min)</th>\n",
       "      <th>comments</th>\n",
       "      <th>date posted</th>\n",
       "      <th>latitude</th>\n",
       "      <th>longitude</th>\n",
       "    </tr>\n",
       "  </thead>\n",
       "  <tbody>\n",
       "    <tr>\n",
       "      <th>10</th>\n",
       "      <td>10/10/1968 13:00</td>\n",
       "      <td>hawthorne</td>\n",
       "      <td>ca</td>\n",
       "      <td>us</td>\n",
       "      <td>circle</td>\n",
       "      <td>300.0</td>\n",
       "      <td>5 min.</td>\n",
       "      <td>ROUND &amp;#44 ORANGE &amp;#44 WITH WHAT I WOULD SAY W...</td>\n",
       "      <td>10/31/2003</td>\n",
       "      <td>33.9163889</td>\n",
       "      <td>-118.351667</td>\n",
       "    </tr>\n",
       "    <tr>\n",
       "      <th>30</th>\n",
       "      <td>10/10/1979 22:00</td>\n",
       "      <td>san diego</td>\n",
       "      <td>ca</td>\n",
       "      <td>us</td>\n",
       "      <td>oval</td>\n",
       "      <td>180.0</td>\n",
       "      <td>3 minutes</td>\n",
       "      <td>My 2nd UFO sighting&amp;#44 October 1979</td>\n",
       "      <td>8/5/2001</td>\n",
       "      <td>32.7152778</td>\n",
       "      <td>-117.156389</td>\n",
       "    </tr>\n",
       "    <tr>\n",
       "      <th>45</th>\n",
       "      <td>10/10/1989 00:00</td>\n",
       "      <td>calabasas</td>\n",
       "      <td>ca</td>\n",
       "      <td>us</td>\n",
       "      <td>disk</td>\n",
       "      <td>300.0</td>\n",
       "      <td>approx 5 min</td>\n",
       "      <td>Unidentified object on Mulholland Highway.</td>\n",
       "      <td>12/14/2004</td>\n",
       "      <td>34.1577778</td>\n",
       "      <td>-118.637500</td>\n",
       "    </tr>\n",
       "    <tr>\n",
       "      <th>63</th>\n",
       "      <td>10/10/1995 22:40</td>\n",
       "      <td>oakland</td>\n",
       "      <td>ca</td>\n",
       "      <td>us</td>\n",
       "      <td>NaN</td>\n",
       "      <td>60.0</td>\n",
       "      <td>1 minute</td>\n",
       "      <td>Woman repts.  bright light in NW sky&amp;#44 sudde...</td>\n",
       "      <td>11/2/1999</td>\n",
       "      <td>37.8044444</td>\n",
       "      <td>-122.269722</td>\n",
       "    </tr>\n",
       "    <tr>\n",
       "      <th>72</th>\n",
       "      <td>10/10/1998 02:30</td>\n",
       "      <td>hollywood</td>\n",
       "      <td>ca</td>\n",
       "      <td>us</td>\n",
       "      <td>changing</td>\n",
       "      <td>300.0</td>\n",
       "      <td>5 minutes</td>\n",
       "      <td>I was standing outside on Sunset Blvd. at Vine...</td>\n",
       "      <td>11/1/1998</td>\n",
       "      <td>34.0983333</td>\n",
       "      <td>-118.325833</td>\n",
       "    </tr>\n",
       "    <tr>\n",
       "      <th>...</th>\n",
       "      <td>...</td>\n",
       "      <td>...</td>\n",
       "      <td>...</td>\n",
       "      <td>...</td>\n",
       "      <td>...</td>\n",
       "      <td>...</td>\n",
       "      <td>...</td>\n",
       "      <td>...</td>\n",
       "      <td>...</td>\n",
       "      <td>...</td>\n",
       "      <td>...</td>\n",
       "    </tr>\n",
       "    <tr>\n",
       "      <th>80299</th>\n",
       "      <td>9/9/2012 20:00</td>\n",
       "      <td>arcata</td>\n",
       "      <td>ca</td>\n",
       "      <td>us</td>\n",
       "      <td>formation</td>\n",
       "      <td>600.0</td>\n",
       "      <td>10 minutes</td>\n",
       "      <td>Object with red and green lights moving sited ...</td>\n",
       "      <td>9/24/2012</td>\n",
       "      <td>40.8666667</td>\n",
       "      <td>-124.081667</td>\n",
       "    </tr>\n",
       "    <tr>\n",
       "      <th>80305</th>\n",
       "      <td>9/9/2012 20:30</td>\n",
       "      <td>ventura</td>\n",
       "      <td>ca</td>\n",
       "      <td>us</td>\n",
       "      <td>chevron</td>\n",
       "      <td>900.0</td>\n",
       "      <td>15 minutes</td>\n",
       "      <td>Beautiful bright blue delta shaped aerobatics.</td>\n",
       "      <td>9/24/2012</td>\n",
       "      <td>34.2783333</td>\n",
       "      <td>-119.292222</td>\n",
       "    </tr>\n",
       "    <tr>\n",
       "      <th>80310</th>\n",
       "      <td>9/9/2012 21:00</td>\n",
       "      <td>ventura</td>\n",
       "      <td>ca</td>\n",
       "      <td>us</td>\n",
       "      <td>circle</td>\n",
       "      <td>300.0</td>\n",
       "      <td>5 minutes</td>\n",
       "      <td>Bright Blue Object seen floating in sky near C...</td>\n",
       "      <td>9/24/2012</td>\n",
       "      <td>34.2783333</td>\n",
       "      <td>-119.292222</td>\n",
       "    </tr>\n",
       "    <tr>\n",
       "      <th>80316</th>\n",
       "      <td>9/9/2013 09:51</td>\n",
       "      <td>san diego</td>\n",
       "      <td>ca</td>\n",
       "      <td>us</td>\n",
       "      <td>light</td>\n",
       "      <td>4.0</td>\n",
       "      <td>~4 seconds</td>\n",
       "      <td>2 white lights zig-zag over Qualcomm Stadium (...</td>\n",
       "      <td>9/30/2013</td>\n",
       "      <td>32.7152778</td>\n",
       "      <td>-117.156389</td>\n",
       "    </tr>\n",
       "    <tr>\n",
       "      <th>80329</th>\n",
       "      <td>9/9/2013 22:00</td>\n",
       "      <td>napa</td>\n",
       "      <td>ca</td>\n",
       "      <td>us</td>\n",
       "      <td>other</td>\n",
       "      <td>1200.0</td>\n",
       "      <td>hour</td>\n",
       "      <td>Napa UFO&amp;#44</td>\n",
       "      <td>9/30/2013</td>\n",
       "      <td>38.2972222</td>\n",
       "      <td>-122.284444</td>\n",
       "    </tr>\n",
       "  </tbody>\n",
       "</table>\n",
       "<p>8912 rows × 11 columns</p>\n",
       "</div>"
      ],
      "text/plain": [
       "               datetime       city state country      shape  duration_sec  \\\n",
       "10     10/10/1968 13:00  hawthorne    ca      us     circle         300.0   \n",
       "30     10/10/1979 22:00  san diego    ca      us       oval         180.0   \n",
       "45     10/10/1989 00:00  calabasas    ca      us       disk         300.0   \n",
       "63     10/10/1995 22:40    oakland    ca      us        NaN          60.0   \n",
       "72     10/10/1998 02:30  hollywood    ca      us   changing         300.0   \n",
       "...                 ...        ...   ...     ...        ...           ...   \n",
       "80299    9/9/2012 20:00     arcata    ca      us  formation         600.0   \n",
       "80305    9/9/2012 20:30    ventura    ca      us    chevron         900.0   \n",
       "80310    9/9/2012 21:00    ventura    ca      us     circle         300.0   \n",
       "80316    9/9/2013 09:51  san diego    ca      us      light           4.0   \n",
       "80329    9/9/2013 22:00       napa    ca      us      other        1200.0   \n",
       "\n",
       "      duration (hours/min)                                           comments  \\\n",
       "10                  5 min.  ROUND &#44 ORANGE &#44 WITH WHAT I WOULD SAY W...   \n",
       "30               3 minutes               My 2nd UFO sighting&#44 October 1979   \n",
       "45            approx 5 min         Unidentified object on Mulholland Highway.   \n",
       "63                1 minute  Woman repts.  bright light in NW sky&#44 sudde...   \n",
       "72               5 minutes  I was standing outside on Sunset Blvd. at Vine...   \n",
       "...                    ...                                                ...   \n",
       "80299           10 minutes  Object with red and green lights moving sited ...   \n",
       "80305           15 minutes     Beautiful bright blue delta shaped aerobatics.   \n",
       "80310            5 minutes  Bright Blue Object seen floating in sky near C...   \n",
       "80316           ~4 seconds  2 white lights zig-zag over Qualcomm Stadium (...   \n",
       "80329                 hour                                       Napa UFO&#44   \n",
       "\n",
       "      date posted    latitude  longitude   \n",
       "10     10/31/2003  33.9163889 -118.351667  \n",
       "30       8/5/2001  32.7152778 -117.156389  \n",
       "45     12/14/2004  34.1577778 -118.637500  \n",
       "63      11/2/1999  37.8044444 -122.269722  \n",
       "72      11/1/1998  34.0983333 -118.325833  \n",
       "...           ...         ...         ...  \n",
       "80299   9/24/2012  40.8666667 -124.081667  \n",
       "80305   9/24/2012  34.2783333 -119.292222  \n",
       "80310   9/24/2012  34.2783333 -119.292222  \n",
       "80316   9/30/2013  32.7152778 -117.156389  \n",
       "80329   9/30/2013  38.2972222 -122.284444  \n",
       "\n",
       "[8912 rows x 11 columns]"
      ]
     },
     "execution_count": 20,
     "metadata": {},
     "output_type": "execute_result"
    }
   ],
   "source": [
    "california = df_us.loc[(ufo_df['state'] == 'ca')]\n",
    "california"
   ]
  },
  {
   "cell_type": "code",
   "execution_count": 26,
   "id": "a9759a48-f0ac-4f4b-aec7-227a28af9d6b",
   "metadata": {},
   "outputs": [
    {
     "ename": "AttributeError",
     "evalue": "'Series' object has no attribute 'valuecounts'",
     "output_type": "error",
     "traceback": [
      "\u001b[0;31m---------------------------------------------------------------------------\u001b[0m",
      "\u001b[0;31mAttributeError\u001b[0m                            Traceback (most recent call last)",
      "\u001b[0;32m/var/folders/57/zf42hz6s3x772nyg0g1g5k6c0000gn/T/ipykernel_8423/3535198160.py\u001b[0m in \u001b[0;36m<module>\u001b[0;34m\u001b[0m\n\u001b[0;32m----> 1\u001b[0;31m \u001b[0mcali_cities\u001b[0m \u001b[0;34m=\u001b[0m \u001b[0mdf_us\u001b[0m\u001b[0;34m[\u001b[0m\u001b[0;34m'city'\u001b[0m\u001b[0;34m]\u001b[0m\u001b[0;34m.\u001b[0m\u001b[0mvaluecounts\u001b[0m\u001b[0;34m\u001b[0m\u001b[0;34m\u001b[0m\u001b[0m\n\u001b[0m",
      "\u001b[0;32m~/opt/anaconda3/lib/python3.9/site-packages/pandas/core/generic.py\u001b[0m in \u001b[0;36m__getattr__\u001b[0;34m(self, name)\u001b[0m\n\u001b[1;32m   5485\u001b[0m         ):\n\u001b[1;32m   5486\u001b[0m             \u001b[0;32mreturn\u001b[0m \u001b[0mself\u001b[0m\u001b[0;34m[\u001b[0m\u001b[0mname\u001b[0m\u001b[0;34m]\u001b[0m\u001b[0;34m\u001b[0m\u001b[0;34m\u001b[0m\u001b[0m\n\u001b[0;32m-> 5487\u001b[0;31m         \u001b[0;32mreturn\u001b[0m \u001b[0mobject\u001b[0m\u001b[0;34m.\u001b[0m\u001b[0m__getattribute__\u001b[0m\u001b[0;34m(\u001b[0m\u001b[0mself\u001b[0m\u001b[0;34m,\u001b[0m \u001b[0mname\u001b[0m\u001b[0;34m)\u001b[0m\u001b[0;34m\u001b[0m\u001b[0;34m\u001b[0m\u001b[0m\n\u001b[0m\u001b[1;32m   5488\u001b[0m \u001b[0;34m\u001b[0m\u001b[0m\n\u001b[1;32m   5489\u001b[0m     \u001b[0;32mdef\u001b[0m \u001b[0m__setattr__\u001b[0m\u001b[0;34m(\u001b[0m\u001b[0mself\u001b[0m\u001b[0;34m,\u001b[0m \u001b[0mname\u001b[0m\u001b[0;34m:\u001b[0m \u001b[0mstr\u001b[0m\u001b[0;34m,\u001b[0m \u001b[0mvalue\u001b[0m\u001b[0;34m)\u001b[0m \u001b[0;34m->\u001b[0m \u001b[0;32mNone\u001b[0m\u001b[0;34m:\u001b[0m\u001b[0;34m\u001b[0m\u001b[0;34m\u001b[0m\u001b[0m\n",
      "\u001b[0;31mAttributeError\u001b[0m: 'Series' object has no attribute 'valuecounts'"
     ]
    }
   ],
   "source": [
    "cali_cities = df_us['city'].valuecounts"
   ]
  },
  {
   "cell_type": "code",
   "execution_count": null,
   "id": "b8fe2074-5195-4e34-a143-e65f79045ff7",
   "metadata": {},
   "outputs": [],
   "source": []
  }
 ],
 "metadata": {
  "kernelspec": {
   "display_name": "Python 3 (ipykernel)",
   "language": "python",
   "name": "python3"
  },
  "language_info": {
   "codemirror_mode": {
    "name": "ipython",
    "version": 3
   },
   "file_extension": ".py",
   "mimetype": "text/x-python",
   "name": "python",
   "nbconvert_exporter": "python",
   "pygments_lexer": "ipython3",
   "version": "3.9.7"
  }
 },
 "nbformat": 4,
 "nbformat_minor": 5
}
