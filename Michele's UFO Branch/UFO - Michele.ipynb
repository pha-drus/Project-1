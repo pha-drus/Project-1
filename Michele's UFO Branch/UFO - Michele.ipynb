{
 "cells": [
  {
   "cell_type": "markdown",
   "id": "9bb48cc2-dce4-44e3-bca5-316b029ed6ed",
   "metadata": {},
   "source": [
    "# Which state has the most sightings? over time?\n"
   ]
  },
  {
   "cell_type": "code",
   "execution_count": 5,
   "id": "b49ae55a-bc17-46a1-a18d-0c73bba8aa08",
   "metadata": {},
   "outputs": [],
   "source": [
    "import os\n",
    "import pandas as pd\n",
    "import json\n",
    "import requests\n",
    "import matplotlib.pyplot as plt\n",
    "import numpy as np\n",
    "import scipy.stats as st"
   ]
  },
  {
   "cell_type": "code",
   "execution_count": 6,
   "id": "0359a5e0-3726-4510-9073-f795670e1afc",
   "metadata": {},
   "outputs": [],
   "source": [
    "ufo_df = pd.read_csv('resources/ufo4.csv', low_memory=False)"
   ]
  },
  {
   "cell_type": "code",
   "execution_count": 7,
   "id": "076f0599-74f4-4fbb-a544-0da058128328",
   "metadata": {},
   "outputs": [
    {
     "data": {
      "text/html": [
       "<div>\n",
       "<style scoped>\n",
       "    .dataframe tbody tr th:only-of-type {\n",
       "        vertical-align: middle;\n",
       "    }\n",
       "\n",
       "    .dataframe tbody tr th {\n",
       "        vertical-align: top;\n",
       "    }\n",
       "\n",
       "    .dataframe thead th {\n",
       "        text-align: right;\n",
       "    }\n",
       "</style>\n",
       "<table border=\"1\" class=\"dataframe\">\n",
       "  <thead>\n",
       "    <tr style=\"text-align: right;\">\n",
       "      <th></th>\n",
       "      <th>datetime</th>\n",
       "      <th>city</th>\n",
       "      <th>state</th>\n",
       "      <th>country</th>\n",
       "      <th>shape</th>\n",
       "      <th>duration (seconds)</th>\n",
       "      <th>duration (hours/min)</th>\n",
       "      <th>comments</th>\n",
       "      <th>date posted</th>\n",
       "      <th>latitude</th>\n",
       "      <th>longitude</th>\n",
       "      <th>region</th>\n",
       "    </tr>\n",
       "  </thead>\n",
       "  <tbody>\n",
       "    <tr>\n",
       "      <th>0</th>\n",
       "      <td>5/5/2014 16:00</td>\n",
       "      <td>anchorage</td>\n",
       "      <td>ak</td>\n",
       "      <td>us</td>\n",
       "      <td>NaN</td>\n",
       "      <td>10800</td>\n",
       "      <td>3+ hours</td>\n",
       "      <td>UFO hiding in moving mist/cloud over Cook Inlet.</td>\n",
       "      <td>5/8/2014</td>\n",
       "      <td>61.2180556</td>\n",
       "      <td>-149.900278</td>\n",
       "      <td>West</td>\n",
       "    </tr>\n",
       "    <tr>\n",
       "      <th>1</th>\n",
       "      <td>4/19/2014 22:15</td>\n",
       "      <td>anchorage</td>\n",
       "      <td>ak</td>\n",
       "      <td>us</td>\n",
       "      <td>flash</td>\n",
       "      <td>300</td>\n",
       "      <td>3-5 minutes</td>\n",
       "      <td>Brightly flashing high speed spherical object ...</td>\n",
       "      <td>4/24/2014</td>\n",
       "      <td>61.2180556</td>\n",
       "      <td>-149.900278</td>\n",
       "      <td>West</td>\n",
       "    </tr>\n",
       "    <tr>\n",
       "      <th>2</th>\n",
       "      <td>4/19/2014 0:04</td>\n",
       "      <td>kodiak</td>\n",
       "      <td>ak</td>\n",
       "      <td>us</td>\n",
       "      <td>sphere</td>\n",
       "      <td>60</td>\n",
       "      <td>1 minute</td>\n",
       "      <td>Red light over Kodiak.</td>\n",
       "      <td>4/24/2014</td>\n",
       "      <td>57.79</td>\n",
       "      <td>-152.407222</td>\n",
       "      <td>West</td>\n",
       "    </tr>\n",
       "    <tr>\n",
       "      <th>3</th>\n",
       "      <td>4/14/2014 22:45</td>\n",
       "      <td>wasilla</td>\n",
       "      <td>ak</td>\n",
       "      <td>us</td>\n",
       "      <td>triangle</td>\n",
       "      <td>60</td>\n",
       "      <td>1 minute</td>\n",
       "      <td>3 red-orange lights on low flying UFO(s) off P...</td>\n",
       "      <td>4/18/2014</td>\n",
       "      <td>61.5813889</td>\n",
       "      <td>-149.439444</td>\n",
       "      <td>West</td>\n",
       "    </tr>\n",
       "    <tr>\n",
       "      <th>4</th>\n",
       "      <td>4/11/2014 21:30</td>\n",
       "      <td>ketchikan</td>\n",
       "      <td>ak</td>\n",
       "      <td>us</td>\n",
       "      <td>fireball</td>\n",
       "      <td>120</td>\n",
       "      <td>2 minutes</td>\n",
       "      <td>Fireball like object seen above the small isla...</td>\n",
       "      <td>4/18/2014</td>\n",
       "      <td>55.3422222</td>\n",
       "      <td>-131.646111</td>\n",
       "      <td>West</td>\n",
       "    </tr>\n",
       "  </tbody>\n",
       "</table>\n",
       "</div>"
      ],
      "text/plain": [
       "          datetime       city state country     shape duration (seconds)  \\\n",
       "0   5/5/2014 16:00  anchorage    ak      us       NaN              10800   \n",
       "1  4/19/2014 22:15  anchorage    ak      us     flash                300   \n",
       "2   4/19/2014 0:04     kodiak    ak      us    sphere                 60   \n",
       "3  4/14/2014 22:45    wasilla    ak      us  triangle                 60   \n",
       "4  4/11/2014 21:30  ketchikan    ak      us  fireball                120   \n",
       "\n",
       "  duration (hours/min)                                           comments  \\\n",
       "0             3+ hours   UFO hiding in moving mist/cloud over Cook Inlet.   \n",
       "1          3-5 minutes  Brightly flashing high speed spherical object ...   \n",
       "2             1 minute                             Red light over Kodiak.   \n",
       "3             1 minute  3 red-orange lights on low flying UFO(s) off P...   \n",
       "4            2 minutes  Fireball like object seen above the small isla...   \n",
       "\n",
       "  date posted    latitude   longitude region  \n",
       "0    5/8/2014  61.2180556 -149.900278   West  \n",
       "1   4/24/2014  61.2180556 -149.900278   West  \n",
       "2   4/24/2014       57.79 -152.407222   West  \n",
       "3   4/18/2014  61.5813889 -149.439444   West  \n",
       "4   4/18/2014  55.3422222 -131.646111   West  "
      ]
     },
     "execution_count": 7,
     "metadata": {},
     "output_type": "execute_result"
    }
   ],
   "source": [
    "df_us = ufo_df[ufo_df['country'] == 'us']\n",
    "df_us.head()"
   ]
  },
  {
   "cell_type": "code",
   "execution_count": 8,
   "id": "c763403e-9930-4011-ae96-e7430438d7ef",
   "metadata": {},
   "outputs": [
    {
     "data": {
      "text/plain": [
       "ca    9584\n",
       "wa    4240\n",
       "fl    4175\n",
       "tx    3638\n",
       "ny    3195\n",
       "az    2667\n",
       "il    2628\n",
       "pa    2567\n",
       "oh    2401\n",
       "mi    2059\n",
       "nc    1858\n",
       "or    1826\n",
       "mo    1565\n",
       "nj    1499\n",
       "co    1494\n",
       "va    1382\n",
       "in    1380\n",
       "ma    1342\n",
       "ga    1339\n",
       "wi    1320\n",
       "tn    1189\n",
       "mn    1073\n",
       "sc    1069\n",
       "ct     959\n",
       "md     906\n",
       "ky     903\n",
       "nv     899\n",
       "nm     805\n",
       "ok     758\n",
       "ut     739\n",
       "ia     702\n",
       "al     687\n",
       "ar     656\n",
       "ks     649\n",
       "me     628\n",
       "la     590\n",
       "id     552\n",
       "nh     535\n",
       "mt     505\n",
       "wv     484\n",
       "ms     408\n",
       "ne     402\n",
       "hi     349\n",
       "ak     345\n",
       "vt     306\n",
       "ri     287\n",
       "wy     203\n",
       "sd     193\n",
       "de     183\n",
       "nd     138\n",
       "Name: state, dtype: int64"
      ]
     },
     "execution_count": 8,
     "metadata": {},
     "output_type": "execute_result"
    }
   ],
   "source": [
    "state_count = df_us['state'].value_counts()\n",
    "state_count"
   ]
  },
  {
   "cell_type": "code",
   "execution_count": 20,
   "id": "126799df-08c7-4f24-9f44-066ff1658927",
   "metadata": {},
   "outputs": [
    {
     "data": {
      "text/plain": [
       "Text(0.5, 1.0, 'UFO Sightings per State, 1950-2015')"
      ]
     },
     "execution_count": 20,
     "metadata": {},
     "output_type": "execute_result"
    },
    {
     "data": {
      "image/png": "[encoded data removed]",
      "text/plain": [
       "<Figure size 1080x576 with 1 Axes>"
      ]
     },
     "metadata": {
      "needs_background": "light"
     },
     "output_type": "display_data"
    }
   ],
   "source": [
    "plt.figure(figsize=(15,8))\n",
    "plot_pandas = state_count.plot.bar(color='limegreen',ec='black')\n",
    "\n",
    "plt.xticks(rotation=0)\n",
    "\n",
    "\n",
    "plt.xlabel(\"State\", size=13)\n",
    "plt.ylabel(\"Count of Sightings\", size=13)\n",
    "plt.title(\"UFO Sightings per State, 1950-2015\", size=25)\n"
   ]
  },
  {
   "cell_type": "code",
   "execution_count": 22,
   "id": "40995313-ca18-48c8-bfdd-175502ca133e",
   "metadata": {},
   "outputs": [
    {
     "data": {
      "text/plain": [
       "ca    9584\n",
       "wa    4240\n",
       "fl    4175\n",
       "tx    3638\n",
       "ny    3195\n",
       "Name: state, dtype: int64"
      ]
     },
     "execution_count": 22,
     "metadata": {},
     "output_type": "execute_result"
    }
   ],
   "source": [
    "state_count_top5 = df_us['state'].value_counts().head(5)\n",
    "state_count_top5\n",
    "\n"
   ]
  },
  {
   "cell_type": "code",
   "execution_count": 30,
   "id": "830be2e3-ee84-4c5c-9f50-9c8fefa4fea3",
   "metadata": {},
   "outputs": [
    {
     "data": {
      "text/plain": [
       "Text(0.5, 1.0, 'Top 5 States for UFO Sightings,1950-2015')"
      ]
     },
     "execution_count": 30,
     "metadata": {},
     "output_type": "execute_result"
    },
    {
     "data": {
      "image/png": "[encoded data removed]",
      "text/plain": [
       "<Figure size 1080x576 with 1 Axes>"
      ]
     },
     "metadata": {
      "needs_background": "light"
     },
     "output_type": "display_data"
    }
   ],
   "source": [
    "plt.figure(figsize=(15,8))\n",
    "plot_pandas = state_count_top5.plot.bar(color=\"limegreen\",ec=\"black\")\n",
    "plt.xticks(rotation=0)\n",
    "plt.xlabel(\"State\", size=13)\n",
    "plt.ylabel(\"Count of Sightings\", size=13)\n",
    "plt.title(\"Top 5 States for UFO Sightings,1950-2015\", size=25)"
   ]
  },
  {
   "cell_type": "code",
   "execution_count": 18,
   "id": "63e453db-853e-4021-91d8-2cce11eabd04",
   "metadata": {},
   "outputs": [
    {
     "data": {
      "text/plain": [
       "seattle        521\n",
       "phoenix        450\n",
       "portland       373\n",
       "las vegas      368\n",
       "los angeles    349\n",
       "Name: city, dtype: int64"
      ]
     },
     "execution_count": 18,
     "metadata": {},
     "output_type": "execute_result"
    }
   ],
   "source": [
    "topcity_count = df_us['city'].value_counts().head(5)\n",
    "topcity_count.head(5)"
   ]
  },
  {
   "cell_type": "code",
   "execution_count": 28,
   "id": "6cf17614-7aa7-431b-bce3-c2864aa067b3",
   "metadata": {},
   "outputs": [
    {
     "data": {
      "text/plain": [
       "Text(0.5, 1.0, 'Top 5 Cities for UFO Sightings, 1950-2015')"
      ]
     },
     "execution_count": 28,
     "metadata": {},
     "output_type": "execute_result"
    },
    {
     "data": {
      "image/png": "[encoded data removed]",
      "text/plain": [
       "<Figure size 1080x576 with 1 Axes>"
      ]
     },
     "metadata": {
      "needs_background": "light"
     },
     "output_type": "display_data"
    }
   ],
   "source": [
    "plt.figure(figsize=(15,8))\n",
    "plot_pandas = topcity_count.plot.bar(color='limegreen', ec=\"black\")\n",
    "plt.xticks(rotation=0)\n",
    "plt.xlabel(\"City\", size=13)\n",
    "plt.ylabel(\"Count of Sightings\", size=13)\n",
    "plt.title(\"Top 5 Cities for UFO Sightings, 1950-2015\", size=25)"
   ]
  },
  {
   "cell_type": "code",
   "execution_count": 31,
   "id": "5dd8316a-94d8-4f36-8621-bc1a55d99275",
   "metadata": {},
   "outputs": [
    {
     "data": {
      "text/plain": [
       "West         20736\n",
       "Midwest      14510\n",
       "Southeast    12874\n",
       "Northeast    12407\n",
       "Southwest     9734\n",
       "Name: region, dtype: int64"
      ]
     },
     "execution_count": 31,
     "metadata": {},
     "output_type": "execute_result"
    }
   ],
   "source": [
    "region_count = df_us['region'].value_counts()\n",
    "region_count"
   ]
  },
  {
   "cell_type": "code",
   "execution_count": null,
   "id": "2b280200-01af-47f3-80a3-ceb0e86531ea",
   "metadata": {},
   "outputs": [],
   "source": []
  }
 ],
 "metadata": {
  "kernelspec": {
   "display_name": "Python 3 (ipykernel)",
   "language": "python",
   "name": "python3"
  },
  "language_info": {
   "codemirror_mode": {
    "name": "ipython",
    "version": 3
   },
   "file_extension": ".py",
   "mimetype": "text/x-python",
   "name": "python",
   "nbconvert_exporter": "python",
   "pygments_lexer": "ipython3",
   "version": "3.9.7"
  }
 },
 "nbformat": 4,
 "nbformat_minor": 5
}
