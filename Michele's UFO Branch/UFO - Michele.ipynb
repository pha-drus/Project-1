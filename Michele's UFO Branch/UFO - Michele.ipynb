{
 "cells": [
  {
   "cell_type": "markdown",
   "id": "9bb48cc2-dce4-44e3-bca5-316b029ed6ed",
   "metadata": {},
   "source": [
    "# Which states have the most sightings over time?\n"
   ]
  },
  {
   "cell_type": "code",
   "execution_count": 2,
   "id": "b49ae55a-bc17-46a1-a18d-0c73bba8aa08",
   "metadata": {},
   "outputs": [],
   "source": [
    "import os\n",
    "import pandas as pd\n",
    "import json\n",
    "import requests\n",
    "import matplotlib.pyplot as plt\n",
    "import numpy as np\n",
    "import scipy.stats as st"
   ]
  },
  {
   "cell_type": "code",
   "execution_count": 3,
   "id": "0359a5e0-3726-4510-9073-f795670e1afc",
   "metadata": {},
   "outputs": [],
   "source": [
    "ufo_df = pd.read_csv('resources/ufo4.csv', low_memory=False)\n",
    "pop_df = pd.read_csv('resources/apportionment.csv')"
   ]
  },
  {
   "cell_type": "code",
   "execution_count": 4,
   "id": "076f0599-74f4-4fbb-a544-0da058128328",
   "metadata": {},
   "outputs": [
    {
     "data": {
      "text/html": [
       "<div>\n",
       "<style scoped>\n",
       "    .dataframe tbody tr th:only-of-type {\n",
       "        vertical-align: middle;\n",
       "    }\n",
       "\n",
       "    .dataframe tbody tr th {\n",
       "        vertical-align: top;\n",
       "    }\n",
       "\n",
       "    .dataframe thead th {\n",
       "        text-align: right;\n",
       "    }\n",
       "</style>\n",
       "<table border=\"1\" class=\"dataframe\">\n",
       "  <thead>\n",
       "    <tr style=\"text-align: right;\">\n",
       "      <th></th>\n",
       "      <th>datetime</th>\n",
       "      <th>city</th>\n",
       "      <th>state</th>\n",
       "      <th>country</th>\n",
       "      <th>shape</th>\n",
       "      <th>duration (seconds)</th>\n",
       "      <th>duration (hours/min)</th>\n",
       "      <th>comments</th>\n",
       "      <th>date posted</th>\n",
       "      <th>latitude</th>\n",
       "      <th>longitude</th>\n",
       "      <th>region</th>\n",
       "    </tr>\n",
       "  </thead>\n",
       "  <tbody>\n",
       "    <tr>\n",
       "      <th>0</th>\n",
       "      <td>5/5/2014 16:00</td>\n",
       "      <td>anchorage</td>\n",
       "      <td>ak</td>\n",
       "      <td>us</td>\n",
       "      <td>NaN</td>\n",
       "      <td>10800</td>\n",
       "      <td>3+ hours</td>\n",
       "      <td>UFO hiding in moving mist/cloud over Cook Inlet.</td>\n",
       "      <td>5/8/2014</td>\n",
       "      <td>61.2180556</td>\n",
       "      <td>-149.900278</td>\n",
       "      <td>West</td>\n",
       "    </tr>\n",
       "    <tr>\n",
       "      <th>1</th>\n",
       "      <td>4/19/2014 22:15</td>\n",
       "      <td>anchorage</td>\n",
       "      <td>ak</td>\n",
       "      <td>us</td>\n",
       "      <td>flash</td>\n",
       "      <td>300</td>\n",
       "      <td>3-5 minutes</td>\n",
       "      <td>Brightly flashing high speed spherical object ...</td>\n",
       "      <td>4/24/2014</td>\n",
       "      <td>61.2180556</td>\n",
       "      <td>-149.900278</td>\n",
       "      <td>West</td>\n",
       "    </tr>\n",
       "    <tr>\n",
       "      <th>2</th>\n",
       "      <td>4/19/2014 0:04</td>\n",
       "      <td>kodiak</td>\n",
       "      <td>ak</td>\n",
       "      <td>us</td>\n",
       "      <td>sphere</td>\n",
       "      <td>60</td>\n",
       "      <td>1 minute</td>\n",
       "      <td>Red light over Kodiak.</td>\n",
       "      <td>4/24/2014</td>\n",
       "      <td>57.79</td>\n",
       "      <td>-152.407222</td>\n",
       "      <td>West</td>\n",
       "    </tr>\n",
       "    <tr>\n",
       "      <th>3</th>\n",
       "      <td>4/14/2014 22:45</td>\n",
       "      <td>wasilla</td>\n",
       "      <td>ak</td>\n",
       "      <td>us</td>\n",
       "      <td>triangle</td>\n",
       "      <td>60</td>\n",
       "      <td>1 minute</td>\n",
       "      <td>3 red-orange lights on low flying UFO(s) off P...</td>\n",
       "      <td>4/18/2014</td>\n",
       "      <td>61.5813889</td>\n",
       "      <td>-149.439444</td>\n",
       "      <td>West</td>\n",
       "    </tr>\n",
       "    <tr>\n",
       "      <th>4</th>\n",
       "      <td>4/11/2014 21:30</td>\n",
       "      <td>ketchikan</td>\n",
       "      <td>ak</td>\n",
       "      <td>us</td>\n",
       "      <td>fireball</td>\n",
       "      <td>120</td>\n",
       "      <td>2 minutes</td>\n",
       "      <td>Fireball like object seen above the small isla...</td>\n",
       "      <td>4/18/2014</td>\n",
       "      <td>55.3422222</td>\n",
       "      <td>-131.646111</td>\n",
       "      <td>West</td>\n",
       "    </tr>\n",
       "  </tbody>\n",
       "</table>\n",
       "</div>"
      ],
      "text/plain": [
       "          datetime       city state country     shape duration (seconds)  \\\n",
       "0   5/5/2014 16:00  anchorage    ak      us       NaN              10800   \n",
       "1  4/19/2014 22:15  anchorage    ak      us     flash                300   \n",
       "2   4/19/2014 0:04     kodiak    ak      us    sphere                 60   \n",
       "3  4/14/2014 22:45    wasilla    ak      us  triangle                 60   \n",
       "4  4/11/2014 21:30  ketchikan    ak      us  fireball                120   \n",
       "\n",
       "  duration (hours/min)                                           comments  \\\n",
       "0             3+ hours   UFO hiding in moving mist/cloud over Cook Inlet.   \n",
       "1          3-5 minutes  Brightly flashing high speed spherical object ...   \n",
       "2             1 minute                             Red light over Kodiak.   \n",
       "3             1 minute  3 red-orange lights on low flying UFO(s) off P...   \n",
       "4            2 minutes  Fireball like object seen above the small isla...   \n",
       "\n",
       "  date posted    latitude   longitude region  \n",
       "0    5/8/2014  61.2180556 -149.900278   West  \n",
       "1   4/24/2014  61.2180556 -149.900278   West  \n",
       "2   4/24/2014       57.79 -152.407222   West  \n",
       "3   4/18/2014  61.5813889 -149.439444   West  \n",
       "4   4/18/2014  55.3422222 -131.646111   West  "
      ]
     },
     "execution_count": 4,
     "metadata": {},
     "output_type": "execute_result"
    }
   ],
   "source": [
    "df_us = ufo_df[ufo_df['country'] == 'us']\n",
    "df_us.head()"
   ]
  },
  {
   "cell_type": "code",
   "execution_count": 5,
   "id": "c763403e-9930-4011-ae96-e7430438d7ef",
   "metadata": {},
   "outputs": [
    {
     "data": {
      "text/plain": [
       "ca    9584\n",
       "wa    4240\n",
       "fl    4175\n",
       "tx    3638\n",
       "ny    3195\n",
       "az    2667\n",
       "il    2628\n",
       "pa    2567\n",
       "oh    2401\n",
       "mi    2059\n",
       "nc    1858\n",
       "or    1826\n",
       "mo    1565\n",
       "nj    1499\n",
       "co    1494\n",
       "va    1382\n",
       "in    1380\n",
       "ma    1342\n",
       "ga    1339\n",
       "wi    1320\n",
       "tn    1189\n",
       "mn    1073\n",
       "sc    1069\n",
       "ct     959\n",
       "md     906\n",
       "ky     903\n",
       "nv     899\n",
       "nm     805\n",
       "ok     758\n",
       "ut     739\n",
       "ia     702\n",
       "al     687\n",
       "ar     656\n",
       "ks     649\n",
       "me     628\n",
       "la     590\n",
       "id     552\n",
       "nh     535\n",
       "mt     505\n",
       "wv     484\n",
       "ms     408\n",
       "ne     402\n",
       "hi     349\n",
       "ak     345\n",
       "vt     306\n",
       "ri     287\n",
       "wy     203\n",
       "sd     193\n",
       "de     183\n",
       "nd     138\n",
       "Name: state, dtype: int64"
      ]
     },
     "execution_count": 5,
     "metadata": {},
     "output_type": "execute_result"
    }
   ],
   "source": [
    "state_count = df_us['state'].value_counts()\n",
    "state_count"
   ]
  },
  {
   "cell_type": "code",
   "execution_count": 6,
   "id": "126799df-08c7-4f24-9f44-066ff1658927",
   "metadata": {},
   "outputs": [
    {
     "data": {
      "text/plain": [
       "Text(0.5, 1.0, 'UFO Sightings per State, 1950-2015')"
      ]
     },
     "execution_count": 6,
     "metadata": {},
     "output_type": "execute_result"
    },
    {
     "data": {
      "image/png": "[encoded data removed]",
      "text/plain": [
       "<Figure size 1080x1080 with 1 Axes>"
      ]
     },
     "metadata": {
      "needs_background": "light"
     },
     "output_type": "display_data"
    }
   ],
   "source": [
    "\n",
    "plot_pandas = state_count.plot.barh(color='limegreen',ec='black',figsize=(15,15),legend=False,zorder=5, grid=True)\n",
    "plt.xticks(rotation=0, size=12)\n",
    "plt.yticks(rotation=0, size=12)\n",
    "plt.xlabel(\"State\", size=13)\n",
    "plt.ylabel(\"Count of Sightings\", size=13)\n",
    "plt.title(\"UFO Sightings per State, 1950-2015\", size=25)\n"
   ]
  },
  {
   "cell_type": "code",
   "execution_count": 7,
   "id": "40995313-ca18-48c8-bfdd-175502ca133e",
   "metadata": {},
   "outputs": [
    {
     "data": {
      "text/plain": [
       "ca    9584\n",
       "wa    4240\n",
       "fl    4175\n",
       "tx    3638\n",
       "ny    3195\n",
       "Name: state, dtype: int64"
      ]
     },
     "execution_count": 7,
     "metadata": {},
     "output_type": "execute_result"
    }
   ],
   "source": [
    "state_count_top5 = df_us['state'].value_counts().head(5)\n",
    "state_count_top5\n",
    "\n"
   ]
  },
  {
   "cell_type": "code",
   "execution_count": 55,
   "id": "830be2e3-ee84-4c5c-9f50-9c8fefa4fea3",
   "metadata": {},
   "outputs": [
    {
     "data": {
      "image/png": "[encoded data removed]",
      "text/plain": [
       "<Figure size 1080x576 with 1 Axes>"
      ]
     },
     "metadata": {
      "needs_background": "light"
     },
     "output_type": "display_data"
    },
    {
     "data": {
      "text/plain": [
       "<Figure size 432x288 with 0 Axes>"
      ]
     },
     "metadata": {},
     "output_type": "display_data"
    }
   ],
   "source": [
    "plot_pandas = state_count_top5.plot.bar(color=\"limegreen\",ec=\"black\",figsize=(15,8),legend=False,zorder=5, grid=True)\n",
    "plt.xticks(rotation=0, size=13)\n",
    "plt.yticks(rotation=0, size=13)\n",
    "plt.xlabel(\"State\", size=16)\n",
    "plt.ylabel(\"Count of Sightings\", size=16)\n",
    "plt.title(\"States with the Most UFO Sightings,1950-2015\", size=25)\n",
    "fig = plt.figure()\n"
   ]
  },
  {
   "cell_type": "code",
   "execution_count": 56,
   "id": "6e66a93f-7221-45fc-8af7-4082922de437",
   "metadata": {},
   "outputs": [
    {
     "data": {
      "text/plain": [
       "ri    287\n",
       "wy    203\n",
       "sd    193\n",
       "de    183\n",
       "nd    138\n",
       "Name: state, dtype: int64"
      ]
     },
     "execution_count": 56,
     "metadata": {},
     "output_type": "execute_result"
    }
   ],
   "source": [
    "state_count_bottom5 = state_count.tail(5)\n",
    "state_count_bottom5"
   ]
  },
  {
   "cell_type": "code",
   "execution_count": 57,
   "id": "2883b5ac-e89e-4aac-a18d-747cb74e8d0c",
   "metadata": {},
   "outputs": [
    {
     "data": {
      "text/plain": [
       "Text(0.5, 1.0, 'States with the Fewest UFO Sightings,1950-2015')"
      ]
     },
     "execution_count": 65,
     "metadata": {},
     "output_type": "execute_result"
    },
    {
     "data": {
      "image/png": "[encoded data removed]",
      "text/plain": [
       "<Figure size 1080x576 with 1 Axes>"
      ]
     },
     "metadata": {
      "needs_background": "light"
     },
     "output_type": "display_data"
    }
   ],
   "source": [
    "plot_pandas = state_count_bottom5.plot.bar(color=\"limegreen\",ec=\"black\",figsize=(15,8),legend=False,zorder=5, grid=True)\n",
    "plt.xticks(rotation=0, size=13)\n",
    "plt.yticks(rotation=0, size=13)\n",
    "plt.xlabel(\"State\", size=16)\n",
    "plt.ylabel(\"Count of Sightings\", size=16)\n",
    "plt.title(\"States with the Fewest UFO Sightings,1950-2015\", size=25)"
   ]
  },
  {
   "cell_type": "code",
   "execution_count": 73,
   "id": "f9c32129-a846-4f7f-8f09-8cf9b31f88b2",
   "metadata": {},
   "outputs": [],
   "source": [
    "states = {\n",
    "        'ak': 'Alaska',\n",
    "        'al': 'Alabama',\n",
    "        'ar': 'Arkansas',\n",
    "        'as': 'American Samoa',\n",
    "        'az': 'Arizona',\n",
    "        'ca': 'California',\n",
    "        'co': 'Colorado',\n",
    "        'ct': 'Connecticut',\n",
    "        'dc': 'District of Columbia',\n",
    "        'de': 'Delaware',\n",
    "        'fl': 'Florida',\n",
    "        'ga': 'Georgia',\n",
    "        'gu': 'Guam',\n",
    "        'hi': 'Hawaii',\n",
    "        'ia': 'Iowa',\n",
    "        'id': 'Idaho',\n",
    "        'il': 'Illinois',\n",
    "        'in': 'Indiana',\n",
    "        'ks': 'Kansas',\n",
    "        'ky': 'Kentucky',\n",
    "        'la': 'Louisiana',\n",
    "        'ma': 'Massachusetts',\n",
    "        'md': 'Maryland',\n",
    "        'me': 'Maine',\n",
    "        'mi': 'Michigan',\n",
    "        'mn': 'Minnesota',\n",
    "        'mo': 'Missouri',\n",
    "        'mp': 'Northern Mariana Islands',\n",
    "        'ms': 'Mississippi',\n",
    "        'mt': 'Montana',\n",
    "        'na': 'National',\n",
    "        'nc': 'North Carolina',\n",
    "        'nd': 'North Dakota',\n",
    "        'ne': 'Nebraska',\n",
    "        'nh': 'New Hampshire',\n",
    "        'nj': 'New Jersey',\n",
    "        'nm': 'New Mexico',\n",
    "        'nv': 'Nevada',\n",
    "        'ny': 'New York',\n",
    "        'oh': 'Ohio',\n",
    "        'ok': 'Oklahoma',\n",
    "        'or': 'Oregon',\n",
    "        'pa': 'Pennsylvania',\n",
    "        'pr': 'Puerto Rico',\n",
    "        'ri': 'Rhode Island',\n",
    "        'sc': 'South Carolina',\n",
    "        'sd': 'South Dakota',\n",
    "        'tn': 'Tennessee',\n",
    "        'tx': 'Texas',\n",
    "        'ut': 'Utah',\n",
    "        'va': 'Virginia',\n",
    "        'vi': 'Virgin Islands',\n",
    "        'vt': 'Vermont',\n",
    "        'wa': 'Washington',\n",
    "        'wi': 'Wisconsin',\n",
    "        'wv': 'West Virginia',\n",
    "        'wy': 'Wyoming'\n",
    "}"
   ]
  },
  {
   "cell_type": "code",
   "execution_count": 74,
   "id": "fcfb7e24-a418-46a7-99c7-b8cd0185261d",
   "metadata": {},
   "outputs": [],
   "source": [
    "ufo_df = pd.read_csv('resources/ufo4.csv', low_memory=False)\n",
    "pop_df = pd.read_csv('resources/apportionment.csv')"
   ]
  },
  {
   "cell_type": "code",
   "execution_count": 75,
   "id": "942c57b1-d9d0-4e60-8f2a-da1ccd0c8ed6",
   "metadata": {},
   "outputs": [
    {
     "data": {
      "text/html": [
       "<div>\n",
       "<style scoped>\n",
       "    .dataframe tbody tr th:only-of-type {\n",
       "        vertical-align: middle;\n",
       "    }\n",
       "\n",
       "    .dataframe tbody tr th {\n",
       "        vertical-align: top;\n",
       "    }\n",
       "\n",
       "    .dataframe thead th {\n",
       "        text-align: right;\n",
       "    }\n",
       "</style>\n",
       "<table border=\"1\" class=\"dataframe\">\n",
       "  <thead>\n",
       "    <tr style=\"text-align: right;\">\n",
       "      <th></th>\n",
       "      <th>Name</th>\n",
       "      <th>Geography Type</th>\n",
       "      <th>Year</th>\n",
       "      <th>Resident Population</th>\n",
       "      <th>Percent Change in Resident Population</th>\n",
       "      <th>Resident Population Density</th>\n",
       "      <th>Resident Population Density Rank</th>\n",
       "      <th>Number of Representatives</th>\n",
       "      <th>Change in Number of Representatives</th>\n",
       "      <th>Average Apportionment Population Per Representative</th>\n",
       "    </tr>\n",
       "  </thead>\n",
       "  <tbody>\n",
       "    <tr>\n",
       "      <th>0</th>\n",
       "      <td>Alabama</td>\n",
       "      <td>State</td>\n",
       "      <td>1910</td>\n",
       "      <td>2,138,093</td>\n",
       "      <td>16.9</td>\n",
       "      <td>42.2</td>\n",
       "      <td>25.0</td>\n",
       "      <td>10.0</td>\n",
       "      <td>1.0</td>\n",
       "      <td>213,809</td>\n",
       "    </tr>\n",
       "    <tr>\n",
       "      <th>1</th>\n",
       "      <td>Alaska</td>\n",
       "      <td>State</td>\n",
       "      <td>1910</td>\n",
       "      <td>64,356</td>\n",
       "      <td>1.2</td>\n",
       "      <td>0.1</td>\n",
       "      <td>52.0</td>\n",
       "      <td>NaN</td>\n",
       "      <td>NaN</td>\n",
       "      <td>NaN</td>\n",
       "    </tr>\n",
       "    <tr>\n",
       "      <th>2</th>\n",
       "      <td>Arizona</td>\n",
       "      <td>State</td>\n",
       "      <td>1910</td>\n",
       "      <td>204,354</td>\n",
       "      <td>66.2</td>\n",
       "      <td>1.8</td>\n",
       "      <td>49.0</td>\n",
       "      <td>NaN</td>\n",
       "      <td>NaN</td>\n",
       "      <td>NaN</td>\n",
       "    </tr>\n",
       "    <tr>\n",
       "      <th>3</th>\n",
       "      <td>Arkansas</td>\n",
       "      <td>State</td>\n",
       "      <td>1910</td>\n",
       "      <td>1,574,449</td>\n",
       "      <td>20.0</td>\n",
       "      <td>30.3</td>\n",
       "      <td>30.0</td>\n",
       "      <td>7.0</td>\n",
       "      <td>0.0</td>\n",
       "      <td>224,921</td>\n",
       "    </tr>\n",
       "    <tr>\n",
       "      <th>4</th>\n",
       "      <td>California</td>\n",
       "      <td>State</td>\n",
       "      <td>1910</td>\n",
       "      <td>2,377,549</td>\n",
       "      <td>60.1</td>\n",
       "      <td>15.3</td>\n",
       "      <td>38.0</td>\n",
       "      <td>11.0</td>\n",
       "      <td>3.0</td>\n",
       "      <td>216,051</td>\n",
       "    </tr>\n",
       "  </tbody>\n",
       "</table>\n",
       "</div>"
      ],
      "text/plain": [
       "         Name Geography Type  Year Resident Population  \\\n",
       "0     Alabama          State  1910           2,138,093   \n",
       "1      Alaska          State  1910              64,356   \n",
       "2     Arizona          State  1910             204,354   \n",
       "3    Arkansas          State  1910           1,574,449   \n",
       "4  California          State  1910           2,377,549   \n",
       "\n",
       "   Percent Change in Resident Population Resident Population Density  \\\n",
       "0                                   16.9                        42.2   \n",
       "1                                    1.2                         0.1   \n",
       "2                                   66.2                         1.8   \n",
       "3                                   20.0                        30.3   \n",
       "4                                   60.1                        15.3   \n",
       "\n",
       "   Resident Population Density Rank  Number of Representatives  \\\n",
       "0                              25.0                       10.0   \n",
       "1                              52.0                        NaN   \n",
       "2                              49.0                        NaN   \n",
       "3                              30.0                        7.0   \n",
       "4                              38.0                       11.0   \n",
       "\n",
       "   Change in Number of Representatives  \\\n",
       "0                                  1.0   \n",
       "1                                  NaN   \n",
       "2                                  NaN   \n",
       "3                                  0.0   \n",
       "4                                  3.0   \n",
       "\n",
       "  Average Apportionment Population Per Representative  \n",
       "0                                            213,809   \n",
       "1                                                NaN   \n",
       "2                                                NaN   \n",
       "3                                            224,921   \n",
       "4                                            216,051   "
      ]
     },
     "execution_count": 75,
     "metadata": {},
     "output_type": "execute_result"
    }
   ],
   "source": [
    "pop_df.head()"
   ]
  },
  {
   "cell_type": "code",
   "execution_count": 76,
   "id": "922c5add-5f0d-4ce2-92d8-2cb97383deac",
   "metadata": {},
   "outputs": [
    {
     "data": {
      "text/html": [
       "<div>\n",
       "<style scoped>\n",
       "    .dataframe tbody tr th:only-of-type {\n",
       "        vertical-align: middle;\n",
       "    }\n",
       "\n",
       "    .dataframe tbody tr th {\n",
       "        vertical-align: top;\n",
       "    }\n",
       "\n",
       "    .dataframe thead th {\n",
       "        text-align: right;\n",
       "    }\n",
       "</style>\n",
       "<table border=\"1\" class=\"dataframe\">\n",
       "  <thead>\n",
       "    <tr style=\"text-align: right;\">\n",
       "      <th></th>\n",
       "      <th>Name</th>\n",
       "      <th>Year</th>\n",
       "      <th>Resident Population</th>\n",
       "    </tr>\n",
       "  </thead>\n",
       "  <tbody>\n",
       "    <tr>\n",
       "      <th>0</th>\n",
       "      <td>Alabama</td>\n",
       "      <td>1910</td>\n",
       "      <td>2,138,093</td>\n",
       "    </tr>\n",
       "    <tr>\n",
       "      <th>1</th>\n",
       "      <td>Alaska</td>\n",
       "      <td>1910</td>\n",
       "      <td>64,356</td>\n",
       "    </tr>\n",
       "    <tr>\n",
       "      <th>2</th>\n",
       "      <td>Arizona</td>\n",
       "      <td>1910</td>\n",
       "      <td>204,354</td>\n",
       "    </tr>\n",
       "    <tr>\n",
       "      <th>3</th>\n",
       "      <td>Arkansas</td>\n",
       "      <td>1910</td>\n",
       "      <td>1,574,449</td>\n",
       "    </tr>\n",
       "    <tr>\n",
       "      <th>4</th>\n",
       "      <td>California</td>\n",
       "      <td>1910</td>\n",
       "      <td>2,377,549</td>\n",
       "    </tr>\n",
       "  </tbody>\n",
       "</table>\n",
       "</div>"
      ],
      "text/plain": [
       "         Name  Year Resident Population\n",
       "0     Alabama  1910           2,138,093\n",
       "1      Alaska  1910              64,356\n",
       "2     Arizona  1910             204,354\n",
       "3    Arkansas  1910           1,574,449\n",
       "4  California  1910           2,377,549"
      ]
     },
     "execution_count": 76,
     "metadata": {},
     "output_type": "execute_result"
    }
   ],
   "source": [
    "pop_df.drop(['Geography Type', \n",
    "             'Percent Change in Resident Population', \n",
    "             'Resident Population Density', \n",
    "             'Resident Population Density Rank', \n",
    "             'Number of Representatives', \n",
    "             'Change in Number of Representatives', \n",
    "             'Average Apportionment Population Per Representative'], axis=1, inplace=True)\n",
    "pop_df.head()"
   ]
  },
  {
   "cell_type": "code",
   "execution_count": null,
   "id": "f38380e6-869b-4997-8533-fb92db427cc3",
   "metadata": {},
   "outputs": [],
   "source": []
  }
 ],
 "metadata": {
  "kernelspec": {
   "display_name": "Python 3 (ipykernel)",
   "language": "python",
   "name": "python3"
  },
  "language_info": {
   "codemirror_mode": {
    "name": "ipython",
    "version": 3
   },
   "file_extension": ".py",
   "mimetype": "text/x-python",
   "name": "python",
   "nbconvert_exporter": "python",
   "pygments_lexer": "ipython3",
   "version": "3.9.7"
  }
 },
 "nbformat": 4,
 "nbformat_minor": 5
}
