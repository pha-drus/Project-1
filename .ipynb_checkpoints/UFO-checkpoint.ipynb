{
 "cells": [
  {
   "cell_type": "code",
   "execution_count": null,
   "id": "d5db2daa-3704-417e-96e4-ec0e659bc61e",
   "metadata": {},
   "outputs": [],
   "source": [
    "## which state has the most sightings? over time?\n",
    "## most frequent shape by state?\n",
    "## timeline changes? trends?\n",
    "## sighting density around airports/afb"
   ]
  },
  {
   "cell_type": "code",
   "execution_count": null,
   "id": "5d9e1595-1b4f-48e1-bf65-4d83f388772a",
   "metadata": {},
   "outputs": [],
   "source": []
  },
  {
   "cell_type": "code",
   "execution_count": null,
   "id": "970f348a-9531-4fef-996f-a04b00bd9b40",
   "metadata": {},
   "outputs": [],
   "source": [
    "import os\n",
    "import pandas as pd\n",
    "import json\n",
    "import requests\n",
    "import matplotlib.pyplot as plt\n",
    "import numpy as np\n",
    "import scipy.stats as st\n",
    "from geopy.geocoders import Nominatim\n",
    "from shapely.geometry import Point"
   ]
  },
  {
   "cell_type": "code",
   "execution_count": null,
   "id": "55495f76-4992-4449-902c-0dc84a1c35df",
   "metadata": {},
   "outputs": [],
   "source": [
    "ufo_df = pd.read_csv('resources/ufo.csv', low_memory=False)\n",
    "airport_df = pd.read_csv('resources/airports.csv', low_memory=False)"
   ]
  },
  {
   "cell_type": "code",
   "execution_count": null,
   "id": "bb8012eb-afef-4151-872f-05d614448c92",
   "metadata": {},
   "outputs": [],
   "source": [
    "nRow, nCol = ufo_df.shape\n",
    "print(f'This csv has {nRow} rows and {nCol} columns')"
   ]
  },
  {
   "cell_type": "code",
   "execution_count": null,
   "id": "aedf0ff5-4cd3-42e2-a145-c12863018678",
   "metadata": {},
   "outputs": [],
   "source": [
    "#split datetime into date and time and move them to the front of the df\n",
    "\n",
    "ufo_df[['date', 'time']] = ufo_df.datetime.str.split(' ', expand=True)\n",
    "\n",
    "first_column = ufo_df.pop('time')\n",
    "ufo_df.insert(0, 'time', first_column)\n",
    "\n",
    "first_column = ufo_df.pop('date')\n",
    "ufo_df.insert(0, 'date', first_column)\n",
    "\n",
    "ufo_df.pop('datetime')\n",
    "\n",
    "ufo_df.head()"
   ]
  },
  {
   "cell_type": "code",
   "execution_count": null,
   "id": "c07be1e7-c032-4752-b059-3164f451a742",
   "metadata": {},
   "outputs": [],
   "source": [
    "#convert 'duration' column from object to float64\n",
    "\n",
    "ufo_df.rename(columns = {'duration (seconds)':'duration_sec'}, inplace = True)\n",
    "\n",
    "ufo_df[\"duration_sec\"] = pd.to_numeric(ufo_df.duration_sec, errors='coerce')\n",
    "\n",
    "#convert 'latitude' and 'longitude' columns from object to float64\n",
    "ufo_df[\"latitude\"] = pd.to_numeric(ufo_df.latitude, errors='coerce')\n",
    "ufo_df[\"longitude\"] = pd.to_numeric(ufo_df.longitude, errors='coerce')"
   ]
  },
  {
   "cell_type": "code",
   "execution_count": null,
   "id": "b35d64fb-0094-4df4-a870-a4d0635fdbcd",
   "metadata": {},
   "outputs": [],
   "source": [
    "ufo_df.dtypes"
   ]
  },
  {
   "cell_type": "code",
   "execution_count": null,
   "id": "e397dab6-81a2-4f21-a64b-e4affb6816f5",
   "metadata": {},
   "outputs": [],
   "source": [
    "ufo_df['shape'].value_counts()"
   ]
  },
  {
   "cell_type": "code",
   "execution_count": null,
   "id": "44255646-6164-4ce5-9867-4f639c4a462e",
   "metadata": {},
   "outputs": [],
   "source": [
    "ufo_df['state'].value_counts()"
   ]
  },
  {
   "cell_type": "code",
   "execution_count": null,
   "id": "94ea6883-ad7e-46d3-9daf-c6c15afd8a6a",
   "metadata": {},
   "outputs": [],
   "source": [
    "ufo_df['city'].value_counts()"
   ]
  },
  {
   "cell_type": "code",
   "execution_count": null,
   "id": "50fd797d-d7d6-45d8-9e9d-fa2bd323a5de",
   "metadata": {},
   "outputs": [],
   "source": []
  },
  {
   "cell_type": "code",
   "execution_count": null,
   "id": "918b1041-b7d9-4c98-867d-e31fc8f70e1f",
   "metadata": {},
   "outputs": [],
   "source": [
    "airport_df.dtypes"
   ]
  },
  {
   "cell_type": "code",
   "execution_count": null,
   "id": "3c1c9477-dc6d-4d5f-b9a1-17d099d4db51",
   "metadata": {},
   "outputs": [],
   "source": [
    "ufo_df=ufo_df.rename(columns = {'latitude':'lat','longitude':'lon'})\n",
    "airport_df=airport_df.rename(columns = {'latitude_deg':'lat','longitude_deg':'lon'})\n",
    "# To make sure that there are no null values and All are either integers/ Float values\n",
    "ufo_df.info() \n",
    "print('\\n XXXXXXXXXXXXXXXXXXXXXXX\\n')\n",
    "airport_df.info()"
   ]
  },
  {
   "cell_type": "code",
   "execution_count": 191,
   "id": "ea76f121-da90-472c-96ac-92ee5f041305",
   "metadata": {},
   "outputs": [],
   "source": [
    "from math import radians, cos, sin, asin, sqrt\n",
    "def dist(lat1, long1, lat2, long2):\n",
    "    \"\"\"\n",
    "    Calculate the great circle distance between two points \n",
    "    on the earth (specified in decimal degrees)\n",
    "    \"\"\"\n",
    "    # convert decimal degrees to radians \n",
    "    lat1, long1, lat2, long2 = map(radians, [lat1, long1, lat2, long2])\n",
    "    # haversine formula \n",
    "    dlon = long2 - long1 \n",
    "    dlat = lat2 - lat1 \n",
    "    a = sin(dlat/2)**2 + cos(lat1) * cos(lat2) * sin(dlon/2)**2\n",
    "    c = 2 * asin(sqrt(a)) \n",
    "    # Radius of earth in kilometers is 6371\n",
    "    km = 6371* c\n",
    "    return km"
   ]
  },
  {
   "cell_type": "code",
   "execution_count": null,
   "id": "df4fca5f-371b-40dd-9c19-0b4a9ad0e9e7",
   "metadata": {},
   "outputs": [],
   "source": [
    "from math import radians, cos, sin, asin, sqrt\n",
    "def dist(lat1, long1, lat2, long2):\n",
    "    \"\"\"\n",
    "    Calculate the great circle distance between two points \n",
    "    on the earth (specified in decimal degrees)\n",
    "    \"\"\"\n",
    "    # convert decimal degrees to radians \n",
    "    lat1, long1, lat2, long2 = map(radians, [lat1, long1, lat2, long2])\n",
    "    # haversine formula \n",
    "    dlon = long2 - long1 \n",
    "    dlat = lat2 - lat1 \n",
    "    a = sin(dlat/2)**2 + cos(lat1) * cos(lat2) * sin(dlon/2)**2\n",
    "    c = 2 * asin(sqrt(a)) \n",
    "    # Radius of earth in kilometers is 6371\n",
    "    km = 6371* c\n",
    "    return km"
   ]
  },
  {
   "cell_type": "code",
   "execution_count": null,
   "id": "79125753-c92f-4347-af4e-7161a8eb3259",
   "metadata": {},
   "outputs": [],
   "source": [
    "def find_nearest(lat, long):\n",
    "    distances = airport_df.apply(\n",
    "        lambda row: dist(lat, long, row['lat'], row['lon']), axis=1)\n",
    "    return airport_df.loc[distances.idxmin(), 'name']"
   ]
  },
  {
   "cell_type": "code",
   "execution_count": null,
   "id": "3f828796-f96a-4b48-add1-ca96e3bde617",
   "metadata": {},
   "outputs": [],
   "source": [
    "ufo_df['name'] = ufo_df.apply(\n",
    "    lambda row: find_nearest(row['lat'], row['lon']), axis=1)\n",
    "ufo_df.head()"
   ]
  },
  {
   "cell_type": "code",
   "execution_count": null,
   "id": "890b8cfc-038a-4e38-9f87-ee01fcc45ae0",
   "metadata": {},
   "outputs": [],
   "source": []
  },
  {
   "cell_type": "code",
   "execution_count": null,
   "id": "4971ad13-fcfa-42a2-85da-bf01ae547284",
   "metadata": {},
   "outputs": [],
   "source": []
  }
 ],
 "metadata": {
  "kernelspec": {
   "display_name": "Python 3 (ipykernel)",
   "language": "python",
   "name": "python3"
  },
  "language_info": {
   "codemirror_mode": {
    "name": "ipython",
    "version": 3
   },
   "file_extension": ".py",
   "mimetype": "text/x-python",
   "name": "python",
   "nbconvert_exporter": "python",
   "pygments_lexer": "ipython3",
   "version": "3.9.7"
  }
 },
 "nbformat": 4,
 "nbformat_minor": 5
}
