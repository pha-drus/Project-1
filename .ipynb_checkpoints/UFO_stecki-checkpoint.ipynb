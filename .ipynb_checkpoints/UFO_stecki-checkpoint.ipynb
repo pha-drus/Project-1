{
 "cells": [
  {
   "cell_type": "code",
   "execution_count": 2,
   "id": "d5db2daa-3704-417e-96e4-ec0e659bc61e",
   "metadata": {},
   "outputs": [],
   "source": [
    "## which state has the most sightings? over time?\n",
    "## most frequent shape by state?\n",
    "## timeline changes? trends?\n",
    "## sighting density around airports/afb"
   ]
  },
  {
   "cell_type": "code",
   "execution_count": null,
   "id": "5d9e1595-1b4f-48e1-bf65-4d83f388772a",
   "metadata": {},
   "outputs": [],
   "source": []
  },
  {
   "cell_type": "code",
   "execution_count": 3,
   "id": "970f348a-9531-4fef-996f-a04b00bd9b40",
   "metadata": {},
   "outputs": [],
   "source": [
    "import os\n",
    "import pandas as pd\n",
    "import json\n",
    "import requests\n",
    "import matplotlib.pyplot as plt\n",
    "import numpy as np\n",
    "import scipy.stats as st\n",
    "from geopy.geocoders import Nominatim\n",
    "from shapely.geometry import Point"
   ]
  },
  {
   "cell_type": "code",
   "execution_count": 4,
   "id": "55495f76-4992-4449-902c-0dc84a1c35df",
   "metadata": {},
   "outputs": [],
   "source": [
    "ufo_df = pd.read_csv('resources/ufo.csv', low_memory=False)\n",
    "airport_df = pd.read_csv('resources/airports.csv', low_memory=False)"
   ]
  },
  {
   "cell_type": "code",
   "execution_count": 5,
   "id": "bb8012eb-afef-4151-872f-05d614448c92",
   "metadata": {},
   "outputs": [
    {
     "name": "stdout",
     "output_type": "stream",
     "text": [
      "This csv has 80332 rows and 11 columns\n"
     ]
    }
   ],
   "source": [
    "nRow, nCol = ufo_df.shape\n",
    "print(f'This csv has {nRow} rows and {nCol} columns')"
   ]
  },
  {
   "cell_type": "code",
   "execution_count": 6,
   "id": "aedf0ff5-4cd3-42e2-a145-c12863018678",
   "metadata": {
    "tags": []
   },
   "outputs": [
    {
     "data": {
      "text/html": [
       "<div>\n",
       "<style scoped>\n",
       "    .dataframe tbody tr th:only-of-type {\n",
       "        vertical-align: middle;\n",
       "    }\n",
       "\n",
       "    .dataframe tbody tr th {\n",
       "        vertical-align: top;\n",
       "    }\n",
       "\n",
       "    .dataframe thead th {\n",
       "        text-align: right;\n",
       "    }\n",
       "</style>\n",
       "<table border=\"1\" class=\"dataframe\">\n",
       "  <thead>\n",
       "    <tr style=\"text-align: right;\">\n",
       "      <th></th>\n",
       "      <th>date</th>\n",
       "      <th>time</th>\n",
       "      <th>city</th>\n",
       "      <th>state</th>\n",
       "      <th>country</th>\n",
       "      <th>shape</th>\n",
       "      <th>duration (seconds)</th>\n",
       "      <th>duration (hours/min)</th>\n",
       "      <th>comments</th>\n",
       "      <th>date posted</th>\n",
       "      <th>latitude</th>\n",
       "      <th>longitude</th>\n",
       "    </tr>\n",
       "  </thead>\n",
       "  <tbody>\n",
       "    <tr>\n",
       "      <th>0</th>\n",
       "      <td>11/11/1906</td>\n",
       "      <td>0:00</td>\n",
       "      <td>wien (austria)</td>\n",
       "      <td>NaN</td>\n",
       "      <td>NaN</td>\n",
       "      <td>other</td>\n",
       "      <td>10800</td>\n",
       "      <td>3 h</td>\n",
       "      <td>The oldest professional photo of a UFO object ...</td>\n",
       "      <td>12/23/2002</td>\n",
       "      <td>48.208174</td>\n",
       "      <td>16.373819</td>\n",
       "    </tr>\n",
       "    <tr>\n",
       "      <th>1</th>\n",
       "      <td>3655</td>\n",
       "      <td>None</td>\n",
       "      <td>kirksville (near)</td>\n",
       "      <td>mo</td>\n",
       "      <td>us</td>\n",
       "      <td>disk</td>\n",
       "      <td>120</td>\n",
       "      <td>minutes</td>\n",
       "      <td>Historical sighting (1903 - 1913) Northern Mis...</td>\n",
       "      <td>9/15/2005</td>\n",
       "      <td>40.1947222</td>\n",
       "      <td>-92.583056</td>\n",
       "    </tr>\n",
       "    <tr>\n",
       "      <th>2</th>\n",
       "      <td>6/1/1910</td>\n",
       "      <td>15:00</td>\n",
       "      <td>wills point</td>\n",
       "      <td>tx</td>\n",
       "      <td>us</td>\n",
       "      <td>cigar</td>\n",
       "      <td>120</td>\n",
       "      <td>2 minutes</td>\n",
       "      <td>Cigar shaped object moving from West to East</td>\n",
       "      <td>4/16/2005</td>\n",
       "      <td>32.7091667</td>\n",
       "      <td>-96.008056</td>\n",
       "    </tr>\n",
       "    <tr>\n",
       "      <th>3</th>\n",
       "      <td>4/5/1916</td>\n",
       "      <td>13:00</td>\n",
       "      <td>france (above; from aircraft)</td>\n",
       "      <td>NaN</td>\n",
       "      <td>NaN</td>\n",
       "      <td>cigar</td>\n",
       "      <td>60</td>\n",
       "      <td>about 1 min.</td>\n",
       "      <td>((NUFORC Note:  Possible hoax.  PD))  Saw 3 ci...</td>\n",
       "      <td>3/9/2004</td>\n",
       "      <td>46.227638</td>\n",
       "      <td>2.213749</td>\n",
       "    </tr>\n",
       "    <tr>\n",
       "      <th>4</th>\n",
       "      <td>6/11/1920</td>\n",
       "      <td>21:00</td>\n",
       "      <td>cicero</td>\n",
       "      <td>in</td>\n",
       "      <td>us</td>\n",
       "      <td>unknown</td>\n",
       "      <td>60</td>\n",
       "      <td>1 minute</td>\n",
       "      <td>((NUFORC Note:  Probable hoax.  Note date.  PD...</td>\n",
       "      <td>5/12/2009</td>\n",
       "      <td>40.1238889</td>\n",
       "      <td>-86.013333</td>\n",
       "    </tr>\n",
       "  </tbody>\n",
       "</table>\n",
       "</div>"
      ],
      "text/plain": [
       "         date   time                           city state country    shape  \\\n",
       "0  11/11/1906   0:00                 wien (austria)   NaN     NaN    other   \n",
       "1        3655   None              kirksville (near)    mo      us     disk   \n",
       "2    6/1/1910  15:00                    wills point    tx      us    cigar   \n",
       "3    4/5/1916  13:00  france (above; from aircraft)   NaN     NaN    cigar   \n",
       "4   6/11/1920  21:00                         cicero    in      us  unknown   \n",
       "\n",
       "  duration (seconds) duration (hours/min)  \\\n",
       "0              10800                  3 h   \n",
       "1                120              minutes   \n",
       "2                120            2 minutes   \n",
       "3                 60         about 1 min.   \n",
       "4                 60             1 minute   \n",
       "\n",
       "                                            comments date posted    latitude  \\\n",
       "0  The oldest professional photo of a UFO object ...  12/23/2002   48.208174   \n",
       "1  Historical sighting (1903 - 1913) Northern Mis...   9/15/2005  40.1947222   \n",
       "2       Cigar shaped object moving from West to East   4/16/2005  32.7091667   \n",
       "3  ((NUFORC Note:  Possible hoax.  PD))  Saw 3 ci...    3/9/2004   46.227638   \n",
       "4  ((NUFORC Note:  Probable hoax.  Note date.  PD...   5/12/2009  40.1238889   \n",
       "\n",
       "   longitude  \n",
       "0  16.373819  \n",
       "1 -92.583056  \n",
       "2 -96.008056  \n",
       "3   2.213749  \n",
       "4 -86.013333  "
      ]
     },
     "execution_count": 6,
     "metadata": {},
     "output_type": "execute_result"
    }
   ],
   "source": [
    "#split datetime into date and time and move them to the front of the df\n",
    "\n",
    "ufo_df[['date', 'time']] = ufo_df.datetime.str.split(' ', expand=True)\n",
    "\n",
    "first_column = ufo_df.pop('time')\n",
    "ufo_df.insert(0, 'time', first_column)\n",
    "\n",
    "first_column = ufo_df.pop('date')\n",
    "ufo_df.insert(0, 'date', first_column)\n",
    "\n",
    "ufo_df.pop('datetime')\n",
    "\n",
    "ufo_df.head()"
   ]
  },
  {
   "cell_type": "code",
   "execution_count": 7,
   "id": "c07be1e7-c032-4752-b059-3164f451a742",
   "metadata": {},
   "outputs": [],
   "source": [
    "#convert 'duration' column from object to float64\n",
    "\n",
    "ufo_df.rename(columns = {'duration (seconds)':'duration_sec'}, inplace = True)\n",
    "\n",
    "ufo_df[\"duration_sec\"] = pd.to_numeric(ufo_df.duration_sec, errors='coerce')\n",
    "\n",
    "#convert 'latitude' and 'longitude' columns from object to float64\n",
    "ufo_df[\"latitude\"] = pd.to_numeric(ufo_df.latitude, errors='coerce')\n",
    "ufo_df[\"longitude\"] = pd.to_numeric(ufo_df.longitude, errors='coerce')"
   ]
  },
  {
   "cell_type": "code",
   "execution_count": 8,
   "id": "b35d64fb-0094-4df4-a870-a4d0635fdbcd",
   "metadata": {},
   "outputs": [
    {
     "data": {
      "text/plain": [
       "date                     object\n",
       "time                     object\n",
       "city                     object\n",
       "state                    object\n",
       "country                  object\n",
       "shape                    object\n",
       "duration_sec            float64\n",
       "duration (hours/min)     object\n",
       "comments                 object\n",
       "date posted              object\n",
       "latitude                float64\n",
       "longitude               float64\n",
       "dtype: object"
      ]
     },
     "execution_count": 8,
     "metadata": {},
     "output_type": "execute_result"
    }
   ],
   "source": [
    "ufo_df.dtypes"
   ]
  },
  {
   "cell_type": "code",
   "execution_count": 9,
   "id": "e397dab6-81a2-4f21-a64b-e4affb6816f5",
   "metadata": {},
   "outputs": [
    {
     "data": {
      "text/plain": [
       "light        16565\n",
       "triangle      7865\n",
       "circle        7608\n",
       "fireball      6208\n",
       "other         5649\n",
       "unknown       5584\n",
       "sphere        5387\n",
       "disk          5213\n",
       "oval          3733\n",
       "formation     2457\n",
       "cigar         2057\n",
       "changing      1962\n",
       "flash         1328\n",
       "rectangle     1297\n",
       "cylinder      1283\n",
       "diamond       1178\n",
       "chevron        952\n",
       "egg            759\n",
       "teardrop       750\n",
       "cone           316\n",
       "cross          233\n",
       "delta            7\n",
       "round            2\n",
       "crescent         2\n",
       "dome             1\n",
       "changed          1\n",
       "pyramid          1\n",
       "flare            1\n",
       "hexagon          1\n",
       "Name: shape, dtype: int64"
      ]
     },
     "execution_count": 9,
     "metadata": {},
     "output_type": "execute_result"
    }
   ],
   "source": [
    "ufo_df['shape'].value_counts()"
   ]
  },
  {
   "cell_type": "code",
   "execution_count": 10,
   "id": "44255646-6164-4ce5-9867-4f639c4a462e",
   "metadata": {},
   "outputs": [
    {
     "data": {
      "text/plain": [
       "ca    9655\n",
       "wa    4268\n",
       "fl    4200\n",
       "tx    3677\n",
       "ny    3219\n",
       "      ... \n",
       "nf      25\n",
       "nt      20\n",
       "pe      17\n",
       "yt      13\n",
       "yk       7\n",
       "Name: state, Length: 67, dtype: int64"
      ]
     },
     "execution_count": 10,
     "metadata": {},
     "output_type": "execute_result"
    }
   ],
   "source": [
    "ufo_df['state'].value_counts()"
   ]
  },
  {
   "cell_type": "code",
   "execution_count": 11,
   "id": "94ea6883-ad7e-46d3-9daf-c6c15afd8a6a",
   "metadata": {},
   "outputs": [
    {
     "data": {
      "text/plain": [
       "seattle                  525\n",
       "phoenix                  454\n",
       "portland                 374\n",
       "las vegas                368\n",
       "los angeles              353\n",
       "                        ... \n",
       "100 mile (canada)          1\n",
       "leamington (canada)        1\n",
       "lousa (portugal)           1\n",
       "san bernardino county      1\n",
       "inverloch (australia)      1\n",
       "Name: city, Length: 19900, dtype: int64"
      ]
     },
     "execution_count": 11,
     "metadata": {},
     "output_type": "execute_result"
    }
   ],
   "source": [
    "ufo_df['city'].value_counts()"
   ]
  },
  {
   "cell_type": "code",
   "execution_count": null,
   "id": "50fd797d-d7d6-45d8-9e9d-fa2bd323a5de",
   "metadata": {},
   "outputs": [],
   "source": []
  },
  {
   "cell_type": "code",
   "execution_count": 12,
   "id": "918b1041-b7d9-4c98-867d-e31fc8f70e1f",
   "metadata": {},
   "outputs": [
    {
     "data": {
      "text/plain": [
       "id                     int64\n",
       "ident                 object\n",
       "type                  object\n",
       "name                  object\n",
       "latitude_deg         float64\n",
       "longitude_deg        float64\n",
       "coordinates           object\n",
       "elevation_ft         float64\n",
       "continent             object\n",
       "country_name          object\n",
       "iso_country           object\n",
       "region_name           object\n",
       "iso_region            object\n",
       "local_region          object\n",
       "municipality          object\n",
       "scheduled_service      int64\n",
       "gps_code              object\n",
       "iata_code             object\n",
       "local_code            object\n",
       "home_link             object\n",
       "wikipedia_link        object\n",
       "keywords              object\n",
       "score                  int64\n",
       "last_updated          object\n",
       "dtype: object"
      ]
     },
     "execution_count": 12,
     "metadata": {},
     "output_type": "execute_result"
    }
   ],
   "source": [
    "airport_df.dtypes"
   ]
  },
  {
   "cell_type": "code",
   "execution_count": 13,
   "id": "3c1c9477-dc6d-4d5f-b9a1-17d099d4db51",
   "metadata": {},
   "outputs": [
    {
     "name": "stdout",
     "output_type": "stream",
     "text": [
      "<class 'pandas.core.frame.DataFrame'>\n",
      "RangeIndex: 80332 entries, 0 to 80331\n",
      "Data columns (total 12 columns):\n",
      " #   Column                Non-Null Count  Dtype  \n",
      "---  ------                --------------  -----  \n",
      " 0   date                  80332 non-null  object \n",
      " 1   time                  79638 non-null  object \n",
      " 2   city                  80332 non-null  object \n",
      " 3   state                 74535 non-null  object \n",
      " 4   country               70662 non-null  object \n",
      " 5   shape                 78400 non-null  object \n",
      " 6   duration_sec          80329 non-null  float64\n",
      " 7   duration (hours/min)  80332 non-null  object \n",
      " 8   comments              80317 non-null  object \n",
      " 9   date posted           80332 non-null  object \n",
      " 10  lat                   80331 non-null  float64\n",
      " 11  lon                   80332 non-null  float64\n",
      "dtypes: float64(3), object(9)\n",
      "memory usage: 7.4+ MB\n",
      "\n",
      " XXXXXXXXXXXXXXXXXXXXXXX\n",
      "\n",
      "<class 'pandas.core.frame.DataFrame'>\n",
      "RangeIndex: 29084 entries, 0 to 29083\n",
      "Data columns (total 24 columns):\n",
      " #   Column             Non-Null Count  Dtype  \n",
      "---  ------             --------------  -----  \n",
      " 0   id                 29084 non-null  int64  \n",
      " 1   ident              29084 non-null  object \n",
      " 2   type               29084 non-null  object \n",
      " 3   name               29084 non-null  object \n",
      " 4   lat                29084 non-null  float64\n",
      " 5   lon                29084 non-null  float64\n",
      " 6   coordinates        29084 non-null  object \n",
      " 7   elevation_ft       27106 non-null  float64\n",
      " 8   continent          119 non-null    object \n",
      " 9   country_name       29084 non-null  object \n",
      " 10  iso_country        29084 non-null  object \n",
      " 11  region_name        29084 non-null  object \n",
      " 12  iso_region         29084 non-null  object \n",
      " 13  local_region       29084 non-null  object \n",
      " 14  municipality       29019 non-null  object \n",
      " 15  scheduled_service  29084 non-null  int64  \n",
      " 16  gps_code           20762 non-null  object \n",
      " 17  iata_code          2029 non-null   object \n",
      " 18  local_code         21587 non-null  object \n",
      " 19  home_link          1053 non-null   object \n",
      " 20  wikipedia_link     2475 non-null   object \n",
      " 21  keywords           4767 non-null   object \n",
      " 22  score              29084 non-null  int64  \n",
      " 23  last_updated       29084 non-null  object \n",
      "dtypes: float64(3), int64(3), object(18)\n",
      "memory usage: 5.3+ MB\n"
     ]
    }
   ],
   "source": [
    "ufo_df=ufo_df.rename(columns = {'latitude':'lat','longitude':'lon'})\n",
    "airport_df=airport_df.rename(columns = {'latitude_deg':'lat','longitude_deg':'lon'})\n",
    "# To make sure that there are no null values and All are either integers/ Float values\n",
    "ufo_df.info() \n",
    "print('\\n XXXXXXXXXXXXXXXXXXXXXXX\\n')\n",
    "airport_df.info()"
   ]
  },
  {
   "cell_type": "code",
   "execution_count": 14,
   "id": "df4fca5f-371b-40dd-9c19-0b4a9ad0e9e7",
   "metadata": {},
   "outputs": [],
   "source": [
    "def dist(lat1, long1, lat2, long2):\n",
    "    \"\"\"\n",
    "    Calculate the great circle distance between two points \n",
    "    on the earth (specified in decimal degrees)\n",
    "    \"\"\"\n",
    "    # convert decimal degrees to radians \n",
    "    lat1, long1, lat2, long2 = map(np.radians, [lat1, long1, lat2, long2])\n",
    "    # haversine formula \n",
    "    dlon = long2 - long1 \n",
    "    dlat = lat2 - lat1 \n",
    "    a = np.sin(dlat/2)**2 + np.cos(lat1) * np.cos(lat2) * np.sin(dlon/2)**2\n",
    "    c = 2 * np.arcsin(np.sqrt(a))\n",
    "    # Radius of earth in kilometers is 6371\n",
    "    km = 6371* c\n",
    "    return km"
   ]
  },
  {
   "cell_type": "code",
   "execution_count": 15,
   "id": "79125753-c92f-4347-af4e-7161a8eb3259",
   "metadata": {},
   "outputs": [],
   "source": [
    "def find_nearest(lat, long):\n",
    "    distances = airport_df.apply(\n",
    "        lambda row: dist(lat, long, row['lat'], row['lon']), \n",
    "        axis=1)\n",
    "    return airport_df.loc[distances.idxmin(), 'name']"
   ]
  },
  {
   "cell_type": "code",
   "execution_count": null,
   "id": "3f828796-f96a-4b48-add1-ca96e3bde617",
   "metadata": {},
   "outputs": [],
   "source": [
    "ufo_df['name'] = ufo_df.apply(\n",
    "    lambda row: find_nearest(row['lat'], row['lon']), \n",
    "    axis=1)\n",
    "ufo_df.head()"
   ]
  },
  {
   "cell_type": "code",
   "execution_count": null,
   "id": "890b8cfc-038a-4e38-9f87-ee01fcc45ae0",
   "metadata": {},
   "outputs": [],
   "source": [
    "ufo_df = pd.merge(ufo_df,airport_df[['name','lat','lon']],on='name', how='left')\n",
    "# Rename the new columns as both the columns has same name, and python gets confused \n",
    "ufo_df=ufo_df.rename(columns = {'lat_x':'m_lat','lon_x':'m_lon','lat_y':'h_lat','lon_y':'h_lon'})\n",
    "ufo_df.head()"
   ]
  },
  {
   "cell_type": "code",
   "execution_count": null,
   "id": "4971ad13-fcfa-42a2-85da-bf01ae547284",
   "metadata": {},
   "outputs": [],
   "source": []
  },
  {
   "cell_type": "code",
   "execution_count": null,
   "id": "b28017da-3dab-4bbd-823f-7fc113689a81",
   "metadata": {},
   "outputs": [],
   "source": []
  }
 ],
 "metadata": {
  "kernelspec": {
   "display_name": "Python 3 (ipykernel)",
   "language": "python",
   "name": "python3"
  },
  "language_info": {
   "codemirror_mode": {
    "name": "ipython",
    "version": 3
   },
   "file_extension": ".py",
   "mimetype": "text/x-python",
   "name": "python",
   "nbconvert_exporter": "python",
   "pygments_lexer": "ipython3",
   "version": "3.9.7"
  }
 },
 "nbformat": 4,
 "nbformat_minor": 5
}
